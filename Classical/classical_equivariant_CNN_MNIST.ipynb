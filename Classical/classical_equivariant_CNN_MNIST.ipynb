{
  "cells": [
    {
      "cell_type": "markdown",
      "metadata": {
        "collapsed": true,
        "id": "RfHenuLp73dY"
      },
      "source": [
        "# E(n)-Equivariant Steerable CNNs  -  A concrete example\n"
      ]
    },
    {
      "cell_type": "code",
      "execution_count": 1,
      "metadata": {
        "id": "tWxBW8tZ732Y"
      },
      "outputs": [],
      "source": [
        "%%capture\n",
        "pip install escnn torch torchvision"
      ]
    },
    {
      "cell_type": "code",
      "execution_count": 2,
      "metadata": {
        "id": "srlaC2EN73da",
        "pycharm": {
          "is_executing": false
        }
      },
      "outputs": [],
      "source": [
        "import sys\n",
        "\n",
        "sys.path.append(\"./\")\n",
        "\n",
        "import torch\n",
        "\n",
        "from escnn import gspaces\n",
        "from escnn import nn"
      ]
    },
    {
      "cell_type": "markdown",
      "metadata": {
        "id": "LMq7PEki73db"
      },
      "source": [
        "Finally, we build a **Steerable CNN** and try it on MNIST.\n",
        "\n",
        "Let's also use a group a bit larger: we now build a model equivariant to $8$ rotations.\n",
        "We indicate the group of $N$ discrete rotations as $C_N$, i.e. the **cyclic group** of order $N$.\n",
        "In this case, we will use $C_8$.\n",
        "\n",
        "Because the inputs are still gray-scale images, the input type of the model is again a *scalar field*.\n",
        "\n",
        "However, internally we use *regular fields*: this is equivalent to a *group-equivariant convolutional neural network*.\n",
        "\n",
        "Finally, we build *invariant* features for the final classification task by pooling over the group using *Group Pooling*.\n",
        "\n",
        "The final classification is performed by a two fully connected layers."
      ]
    },
    {
      "cell_type": "markdown",
      "metadata": {
        "id": "T2JWmp9y73db"
      },
      "source": [
        "# The model\n",
        "\n",
        "Here is the definition of our model:"
      ]
    },
    {
      "cell_type": "code",
      "execution_count": 3,
      "metadata": {
        "id": "vP8hzfqx73dc"
      },
      "outputs": [],
      "source": [
        "class C8SteerableCNN(torch.nn.Module):\n",
        "\n",
        "    def __init__(self, n_classes=2):\n",
        "\n",
        "        super(C8SteerableCNN, self).__init__()\n",
        "\n",
        "        # the model is equivariant under rotations by 45 degrees, modelled by C8\n",
        "        self.r2_act = gspaces.rot2dOnR2(N=8)\n",
        "\n",
        "        # the input image is a scalar field, corresponding to the trivial representation\n",
        "        in_type = nn.FieldType(self.r2_act, [self.r2_act.trivial_repr])\n",
        "\n",
        "        # we store the input type for wrapping the images into a geometric tensor during the forward pass\n",
        "        self.input_type = in_type\n",
        "\n",
        "        # convolution 1\n",
        "        # first specify the output type of the convolutional layer\n",
        "        # we choose 24 feature fields, each transforming under the regular representation of C8\n",
        "        out_type = nn.FieldType(self.r2_act, 24*[self.r2_act.regular_repr])\n",
        "        self.block1 = nn.SequentialModule(\n",
        "            nn.MaskModule(in_type, 29, margin=1),\n",
        "            nn.R2Conv(in_type, out_type, kernel_size=7, padding=1, bias=False),\n",
        "            nn.InnerBatchNorm(out_type),\n",
        "            nn.ReLU(out_type, inplace=True)\n",
        "        )\n",
        "\n",
        "        # convolution 2\n",
        "        # the old output type is the input type to the next layer\n",
        "        in_type = self.block1.out_type\n",
        "        # the output type of the second convolution layer are 48 regular feature fields of C8\n",
        "        out_type = nn.FieldType(self.r2_act, 48*[self.r2_act.regular_repr])\n",
        "        self.block2 = nn.SequentialModule(\n",
        "            nn.R2Conv(in_type, out_type, kernel_size=5, padding=2, bias=False),\n",
        "            nn.InnerBatchNorm(out_type),\n",
        "            nn.ReLU(out_type, inplace=True)\n",
        "        )\n",
        "        self.pool1 = nn.SequentialModule(\n",
        "            nn.PointwiseAvgPoolAntialiased(out_type, sigma=0.66, stride=2)\n",
        "        )\n",
        "\n",
        "        # convolution 3\n",
        "        # the old output type is the input type to the next layer\n",
        "        in_type = self.block2.out_type\n",
        "        # the output type of the third convolution layer are 48 regular feature fields of C8\n",
        "        out_type = nn.FieldType(self.r2_act, 48*[self.r2_act.regular_repr])\n",
        "        self.block3 = nn.SequentialModule(\n",
        "            nn.R2Conv(in_type, out_type, kernel_size=5, padding=2, bias=False),\n",
        "            nn.InnerBatchNorm(out_type),\n",
        "            nn.ReLU(out_type, inplace=True)\n",
        "        )\n",
        "\n",
        "        # convolution 4\n",
        "        # the old output type is the input type to the next layer\n",
        "        in_type = self.block3.out_type\n",
        "        # the output type of the fourth convolution layer are 96 regular feature fields of C8\n",
        "        out_type = nn.FieldType(self.r2_act, 96*[self.r2_act.regular_repr])\n",
        "        self.block4 = nn.SequentialModule(\n",
        "            nn.R2Conv(in_type, out_type, kernel_size=5, padding=2, bias=False),\n",
        "            nn.InnerBatchNorm(out_type),\n",
        "            nn.ReLU(out_type, inplace=True)\n",
        "        )\n",
        "        self.pool2 = nn.SequentialModule(\n",
        "            nn.PointwiseAvgPoolAntialiased(out_type, sigma=0.66, stride=2)\n",
        "        )\n",
        "\n",
        "        # convolution 5\n",
        "        # the old output type is the input type to the next layer\n",
        "        in_type = self.block4.out_type\n",
        "        # the output type of the fifth convolution layer are 96 regular feature fields of C8\n",
        "        out_type = nn.FieldType(self.r2_act, 96*[self.r2_act.regular_repr])\n",
        "        self.block5 = nn.SequentialModule(\n",
        "            nn.R2Conv(in_type, out_type, kernel_size=5, padding=2, bias=False),\n",
        "            nn.InnerBatchNorm(out_type),\n",
        "            nn.ReLU(out_type, inplace=True)\n",
        "        )\n",
        "\n",
        "        # convolution 6\n",
        "        # the old output type is the input type to the next layer\n",
        "        in_type = self.block5.out_type\n",
        "        # the output type of the sixth convolution layer are 64 regular feature fields of C8\n",
        "        out_type = nn.FieldType(self.r2_act, 64*[self.r2_act.regular_repr])\n",
        "        self.block6 = nn.SequentialModule(\n",
        "            nn.R2Conv(in_type, out_type, kernel_size=5, padding=1, bias=False),\n",
        "            nn.InnerBatchNorm(out_type),\n",
        "            nn.ReLU(out_type, inplace=True)\n",
        "        )\n",
        "        self.pool3 = nn.PointwiseAvgPoolAntialiased(out_type, sigma=0.66, stride=1, padding=0)\n",
        "\n",
        "        self.gpool = nn.GroupPooling(out_type)\n",
        "\n",
        "        # number of output channels\n",
        "        c = self.gpool.out_type.size\n",
        "\n",
        "        # Fully Connected\n",
        "        self.fully_net = torch.nn.Sequential(\n",
        "            torch.nn.Linear(c, 64),\n",
        "            torch.nn.BatchNorm1d(64),\n",
        "            torch.nn.ELU(inplace=True),\n",
        "            torch.nn.Linear(64, n_classes),\n",
        "        )\n",
        "\n",
        "    def forward(self, input: torch.Tensor):\n",
        "        # wrap the input tensor in a GeometricTensor\n",
        "        # (associate it with the input type)\n",
        "        x = nn.GeometricTensor(input, self.input_type)\n",
        "\n",
        "        # apply each equivariant block\n",
        "\n",
        "        # Each layer has an input and an output type\n",
        "        # A layer takes a GeometricTensor in input.\n",
        "        # This tensor needs to be associated with the same representation of the layer's input type\n",
        "        #\n",
        "        # The Layer outputs a new GeometricTensor, associated with the layer's output type.\n",
        "        # As a result, consecutive layers need to have matching input/output types\n",
        "        x = self.block1(x)\n",
        "        x = self.block2(x)\n",
        "        x = self.pool1(x)\n",
        "\n",
        "        x = self.block3(x)\n",
        "        x = self.block4(x)\n",
        "        x = self.pool2(x)\n",
        "\n",
        "        x = self.block5(x)\n",
        "        x = self.block6(x)\n",
        "\n",
        "        # pool over the spatial dimensions\n",
        "        x = self.pool3(x)\n",
        "\n",
        "        # pool over the group\n",
        "        x = self.gpool(x)\n",
        "\n",
        "        # unwrap the output GeometricTensor\n",
        "        # (take the Pytorch tensor and discard the associated representation)\n",
        "        x = x.tensor\n",
        "\n",
        "        # classify with the final fully connected layers)\n",
        "        x = self.fully_net(x.reshape(x.shape[0], -1))\n",
        "\n",
        "        return x"
      ]
    },
    {
      "cell_type": "markdown",
      "metadata": {
        "id": "e_XsCWDj73dc"
      },
      "source": [
        "Let's try the model on *rotated* MNIST"
      ]
    },
    {
      "cell_type": "code",
      "execution_count": 4,
      "metadata": {
        "colab": {
          "base_uri": "https://localhost:8080/"
        },
        "id": "SdORjk1T73dc",
        "outputId": "04c9bc34-f336-4230-d3e9-3ca13ee11d90"
      },
      "outputs": [
        {
          "output_type": "stream",
          "name": "stdout",
          "text": [
            "--2024-10-18 20:43:05--  http://www.iro.umontreal.ca/~lisa/icml2007data/mnist_rotation_new.zip\n",
            "Resolving www.iro.umontreal.ca (www.iro.umontreal.ca)... 132.204.26.36\n",
            "Connecting to www.iro.umontreal.ca (www.iro.umontreal.ca)|132.204.26.36|:80... connected.\n",
            "HTTP request sent, awaiting response... 200 OK\n",
            "Length: 58424278 (56M) [application/zip]\n",
            "Saving to: ‘mnist_rotation_new.zip’\n",
            "\n",
            "mnist_rotation_new. 100%[===================>]  55.72M  35.1MB/s    in 1.6s    \n",
            "\n",
            "2024-10-18 20:43:07 (35.1 MB/s) - ‘mnist_rotation_new.zip’ saved [58424278/58424278]\n",
            "\n",
            "Archive:  mnist_rotation_new.zip\n",
            "  inflating: mnist_rotation_new/mnist_all_rotation_normalized_float_train_valid.amat  \n",
            "  inflating: mnist_rotation_new/mnist_all_rotation_normalized_float_test.amat  \n"
          ]
        }
      ],
      "source": [
        "# download the dataset\n",
        "!wget -nc http://www.iro.umontreal.ca/~lisa/icml2007data/mnist_rotation_new.zip\n",
        "# uncompress the zip file\n",
        "!unzip -n mnist_rotation_new.zip -d mnist_rotation_new"
      ]
    },
    {
      "cell_type": "code",
      "execution_count": 5,
      "metadata": {
        "id": "niP_OU8k73dd"
      },
      "outputs": [],
      "source": [
        "from torch.utils.data import Dataset\n",
        "from torchvision.transforms import RandomRotation\n",
        "from torchvision.transforms import Pad\n",
        "from torchvision.transforms import Resize\n",
        "from torchvision.transforms import ToTensor\n",
        "from torchvision.transforms import Compose\n",
        "from torchvision.transforms import InterpolationMode\n",
        "\n",
        "import numpy as np\n",
        "import matplotlib.pyplot as plt\n",
        "from PIL import Image\n",
        "\n",
        "device = \"cuda\" if torch.cuda.is_available() else \"cpu\""
      ]
    },
    {
      "cell_type": "markdown",
      "metadata": {
        "id": "nYnmB2sy73de"
      },
      "source": [
        "Build the dataset"
      ]
    },
    {
      "cell_type": "code",
      "execution_count": 6,
      "metadata": {
        "id": "UL3THo3c73de"
      },
      "outputs": [],
      "source": [
        "class MnistRotDataset(Dataset):\n",
        "\n",
        "    def __init__(self, mode, transform=None):\n",
        "        assert mode in ['train', 'test']\n",
        "\n",
        "        if mode == \"train\":\n",
        "            file = \"mnist_rotation_new/mnist_all_rotation_normalized_float_train_valid.amat\"\n",
        "        else:\n",
        "            file = \"mnist_rotation_new/mnist_all_rotation_normalized_float_test.amat\"\n",
        "\n",
        "        self.transform = transform\n",
        "\n",
        "        data = np.loadtxt(file, delimiter=' ')\n",
        "\n",
        "        images = data[:, :-1].reshape(-1, 28, 28).astype(np.float32)\n",
        "        labels = data[:, -1].astype(np.int64)\n",
        "\n",
        "        mask = (labels == 0) | (labels == 1)\n",
        "        self.images = images[mask]\n",
        "        self.labels = labels[mask]\n",
        "\n",
        "        self.num_samples = len(self.labels)\n",
        "\n",
        "    def __getitem__(self, index):\n",
        "        image, label = self.images[index], self.labels[index]\n",
        "        image = Image.fromarray(image, mode='F')\n",
        "        if self.transform is not None:\n",
        "            image = self.transform(image)\n",
        "        return image, label\n",
        "\n",
        "    def __len__(self):\n",
        "        return len(self.labels)\n",
        "\n",
        "pad = Pad((0, 0, 1, 1), fill=0)\n",
        "resize1 = Resize(87)\n",
        "resize2 = Resize(29)\n",
        "totensor = ToTensor()\n"
      ]
    },
    {
      "cell_type": "markdown",
      "metadata": {
        "id": "x7OHvK9b73de"
      },
      "source": [
        "Let's build the model"
      ]
    },
    {
      "cell_type": "code",
      "execution_count": 7,
      "metadata": {
        "id": "u3ycteqX73de"
      },
      "outputs": [],
      "source": [
        "model = C8SteerableCNN().to(device)"
      ]
    },
    {
      "cell_type": "markdown",
      "metadata": {
        "id": "ubWu3rIx73de"
      },
      "source": [
        "The model is now randomly initialized.\n",
        "Therefore, we do not expect it to produce the right class probabilities.\n",
        "\n",
        "However, the model should still produce the same output for rotated versions of the same image.\n",
        "This is true for rotations by multiples of $\\frac{\\pi}{2}$, but is only approximate for rotations by $\\frac{\\pi}{4}$.\n",
        "\n",
        "Let's test it on a random test image:\n",
        "we feed eight rotated versions of the first image in the test set and print the output logits of the model for each of them."
      ]
    },
    {
      "cell_type": "code",
      "execution_count": 8,
      "metadata": {
        "id": "fOLM6Ikf73df"
      },
      "outputs": [],
      "source": [
        "\n",
        "def test_model(model: torch.nn.Module, x: Image):\n",
        "    np.set_printoptions(linewidth=10000)\n",
        "\n",
        "    # evaluate the `model` on 8 rotated versions of the input image `x`\n",
        "    model.eval()\n",
        "\n",
        "    x = resize1(pad(x))\n",
        "\n",
        "    print()\n",
        "    print('##########################################################################################')\n",
        "    header = 'angle |  ' + '  '.join([\"{:6d}\".format(d) for d in range(2)])\n",
        "    print(header)\n",
        "    with torch.no_grad():\n",
        "        for r in range(8):\n",
        "            x_transformed = totensor(resize2(x.rotate(r*45., Image.BILINEAR))).reshape(1, 1, 29, 29)\n",
        "            x_transformed = x_transformed.to(device)\n",
        "\n",
        "            y = model(x_transformed)\n",
        "            y = y.to('cpu').numpy().squeeze()\n",
        "\n",
        "            angle = r * 45\n",
        "            print(\"{:5d} : {}\".format(angle, y))\n",
        "    print('##########################################################################################')\n",
        "    print()\n",
        "\n"
      ]
    },
    {
      "cell_type": "code",
      "execution_count": 9,
      "metadata": {
        "id": "yKFntNCg73df"
      },
      "outputs": [],
      "source": [
        "# build the test set\n",
        "raw_mnist_test = MnistRotDataset(mode='test')"
      ]
    },
    {
      "cell_type": "code",
      "execution_count": 10,
      "metadata": {
        "colab": {
          "base_uri": "https://localhost:8080/"
        },
        "id": "1IM0Zfi773df",
        "outputId": "fe1ec363-b190-473f-ffa9-53e5b473b9ca"
      },
      "outputs": [
        {
          "output_type": "stream",
          "name": "stdout",
          "text": [
            "\n",
            "##########################################################################################\n",
            "angle |       0       1\n",
            "    0 : [ 0.45384812 -0.10304809]\n",
            "   45 : [ 0.4417283  -0.08672097]\n",
            "   90 : [ 0.45385242 -0.10304705]\n",
            "  135 : [ 0.44173586 -0.08672645]\n",
            "  180 : [ 0.453848   -0.10304652]\n",
            "  225 : [ 0.44172937 -0.08673571]\n",
            "  270 : [ 0.45384783 -0.10306168]\n",
            "  315 : [ 0.4417327  -0.08673866]\n",
            "##########################################################################################\n",
            "\n"
          ]
        }
      ],
      "source": [
        "# retrieve the first image from the test set\n",
        "x, y = next(iter(raw_mnist_test))\n",
        "\n",
        "# evaluate the model\n",
        "test_model(model, x)"
      ]
    },
    {
      "cell_type": "markdown",
      "metadata": {
        "id": "Hiv2hgLH73df"
      },
      "source": [
        "The output of the model is already almost invariant.\n",
        "However, we still observe small fluctuations in the outputs.\n",
        "\n",
        "This is because the model contains some operations which might break equivariance.\n",
        "For instance, every convolution includes a padding of $2$ pixels per side. This is adds information about the actual orientation of the grid where the image/feature map is sampled because the padding is not rotated with the image.\n",
        "\n",
        "During training, the model will observe rotated patterns and will learn to ignore the noise coming from the padding."
      ]
    },
    {
      "cell_type": "markdown",
      "metadata": {
        "id": "W9ZKJfQ373df"
      },
      "source": [
        "So, let's train the model now.\n",
        "The model is exactly the same used to train a normal *PyTorch* architecture:"
      ]
    },
    {
      "cell_type": "code",
      "execution_count": 11,
      "metadata": {
        "colab": {
          "base_uri": "https://localhost:8080/",
          "height": 328
        },
        "id": "_H8w3dATo8aL",
        "outputId": "cefbfec2-8a8e-45e3-9122-f13b3d9d7808"
      },
      "outputs": [
        {
          "output_type": "stream",
          "name": "stdout",
          "text": [
            "torch.Size([1, 28, 28])\n",
            "torch.Size([1, 28, 28])\n",
            "torch.Size([1, 28, 28])\n",
            "torch.Size([1, 28, 28])\n",
            "torch.Size([1, 28, 28])\n"
          ]
        },
        {
          "output_type": "display_data",
          "data": {
            "text/plain": [
              "<Figure size 1500x300 with 5 Axes>"
            ],
            "image/png": "[encoded data removed]"
          },
          "metadata": {}
        }
      ],
      "source": [
        "import torchvision.transforms as transforms\n",
        "\n",
        "fig, axs = plt.subplots(1, 5, figsize=(15, 3))\n",
        "\n",
        "for i in range(5):\n",
        "    imagen = raw_mnist_test[i][0]\n",
        "    transform = transforms.ToTensor()\n",
        "    tensor_imagen = transform(imagen)\n",
        "    print(tensor_imagen.shape)\n",
        "    axs[i].imshow(tensor_imagen.squeeze(), cmap='gray')\n",
        "    axs[i].axis('off')\n",
        "\n",
        "plt.show()"
      ]
    },
    {
      "cell_type": "code",
      "execution_count": 12,
      "metadata": {
        "id": "Cnr4CgbL73df"
      },
      "outputs": [],
      "source": [
        "train_transform = Compose([\n",
        "    pad,\n",
        "    resize1,\n",
        "    RandomRotation(180., interpolation=InterpolationMode.BILINEAR, expand=False),\n",
        "    resize2,\n",
        "    totensor,\n",
        "])\n",
        "\n",
        "mnist_train = MnistRotDataset(mode='train', transform=train_transform)\n",
        "train_loader = torch.utils.data.DataLoader(mnist_train, batch_size=64)\n",
        "\n",
        "\n",
        "test_transform = Compose([\n",
        "    pad,\n",
        "    totensor,\n",
        "])\n",
        "mnist_test = MnistRotDataset(mode='test', transform=test_transform)\n",
        "test_loader = torch.utils.data.DataLoader(mnist_test, batch_size=64)\n",
        "\n",
        "loss_function = torch.nn.CrossEntropyLoss()\n",
        "optimizer = torch.optim.Adam(model.parameters(), lr=5e-5, weight_decay=1e-5)"
      ]
    },
    {
      "cell_type": "code",
      "execution_count": 13,
      "metadata": {
        "id": "9J6IIId4NT4D"
      },
      "outputs": [],
      "source": [
        "from torch.utils.data import DataLoader, Subset\n",
        "import numpy as np\n",
        "\n",
        "dataset_size = len(mnist_train)\n",
        "indices = list(range(dataset_size))\n",
        "np.random.shuffle(indices)\n",
        "\n",
        "subset_size = int(dataset_size * 0.2)\n",
        "subset_indices = indices[:subset_size]\n",
        "\n",
        "train_subset = Subset(mnist_train, subset_indices)\n",
        "\n",
        "train_loader = DataLoader(train_subset, batch_size=64, shuffle=True)"
      ]
    },
    {
      "cell_type": "code",
      "execution_count": 14,
      "metadata": {
        "colab": {
          "base_uri": "https://localhost:8080/"
        },
        "id": "O2nveUaf73dg",
        "outputId": "5ee51c08-6948-47cd-ec12-35f165ca043d"
      },
      "outputs": [
        {
          "output_type": "stream",
          "name": "stdout",
          "text": [
            "Epoch 1/10 | Train Acc: 88.67% | Test Acc: 91.36%\n",
            "Epoch 2/10 | Train Acc: 97.85% | Test Acc: 98.31%\n",
            "Epoch 3/10 | Train Acc: 99.80% | Test Acc: 99.32%\n",
            "Epoch 4/10 | Train Acc: 100.00% | Test Acc: 99.67%\n",
            "Epoch 5/10 | Train Acc: 99.80% | Test Acc: 99.72%\n",
            "Epoch 6/10 | Train Acc: 99.80% | Test Acc: 99.72%\n",
            "Epoch 7/10 | Train Acc: 100.00% | Test Acc: 99.74%\n",
            "Epoch 8/10 | Train Acc: 100.00% | Test Acc: 99.81%\n",
            "Epoch 9/10 | Train Acc: 100.00% | Test Acc: 99.84%\n",
            "Epoch 10/10 | Train Acc: 100.00% | Test Acc: 99.86%\n",
            "Metrics have been saved to mnist_metrics.csv\n"
          ]
        }
      ],
      "source": [
        "import csv\n",
        "import time\n",
        "\n",
        "# Initialize variables to store metrics\n",
        "training_time = 0\n",
        "inference_time = 0\n",
        "final_train_accuracy = 0\n",
        "final_test_accuracy = 0\n",
        "\n",
        "# Function to calculate accuracy\n",
        "def calculate_accuracy(model, loader, device):\n",
        "    model.eval()\n",
        "    correct = 0\n",
        "    total = 0\n",
        "    with torch.no_grad():\n",
        "        for x, t in loader:\n",
        "            x, t = x.to(device), t.to(device)\n",
        "            outputs = model(x)\n",
        "            _, predicted = torch.max(outputs.data, 1)\n",
        "            total += t.size(0)\n",
        "            correct += (predicted == t).sum().item()\n",
        "    return 100 * correct / total\n",
        "\n",
        "# Start timing the training\n",
        "start_time = time.time()\n",
        "\n",
        "for epoch in range(10):\n",
        "    model.train()\n",
        "    for i, (x, t) in enumerate(train_loader):\n",
        "        optimizer.zero_grad()\n",
        "        x, t = x.to(device), t.to(device)\n",
        "        y = model(x)\n",
        "        loss = loss_function(y, t)\n",
        "        loss.backward()\n",
        "        optimizer.step()\n",
        "\n",
        "    # Calculate accuracies\n",
        "    train_accuracy = calculate_accuracy(model, train_loader, device)\n",
        "    test_accuracy = calculate_accuracy(model, test_loader, device)\n",
        "\n",
        "    print(f\"Epoch {epoch+1}/10 | Train Acc: {train_accuracy:.2f}% | Test Acc: {test_accuracy:.2f}%\")\n",
        "\n",
        "    # Update final accuracies\n",
        "    final_train_accuracy = train_accuracy\n",
        "    final_test_accuracy = test_accuracy\n",
        "\n",
        "# End timing the training\n",
        "end_time = time.time()\n",
        "training_time = end_time - start_time\n",
        "\n",
        "# Measure inference time\n",
        "inference_start_time = time.time()\n",
        "model.eval()\n",
        "with torch.no_grad():\n",
        "    for x, _ in test_loader:\n",
        "        x = x.to(device)\n",
        "        _ = model(x)\n",
        "inference_end_time = time.time()\n",
        "inference_time = inference_end_time - inference_start_time\n",
        "\n",
        "# Prepare metrics for CSV\n",
        "metrics = {\n",
        "    'Optimizer': 'Adam',\n",
        "    'Learning_Rate': 5e-5,\n",
        "    'Weight_Decay': 1e-5,\n",
        "    'Batch_Size': 64,\n",
        "    'Epochs': 10,\n",
        "    'Loss_Function': 'CrossEntropyLoss',\n",
        "    'Training_Subset_Size': f\"{subset_size} (10% of full dataset)\",\n",
        "    'Training_Time': f\"{training_time:.2f}\",\n",
        "    'Inference_Time': f\"{inference_time:.2f}\",\n",
        "    'Final_Train_Accuracy': f\"{final_train_accuracy:.2f}\",\n",
        "    'Final_Test_Accuracy': f\"{final_test_accuracy:.2f}\"\n",
        "}\n",
        "\n",
        "# Write metrics to CSV\n",
        "csv_filename = 'mnist_metrics.csv'\n",
        "with open(csv_filename, 'w', newline='') as csvfile:\n",
        "    writer = csv.DictWriter(csvfile, fieldnames=metrics.keys())\n",
        "    writer.writeheader()\n",
        "    writer.writerow(metrics)\n",
        "\n",
        "print(f\"Metrics have been saved to {csv_filename}\")"
      ]
    },
    {
      "cell_type": "code",
      "execution_count": 15,
      "metadata": {
        "colab": {
          "base_uri": "https://localhost:8080/"
        },
        "id": "QpZrL-Cl73dg",
        "outputId": "1eea9282-ed2e-4261-dc89-74d2d7229e2c"
      },
      "outputs": [
        {
          "output_type": "stream",
          "name": "stdout",
          "text": [
            "\n",
            "##########################################################################################\n",
            "angle |       0       1\n",
            "    0 : [ 2.5124595 -2.3499515]\n",
            "   45 : [ 2.6684754 -2.3709362]\n",
            "   90 : [ 2.5123637 -2.3495543]\n",
            "  135 : [ 2.668788  -2.3713925]\n",
            "  180 : [ 2.5125954 -2.3497071]\n",
            "  225 : [ 2.6687324 -2.3709848]\n",
            "  270 : [ 2.5125558 -2.349673 ]\n",
            "  315 : [ 2.668761 -2.371235]\n",
            "##########################################################################################\n",
            "\n"
          ]
        }
      ],
      "source": [
        "\n",
        "# retrieve the first image from the test set\n",
        "x, y = next(iter(raw_mnist_test))\n",
        "\n",
        "\n",
        "# evaluate the model\n",
        "test_model(model, x)"
      ]
    }
  ],
  "metadata": {
    "colab": {
      "provenance": [],
      "gpuType": "T4"
    },
    "kernelspec": {
      "display_name": "Python 3",
      "name": "python3"
    },
    "language_info": {
      "codemirror_mode": {
        "name": "ipython",
        "version": 3
      },
      "file_extension": ".py",
      "mimetype": "text/x-python",
      "name": "python",
      "nbconvert_exporter": "python",
      "pygments_lexer": "ipython3",
      "version": "3.8.3"
    },
    "accelerator": "GPU"
  },
  "nbformat": 4,
  "nbformat_minor": 0
}