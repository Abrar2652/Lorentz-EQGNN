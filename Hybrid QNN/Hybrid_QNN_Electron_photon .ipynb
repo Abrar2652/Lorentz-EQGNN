{
  "cells": [
    {
      "cell_type": "code",
      "execution_count": 4,
      "metadata": {
        "id": "sJOX9Fo34utq"
      },
      "outputs": [],
      "source": [
        "%%capture\n",
        "pip install pennylane"
      ]
    },
    {
      "cell_type": "code",
      "execution_count": 5,
      "metadata": {
        "id": "EuYbkNBV5T1I"
      },
      "outputs": [],
      "source": [
        "import pennylane as qml\n",
        "import torch\n",
        "import torchvision.datasets as datasets\n",
        "import torchvision.transforms as transforms\n",
        "from torch.utils.data import Subset\n",
        "import numpy as np\n",
        "import matplotlib.pyplot as plt"
      ]
    },
    {
      "cell_type": "markdown",
      "metadata": {
        "id": "UTbcMx6VGyAU"
      },
      "source": [
        "## Electron-Photon dataset"
      ]
    },
    {
      "cell_type": "code",
      "source": [
        "!unzip datasets_hd5.zip"
      ],
      "metadata": {
        "colab": {
          "base_uri": "https://localhost:8080/"
        },
        "id": "Id9Kph9zNqMP",
        "outputId": "444c4838-35ce-4cc1-cfe0-b7aa291f1e15"
      },
      "execution_count": 8,
      "outputs": [
        {
          "output_type": "stream",
          "name": "stdout",
          "text": [
            "Archive:  datasets_hd5.zip\n",
            "  inflating: Electron-Photon-bilinear-tracker-(16, 16, 1).h5  \n",
            "  inflating: QG-bilinear-tracker-(16, 16, 1).h5  \n"
          ]
        }
      ]
    },
    {
      "cell_type": "code",
      "execution_count": 9,
      "metadata": {
        "colab": {
          "base_uri": "https://localhost:8080/"
        },
        "id": "98RWxjgubhMZ",
        "outputId": "37a13c90-41cd-4a58-f557-115f291c09be"
      },
      "outputs": [
        {
          "output_type": "stream",
          "name": "stdout",
          "text": [
            "torch.Size([160000, 16, 16, 1])\n",
            "torch.Size([40000, 16, 16, 1])\n"
          ]
        }
      ],
      "source": [
        "import h5py\n",
        "import numpy as np\n",
        "import torch\n",
        "from sklearn.model_selection import train_test_split\n",
        "from torchvision import transforms\n",
        "\n",
        "path_ep = \"/content/Electron-Photon-bilinear-tracker-(16, 16, 1).h5\"\n",
        "with h5py.File(path_ep, \"r\") as file:\n",
        "    X_ep = np.array(file[\"X\"])\n",
        "    y_ep = np.array(file[\"y\"])\n",
        "\n",
        "X_train_16, X_test_16, Y_train_16, Y_test_16 = train_test_split(X_ep, y_ep, test_size=0.2, random_state=42, stratify=y_ep)\n",
        "\n",
        "transform = transforms.Compose([\n",
        "    transforms.ToPILImage(),\n",
        "    transforms.Resize((16, 16)),\n",
        "    transforms.ToTensor()\n",
        "])\n",
        "\n",
        "X_train_resized = torch.stack([transform(x) for x in X_train_16])\n",
        "X_test_resized = torch.stack([transform(x) for x in X_test_16])\n",
        "\n",
        "X_train = X_train_resized.permute(0, 2, 3, 1)\n",
        "X_test = X_test_resized.permute(0, 2, 3, 1)\n",
        "\n",
        "y_train = torch.tensor(Y_train_16)\n",
        "y_test = torch.tensor(Y_test_16)\n",
        "\n",
        "print(X_train.shape)\n",
        "print(X_test.shape)"
      ]
    },
    {
      "cell_type": "code",
      "execution_count": 10,
      "metadata": {
        "colab": {
          "base_uri": "https://localhost:8080/",
          "height": 448
        },
        "id": "YVH9qrYbQtsj",
        "outputId": "2f17b86b-0d7a-4d1d-9b8d-3cb7f1204663"
      },
      "outputs": [
        {
          "output_type": "display_data",
          "data": {
            "text/plain": [
              "<Figure size 640x480 with 2 Axes>"
            ],
            "image/png": "[encoded data removed]"
          },
          "metadata": {}
        },
        {
          "output_type": "stream",
          "name": "stdout",
          "text": [
            "tensor(1, dtype=torch.int32)\n"
          ]
        }
      ],
      "source": [
        "n = 5\n",
        "plt.imshow(X_train[n])\n",
        "plt.colorbar()\n",
        "plt.show()\n",
        "print(y_train[n])"
      ]
    },
    {
      "cell_type": "markdown",
      "metadata": {
        "id": "GAtg602dEjup"
      },
      "source": [
        "## model: FC + QC + FC + SOFTMAX\n"
      ]
    },
    {
      "cell_type": "code",
      "execution_count": 11,
      "metadata": {
        "id": "ReSIzuNU5EVk"
      },
      "outputs": [],
      "source": [
        "n_qubits = 8\n",
        "dev = qml.device(\"default.qubit\", wires=n_qubits)\n",
        "\n",
        "@qml.qnode(dev)\n",
        "def qnode(inputs, weights):\n",
        "    qml.AmplitudeEmbedding(inputs, wires=range(n_qubits), normalize=True)\n",
        "    qml.BasicEntanglerLayers(weights, wires=range(n_qubits))\n",
        "    return [qml.expval(qml.PauliZ(wires=i)) for i in range(n_qubits)]\n",
        "\n",
        "n_layers = 6\n",
        "weight_shapes = {\"weights\": (n_layers, n_qubits)}"
      ]
    },
    {
      "cell_type": "code",
      "execution_count": 12,
      "metadata": {
        "id": "dEbE8osu5ESd"
      },
      "outputs": [],
      "source": [
        "qlayer = qml.qnn.TorchLayer(qnode, weight_shapes)\n",
        "\n",
        "clayer_1 = torch.nn.Linear(256, 256)\n",
        "clayer_2 = torch.nn.Linear(8, 2)\n",
        "softmax = torch.nn.Softmax(dim=1)\n",
        "\n",
        "layers = [clayer_1, qlayer, clayer_2, softmax]\n",
        "model = torch.nn.Sequential(*layers)\n",
        "\n",
        "opt = torch.optim.SGD(model.parameters(), lr=0.1)\n",
        "loss = torch.nn.L1Loss()"
      ]
    },
    {
      "cell_type": "code",
      "execution_count": 13,
      "metadata": {
        "colab": {
          "base_uri": "https://localhost:8080/"
        },
        "id": "RJYSaMdH92h7",
        "outputId": "1ad0d368-2033-441c-faf0-9be1dbe84f4d"
      },
      "outputs": [
        {
          "output_type": "stream",
          "name": "stdout",
          "text": [
            "Total trainable parameters: 65858\n",
            "<generator object Module.parameters at 0x792585fa9fc0>\n"
          ]
        }
      ],
      "source": [
        "total_params = sum(p.numel() for p in model.parameters() if p.requires_grad)\n",
        "print(f\"Total trainable parameters: {total_params}\")\n",
        "\n",
        "print(model[1].parameters())"
      ]
    },
    {
      "cell_type": "code",
      "execution_count": 14,
      "metadata": {
        "colab": {
          "base_uri": "https://localhost:8080/"
        },
        "id": "_bg_7CIp5EPi",
        "outputId": "83057e77-6c00-47a6-ee0e-ccebbb9ba73a"
      },
      "outputs": [
        {
          "output_type": "stream",
          "name": "stdout",
          "text": [
            "Average loss over epoch 1: 0.4990\n",
            "Average loss over epoch 2: 0.4957\n",
            "Average loss over epoch 3: 0.4761\n",
            "Average loss over epoch 4: 0.4552\n",
            "Average loss over epoch 5: 0.4417\n",
            "Average loss over epoch 6: 0.4406\n",
            "Average loss over epoch 7: 0.4308\n",
            "Average loss over epoch 8: 0.4271\n",
            "Average loss over epoch 9: 0.4266\n",
            "Average loss over epoch 10: 0.4241\n",
            "Average loss over epoch 11: 0.4320\n",
            "Average loss over epoch 12: 0.4204\n",
            "Average loss over epoch 13: 0.4189\n",
            "Average loss over epoch 14: 0.4138\n",
            "Average loss over epoch 15: 0.4173\n",
            "Average loss over epoch 16: 0.4192\n",
            "Average loss over epoch 17: 0.4190\n",
            "Average loss over epoch 18: 0.4164\n",
            "Average loss over epoch 19: 0.4123\n",
            "Average loss over epoch 20: 0.4157\n",
            "Average loss over epoch 21: 0.4152\n",
            "Average loss over epoch 22: 0.4102\n",
            "Average loss over epoch 23: 0.4133\n",
            "Average loss over epoch 24: 0.4105\n",
            "Average loss over epoch 25: 0.4138\n",
            "Average loss over epoch 26: 0.4135\n",
            "Average loss over epoch 27: 0.4113\n",
            "Average loss over epoch 28: 0.4108\n",
            "Average loss over epoch 29: 0.4191\n",
            "Average loss over epoch 30: 0.4121\n",
            "Average loss over epoch 31: 0.4100\n",
            "Average loss over epoch 32: 0.4101\n",
            "Average loss over epoch 33: 0.4062\n",
            "Average loss over epoch 34: 0.4022\n",
            "Average loss over epoch 35: 0.4053\n",
            "Average loss over epoch 36: 0.4093\n",
            "Average loss over epoch 37: 0.4106\n",
            "Average loss over epoch 38: 0.4090\n",
            "Average loss over epoch 39: 0.4090\n",
            "Average loss over epoch 40: 0.4140\n",
            "Average loss over epoch 41: 0.4025\n",
            "Average loss over epoch 42: 0.4036\n",
            "Average loss over epoch 43: 0.4061\n",
            "Average loss over epoch 44: 0.4072\n",
            "Average loss over epoch 45: 0.4093\n",
            "Average loss over epoch 46: 0.4077\n",
            "Average loss over epoch 47: 0.4041\n",
            "Average loss over epoch 48: 0.4017\n",
            "Average loss over epoch 49: 0.4050\n",
            "Average loss over epoch 50: 0.4056\n",
            "Final Train Accuracy: 61.05%\n",
            "Metrics have been saved to hybrid_EQCNN_fashion_mnist_metrics.csv\n"
          ]
        }
      ],
      "source": [
        "import torch\n",
        "import torch.nn.functional as F\n",
        "import torch.utils.data\n",
        "import numpy as np\n",
        "import csv\n",
        "import time\n",
        "\n",
        "# Assuming model, opt, loss, X_train, y_train are already defined\n",
        "\n",
        "# one-hot encoding\n",
        "num_classes = 2\n",
        "samples = 10000\n",
        "y_train_one_hot = F.one_hot(\n",
        "    y_train[:samples].to(torch.int64), num_classes=num_classes\n",
        ")\n",
        "\n",
        "X = X_train[:samples].reshape(samples, 16 * 16).float().requires_grad_(True)\n",
        "y_hot = y_train_one_hot.long()\n",
        "\n",
        "batch_size = 64\n",
        "batches = samples // batch_size\n",
        "\n",
        "data_loader = torch.utils.data.DataLoader(\n",
        "    list(zip(X, y_hot)), batch_size=batch_size, shuffle=True, drop_last=True\n",
        ")\n",
        "\n",
        "epochs = 50\n",
        "subset_size = samples  # 10% of full dataset, assuming full dataset is 100,000\n",
        "\n",
        "start_time = time.time()\n",
        "\n",
        "for epoch in range(epochs):\n",
        "    running_loss = 0\n",
        "    for xs, ys in data_loader:\n",
        "        opt.zero_grad()\n",
        "        y_pred = model(xs)\n",
        "        loss_evaluated = loss(y_pred, ys)\n",
        "        loss_evaluated.backward()\n",
        "        opt.step()\n",
        "        running_loss += loss_evaluated.item()\n",
        "    avg_loss = running_loss / batches\n",
        "    print(\"Average loss over epoch {}: {:.4f}\".format(epoch + 1, avg_loss))\n",
        "\n",
        "training_time = time.time() - start_time\n",
        "\n",
        "# Calculate final train accuracy\n",
        "start_time = time.time()\n",
        "y_pred = model(X)\n",
        "inference_time = time.time() - start_time\n",
        "\n",
        "_, y_pred_classes = torch.max(y_pred, dim=1)\n",
        "y_pred_classes = y_pred_classes.detach().numpy()\n",
        "\n",
        "correct = (y_pred_classes == y_train[:samples].numpy()).sum()\n",
        "final_train_accuracy = correct / len(y_train[:samples])\n",
        "print(f\"Final Train Accuracy: {final_train_accuracy * 100:.2f}%\")\n",
        "\n",
        "# Assuming you have a separate test set, you would calculate test accuracy here\n",
        "# For this example, we'll use the same data as a placeholder\n",
        "final_test_accuracy = final_train_accuracy\n",
        "\n",
        "# Prepare metrics for CSV\n",
        "metrics = {\n",
        "    'Optimizer': type(opt).__name__,\n",
        "    'Learning_Rate': opt.param_groups[0]['lr'],\n",
        "    'Weight_Decay': opt.param_groups[0]['weight_decay'] if 'weight_decay' in opt.param_groups[0] else 'N/A',\n",
        "    'Batch_Size': batch_size,\n",
        "    'Epochs': epochs,\n",
        "    'Loss_Function': type(loss).__name__,\n",
        "    'Training_Subset_Size': f\"{subset_size} (10% of full dataset)\",\n",
        "    'Training_Time': f\"{training_time:.2f}\",\n",
        "    'Inference_Time': f\"{inference_time:.2f}\",\n",
        "    'Final_Train_Accuracy': f\"{final_train_accuracy:.2f}\",\n",
        "    'Final_Test_Accuracy': f\"{final_test_accuracy:.2f}\"\n",
        "}\n",
        "\n",
        "# Write metrics to CSV\n",
        "csv_filename = 'hybrid_EQCNN_fashion_mnist_metrics.csv'\n",
        "with open(csv_filename, 'w', newline='') as csvfile:\n",
        "    writer = csv.DictWriter(csvfile, fieldnames=metrics.keys())\n",
        "    writer.writeheader()\n",
        "    writer.writerow(metrics)\n",
        "\n",
        "print(f\"Metrics have been saved to {csv_filename}\")"
      ]
    },
    {
      "cell_type": "code",
      "execution_count": 15,
      "metadata": {
        "colab": {
          "base_uri": "https://localhost:8080/"
        },
        "id": "wtvk1SQu5TiT",
        "outputId": "6563dbe0-6d81-460f-db3a-a5400a301124"
      },
      "outputs": [
        {
          "output_type": "stream",
          "name": "stdout",
          "text": [
            "Accuracy: 61.46%\n"
          ]
        }
      ],
      "source": [
        "samples = 5000\n",
        "X = X_train[:samples].reshape(samples, 16*16).float().requires_grad_(True)\n",
        "\n",
        "y_pred = model(X)\n",
        "\n",
        "_, y_pred_classes = torch.max(y_pred, dim=1)\n",
        "y_pred_classes = y_pred_classes.detach().numpy()\n",
        "\n",
        "correct = (y_pred_classes == y_train[:samples].numpy()).sum()\n",
        "accuracy = correct / len(y_train[:samples])\n",
        "print(f\"Accuracy: {accuracy * 100}%\")"
      ]
    },
    {
      "cell_type": "code",
      "execution_count": 16,
      "metadata": {
        "colab": {
          "base_uri": "https://localhost:8080/",
          "height": 449
        },
        "id": "hHD1XCOdLV9J",
        "outputId": "cca7c3d4-b03f-4720-8a84-1f0abf642e59"
      },
      "outputs": [
        {
          "output_type": "display_data",
          "data": {
            "text/plain": [
              "<Figure size 640x480 with 2 Axes>"
            ],
            "image/png": "[encoded data removed]"
          },
          "metadata": {}
        }
      ],
      "source": [
        "from sklearn.metrics import confusion_matrix, ConfusionMatrixDisplay\n",
        "\n",
        "test_samples = 1000\n",
        "X_test = X_test[:test_samples].reshape(test_samples, 16*16).float().requires_grad_(True)\n",
        "\n",
        "y_pred = model(X_test)\n",
        "_, y_pred_classes = torch.max(y_pred, dim=1)\n",
        "y_pred_classes = y_pred_classes.detach().numpy()\n",
        "\n",
        "cm = confusion_matrix(y_test[:test_samples], y_pred_classes)\n",
        "\n",
        "disp = ConfusionMatrixDisplay(confusion_matrix=cm)\n",
        "disp.plot()\n",
        "plt.show()"
      ]
    }
  ],
  "metadata": {
    "colab": {
      "provenance": []
    },
    "kernelspec": {
      "display_name": "Python 3",
      "name": "python3"
    },
    "language_info": {
      "codemirror_mode": {
        "name": "ipython",
        "version": 3
      },
      "file_extension": ".py",
      "mimetype": "text/x-python",
      "name": "python",
      "nbconvert_exporter": "python",
      "pygments_lexer": "ipython3",
      "version": "3.10.13"
    }
  },
  "nbformat": 4,
  "nbformat_minor": 0
}