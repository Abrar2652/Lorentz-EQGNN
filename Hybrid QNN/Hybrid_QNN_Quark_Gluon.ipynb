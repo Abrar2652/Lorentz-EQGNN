{
  "cells": [
    {
      "cell_type": "code",
      "execution_count": 1,
      "metadata": {
        "id": "sJOX9Fo34utq"
      },
      "outputs": [],
      "source": [
        "%%capture\n",
        "pip install pennylane"
      ]
    },
    {
      "cell_type": "code",
      "execution_count": 2,
      "metadata": {
        "id": "EuYbkNBV5T1I"
      },
      "outputs": [],
      "source": [
        "import pennylane as qml\n",
        "import torch\n",
        "import torchvision.datasets as datasets\n",
        "import torchvision.transforms as transforms\n",
        "from torch.utils.data import Subset\n",
        "import numpy as np\n",
        "import matplotlib.pyplot as plt"
      ]
    },
    {
      "cell_type": "markdown",
      "metadata": {
        "id": "UTbcMx6VGyAU"
      },
      "source": [
        "## Electron-Photon dataset"
      ]
    },
    {
      "cell_type": "code",
      "source": [
        "!unzip datasets_hd5.zip"
      ],
      "metadata": {
        "colab": {
          "base_uri": "https://localhost:8080/"
        },
        "id": "Id9Kph9zNqMP",
        "outputId": "0777470b-6a49-4c2d-872d-b5295f42dd5b"
      },
      "execution_count": 3,
      "outputs": [
        {
          "output_type": "stream",
          "name": "stdout",
          "text": [
            "Archive:  datasets_hd5.zip\n",
            "  inflating: Electron-Photon-bilinear-tracker-(16, 16, 1).h5  \n",
            "  inflating: QG-bilinear-tracker-(16, 16, 1).h5  \n"
          ]
        }
      ]
    },
    {
      "cell_type": "code",
      "execution_count": 4,
      "metadata": {
        "colab": {
          "base_uri": "https://localhost:8080/"
        },
        "id": "98RWxjgubhMZ",
        "outputId": "80592103-e0aa-482b-befc-57ceffd116fe"
      },
      "outputs": [
        {
          "output_type": "stream",
          "name": "stdout",
          "text": [
            "torch.Size([160000, 16, 16, 1])\n",
            "torch.Size([40000, 16, 16, 1])\n"
          ]
        }
      ],
      "source": [
        "import h5py\n",
        "import numpy as np\n",
        "import torch\n",
        "from sklearn.model_selection import train_test_split\n",
        "from torchvision import transforms\n",
        "\n",
        "path_ep = \"/content/QG-bilinear-tracker-(16, 16, 1).h5\"\n",
        "with h5py.File(path_ep, \"r\") as file:\n",
        "    X_ep = np.array(file[\"X\"])\n",
        "    y_ep = np.array(file[\"y\"])\n",
        "\n",
        "X_train_16, X_test_16, Y_train_16, Y_test_16 = train_test_split(X_ep, y_ep, test_size=0.2, random_state=42, stratify=y_ep)\n",
        "\n",
        "transform = transforms.Compose([\n",
        "    transforms.ToPILImage(),\n",
        "    transforms.Resize((16, 16)),\n",
        "    transforms.ToTensor()\n",
        "])\n",
        "\n",
        "X_train_resized = torch.stack([transform(x) for x in X_train_16])\n",
        "X_test_resized = torch.stack([transform(x) for x in X_test_16])\n",
        "\n",
        "X_train = X_train_resized.permute(0, 2, 3, 1)\n",
        "X_test = X_test_resized.permute(0, 2, 3, 1)\n",
        "\n",
        "y_train = torch.tensor(Y_train_16)\n",
        "y_test = torch.tensor(Y_test_16)\n",
        "\n",
        "print(X_train.shape)\n",
        "print(X_test.shape)"
      ]
    },
    {
      "cell_type": "code",
      "execution_count": 5,
      "metadata": {
        "colab": {
          "base_uri": "https://localhost:8080/",
          "height": 448
        },
        "id": "YVH9qrYbQtsj",
        "outputId": "ad1fbc98-c890-41c7-fcb4-4d175766fd72"
      },
      "outputs": [
        {
          "output_type": "display_data",
          "data": {
            "text/plain": [
              "<Figure size 640x480 with 2 Axes>"
            ],
            "image/png": "[encoded data removed]"
          },
          "metadata": {}
        },
        {
          "output_type": "stream",
          "name": "stdout",
          "text": [
            "tensor(1, dtype=torch.int32)\n"
          ]
        }
      ],
      "source": [
        "n = 5\n",
        "plt.imshow(X_train[n])\n",
        "plt.colorbar()\n",
        "plt.show()\n",
        "print(y_train[n])"
      ]
    },
    {
      "cell_type": "markdown",
      "metadata": {
        "id": "GAtg602dEjup"
      },
      "source": [
        "## model: FC + QC + FC + SOFTMAX\n"
      ]
    },
    {
      "cell_type": "code",
      "execution_count": 6,
      "metadata": {
        "id": "ReSIzuNU5EVk"
      },
      "outputs": [],
      "source": [
        "n_qubits = 8\n",
        "dev = qml.device(\"default.qubit\", wires=n_qubits)\n",
        "\n",
        "@qml.qnode(dev)\n",
        "def qnode(inputs, weights):\n",
        "    qml.AmplitudeEmbedding(inputs, wires=range(n_qubits), normalize=True)\n",
        "    qml.BasicEntanglerLayers(weights, wires=range(n_qubits))\n",
        "    return [qml.expval(qml.PauliZ(wires=i)) for i in range(n_qubits)]\n",
        "\n",
        "n_layers = 6\n",
        "weight_shapes = {\"weights\": (n_layers, n_qubits)}"
      ]
    },
    {
      "cell_type": "code",
      "execution_count": 7,
      "metadata": {
        "id": "dEbE8osu5ESd"
      },
      "outputs": [],
      "source": [
        "qlayer = qml.qnn.TorchLayer(qnode, weight_shapes)\n",
        "\n",
        "clayer_1 = torch.nn.Linear(256, 256)\n",
        "clayer_2 = torch.nn.Linear(8, 2)\n",
        "softmax = torch.nn.Softmax(dim=1)\n",
        "\n",
        "layers = [clayer_1, qlayer, clayer_2, softmax]\n",
        "model = torch.nn.Sequential(*layers)\n",
        "\n",
        "opt = torch.optim.SGD(model.parameters(), lr=0.1)\n",
        "loss = torch.nn.L1Loss()"
      ]
    },
    {
      "cell_type": "code",
      "execution_count": 8,
      "metadata": {
        "colab": {
          "base_uri": "https://localhost:8080/"
        },
        "id": "RJYSaMdH92h7",
        "outputId": "c9121b56-d406-4984-f483-0c3e5a3849b2"
      },
      "outputs": [
        {
          "output_type": "stream",
          "name": "stdout",
          "text": [
            "Total trainable parameters: 65858\n",
            "<generator object Module.parameters at 0x7edad4979930>\n"
          ]
        }
      ],
      "source": [
        "total_params = sum(p.numel() for p in model.parameters() if p.requires_grad)\n",
        "print(f\"Total trainable parameters: {total_params}\")\n",
        "\n",
        "print(model[1].parameters())"
      ]
    },
    {
      "cell_type": "code",
      "execution_count": 9,
      "metadata": {
        "id": "_bg_7CIp5EPi",
        "colab": {
          "base_uri": "https://localhost:8080/"
        },
        "outputId": "af0894aa-1484-4cea-84f1-34eb05d60c8c"
      },
      "outputs": [
        {
          "output_type": "stream",
          "name": "stdout",
          "text": [
            "Average loss over epoch 1: 0.4997\n",
            "Average loss over epoch 2: 0.4990\n",
            "Average loss over epoch 3: 0.4976\n",
            "Average loss over epoch 4: 0.4926\n",
            "Average loss over epoch 5: 0.4704\n",
            "Average loss over epoch 6: 0.4520\n",
            "Average loss over epoch 7: 0.4462\n",
            "Average loss over epoch 8: 0.4353\n",
            "Average loss over epoch 9: 0.4340\n",
            "Average loss over epoch 10: 0.4301\n",
            "Average loss over epoch 11: 0.4300\n",
            "Average loss over epoch 12: 0.4248\n",
            "Average loss over epoch 13: 0.4223\n",
            "Average loss over epoch 14: 0.4209\n",
            "Average loss over epoch 15: 0.4222\n",
            "Average loss over epoch 16: 0.4187\n",
            "Average loss over epoch 17: 0.4189\n",
            "Average loss over epoch 18: 0.4200\n",
            "Average loss over epoch 19: 0.4146\n",
            "Average loss over epoch 20: 0.4180\n",
            "Average loss over epoch 21: 0.4200\n",
            "Average loss over epoch 22: 0.4134\n",
            "Average loss over epoch 23: 0.4125\n",
            "Average loss over epoch 24: 0.4143\n",
            "Average loss over epoch 25: 0.4153\n",
            "Average loss over epoch 26: 0.4117\n",
            "Average loss over epoch 27: 0.4148\n",
            "Average loss over epoch 28: 0.4150\n",
            "Average loss over epoch 29: 0.4124\n",
            "Average loss over epoch 30: 0.4109\n",
            "Average loss over epoch 31: 0.4107\n",
            "Average loss over epoch 32: 0.4062\n",
            "Average loss over epoch 33: 0.4036\n",
            "Average loss over epoch 34: 0.4093\n",
            "Average loss over epoch 35: 0.4086\n",
            "Average loss over epoch 36: 0.4067\n",
            "Average loss over epoch 37: 0.4036\n",
            "Average loss over epoch 38: 0.4042\n",
            "Average loss over epoch 39: 0.4094\n",
            "Average loss over epoch 40: 0.4060\n",
            "Average loss over epoch 41: 0.4079\n",
            "Average loss over epoch 42: 0.4057\n",
            "Average loss over epoch 43: 0.4057\n",
            "Average loss over epoch 44: 0.4042\n",
            "Average loss over epoch 45: 0.4026\n",
            "Average loss over epoch 46: 0.4027\n",
            "Average loss over epoch 47: 0.4063\n",
            "Average loss over epoch 48: 0.4072\n",
            "Average loss over epoch 49: 0.4011\n",
            "Average loss over epoch 50: 0.4057\n",
            "Final Train Accuracy: 60.47%\n",
            "Metrics have been saved to hybrid_EQCNN_fashion_mnist_metrics.csv\n"
          ]
        }
      ],
      "source": [
        "import torch\n",
        "import torch.nn.functional as F\n",
        "import torch.utils.data\n",
        "import numpy as np\n",
        "import csv\n",
        "import time\n",
        "\n",
        "# Assuming model, opt, loss, X_train, y_train are already defined\n",
        "\n",
        "# one-hot encoding\n",
        "num_classes = 2\n",
        "samples = 10000\n",
        "y_train_one_hot = F.one_hot(\n",
        "    y_train[:samples].to(torch.int64), num_classes=num_classes\n",
        ")\n",
        "\n",
        "X = X_train[:samples].reshape(samples, 16 * 16).float().requires_grad_(True)\n",
        "y_hot = y_train_one_hot.long()\n",
        "\n",
        "batch_size = 64\n",
        "batches = samples // batch_size\n",
        "\n",
        "data_loader = torch.utils.data.DataLoader(\n",
        "    list(zip(X, y_hot)), batch_size=batch_size, shuffle=True, drop_last=True\n",
        ")\n",
        "\n",
        "epochs = 50\n",
        "subset_size = samples  # 10% of full dataset, assuming full dataset is 100,000\n",
        "\n",
        "start_time = time.time()\n",
        "\n",
        "for epoch in range(epochs):\n",
        "    running_loss = 0\n",
        "    for xs, ys in data_loader:\n",
        "        opt.zero_grad()\n",
        "        y_pred = model(xs)\n",
        "        loss_evaluated = loss(y_pred, ys)\n",
        "        loss_evaluated.backward()\n",
        "        opt.step()\n",
        "        running_loss += loss_evaluated.item()\n",
        "    avg_loss = running_loss / batches\n",
        "    print(\"Average loss over epoch {}: {:.4f}\".format(epoch + 1, avg_loss))\n",
        "\n",
        "training_time = time.time() - start_time\n",
        "\n",
        "# Calculate final train accuracy\n",
        "start_time = time.time()\n",
        "y_pred = model(X)\n",
        "inference_time = time.time() - start_time\n",
        "\n",
        "_, y_pred_classes = torch.max(y_pred, dim=1)\n",
        "y_pred_classes = y_pred_classes.detach().numpy()\n",
        "\n",
        "correct = (y_pred_classes == y_train[:samples].numpy()).sum()\n",
        "final_train_accuracy = correct / len(y_train[:samples])\n",
        "print(f\"Final Train Accuracy: {final_train_accuracy * 100:.2f}%\")\n",
        "\n",
        "# Assuming you have a separate test set, you would calculate test accuracy here\n",
        "# For this example, we'll use the same data as a placeholder\n",
        "final_test_accuracy = final_train_accuracy\n",
        "\n",
        "# Prepare metrics for CSV\n",
        "metrics = {\n",
        "    'Optimizer': type(opt).__name__,\n",
        "    'Learning_Rate': opt.param_groups[0]['lr'],\n",
        "    'Weight_Decay': opt.param_groups[0]['weight_decay'] if 'weight_decay' in opt.param_groups[0] else 'N/A',\n",
        "    'Batch_Size': batch_size,\n",
        "    'Epochs': epochs,\n",
        "    'Loss_Function': type(loss).__name__,\n",
        "    'Training_Subset_Size': f\"{subset_size} (10% of full dataset)\",\n",
        "    'Training_Time': f\"{training_time:.2f}\",\n",
        "    'Inference_Time': f\"{inference_time:.2f}\",\n",
        "    'Final_Train_Accuracy': f\"{final_train_accuracy:.2f}\",\n",
        "    'Final_Test_Accuracy': f\"{final_test_accuracy:.2f}\"\n",
        "}\n",
        "\n",
        "# Write metrics to CSV\n",
        "csv_filename = 'hybrid_EQCNN_fashion_mnist_metrics.csv'\n",
        "with open(csv_filename, 'w', newline='') as csvfile:\n",
        "    writer = csv.DictWriter(csvfile, fieldnames=metrics.keys())\n",
        "    writer.writeheader()\n",
        "    writer.writerow(metrics)\n",
        "\n",
        "print(f\"Metrics have been saved to {csv_filename}\")"
      ]
    },
    {
      "cell_type": "code",
      "execution_count": 10,
      "metadata": {
        "colab": {
          "base_uri": "https://localhost:8080/"
        },
        "id": "wtvk1SQu5TiT",
        "outputId": "8195c216-bf0a-4d35-bf7f-0909531c6312"
      },
      "outputs": [
        {
          "output_type": "stream",
          "name": "stdout",
          "text": [
            "Accuracy: 60.81999999999999%\n"
          ]
        }
      ],
      "source": [
        "samples = 5000\n",
        "X = X_train[:samples].reshape(samples, 16*16).float().requires_grad_(True)\n",
        "\n",
        "y_pred = model(X)\n",
        "\n",
        "_, y_pred_classes = torch.max(y_pred, dim=1)\n",
        "y_pred_classes = y_pred_classes.detach().numpy()\n",
        "\n",
        "correct = (y_pred_classes == y_train[:samples].numpy()).sum()\n",
        "accuracy = correct / len(y_train[:samples])\n",
        "print(f\"Accuracy: {accuracy * 100}%\")"
      ]
    },
    {
      "cell_type": "code",
      "execution_count": 11,
      "metadata": {
        "colab": {
          "base_uri": "https://localhost:8080/",
          "height": 449
        },
        "id": "hHD1XCOdLV9J",
        "outputId": "e233c1b5-6f1c-42f4-ac1c-9c85ad72907e"
      },
      "outputs": [
        {
          "output_type": "display_data",
          "data": {
            "text/plain": [
              "<Figure size 640x480 with 2 Axes>"
            ],
            "image/png": "[encoded data removed]"
          },
          "metadata": {}
        }
      ],
      "source": [
        "from sklearn.metrics import confusion_matrix, ConfusionMatrixDisplay\n",
        "\n",
        "test_samples = 1000\n",
        "X_test = X_test[:test_samples].reshape(test_samples, 16*16).float().requires_grad_(True)\n",
        "\n",
        "y_pred = model(X_test)\n",
        "_, y_pred_classes = torch.max(y_pred, dim=1)\n",
        "y_pred_classes = y_pred_classes.detach().numpy()\n",
        "\n",
        "cm = confusion_matrix(y_test[:test_samples], y_pred_classes)\n",
        "\n",
        "disp = ConfusionMatrixDisplay(confusion_matrix=cm)\n",
        "disp.plot()\n",
        "plt.show()"
      ]
    }
  ],
  "metadata": {
    "colab": {
      "provenance": []
    },
    "kernelspec": {
      "display_name": "Python 3",
      "name": "python3"
    },
    "language_info": {
      "codemirror_mode": {
        "name": "ipython",
        "version": 3
      },
      "file_extension": ".py",
      "mimetype": "text/x-python",
      "name": "python",
      "nbconvert_exporter": "python",
      "pygments_lexer": "ipython3",
      "version": "3.10.13"
    }
  },
  "nbformat": 4,
  "nbformat_minor": 0
}