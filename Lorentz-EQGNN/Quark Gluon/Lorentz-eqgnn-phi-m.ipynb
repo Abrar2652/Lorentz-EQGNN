{
 "cells": [
  {
   "cell_type": "markdown",
   "id": "1bf30ef7",
   "metadata": {
    "id": "rB_xvk_TXLpz",
    "papermill": {
     "duration": 0.018099,
     "end_time": "2024-10-24T20:21:12.015697",
     "exception": false,
     "start_time": "2024-10-24T20:21:11.997598",
     "status": "completed"
    },
    "tags": []
   },
   "source": [
    "# Lorentz-Equivariant Quantum Graph Neural Network (Lorentz-EQGNN)"
   ]
  },
  {
   "cell_type": "code",
   "execution_count": 1,
   "id": "964ffe14",
   "metadata": {
    "execution": {
     "iopub.execute_input": "2024-10-24T20:21:12.051944Z",
     "iopub.status.busy": "2024-10-24T20:21:12.051428Z",
     "iopub.status.idle": "2024-10-24T20:21:28.600106Z",
     "shell.execute_reply": "2024-10-24T20:21:28.598855Z"
    },
    "id": "1qx2qWQoXLp2",
    "outputId": "15e852ad-282a-4d36-e400-53399d904f45",
    "papermill": {
     "duration": 16.570167,
     "end_time": "2024-10-24T20:21:28.602871",
     "exception": false,
     "start_time": "2024-10-24T20:21:12.032704",
     "status": "completed"
    },
    "scrolled": true,
    "tags": []
   },
   "outputs": [
    {
     "name": "stdout",
     "output_type": "stream",
     "text": [
      "Collecting torch_geometric\r\n",
      "  Downloading torch_geometric-2.6.1-py3-none-any.whl.metadata (63 kB)\r\n",
      "\u001b[2K     \u001b[90m━━━━━━━━━━━━━━━━━━━━━━━━━━━━━━━━━━━━━━━━\u001b[0m \u001b[32m63.1/63.1 kB\u001b[0m \u001b[31m2.1 MB/s\u001b[0m eta \u001b[36m0:00:00\u001b[0m\r\n",
      "\u001b[?25hRequirement already satisfied: aiohttp in /opt/conda/lib/python3.10/site-packages (from torch_geometric) (3.9.5)\r\n",
      "Requirement already satisfied: fsspec in /opt/conda/lib/python3.10/site-packages (from torch_geometric) (2024.6.1)\r\n",
      "Requirement already satisfied: jinja2 in /opt/conda/lib/python3.10/site-packages (from torch_geometric) (3.1.4)\r\n",
      "Requirement already satisfied: numpy in /opt/conda/lib/python3.10/site-packages (from torch_geometric) (1.26.4)\r\n",
      "Requirement already satisfied: psutil>=5.8.0 in /opt/conda/lib/python3.10/site-packages (from torch_geometric) (5.9.3)\r\n",
      "Requirement already satisfied: pyparsing in /opt/conda/lib/python3.10/site-packages (from torch_geometric) (3.1.2)\r\n",
      "Requirement already satisfied: requests in /opt/conda/lib/python3.10/site-packages (from torch_geometric) (2.32.3)\r\n",
      "Requirement already satisfied: tqdm in /opt/conda/lib/python3.10/site-packages (from torch_geometric) (4.66.4)\r\n",
      "Requirement already satisfied: aiosignal>=1.1.2 in /opt/conda/lib/python3.10/site-packages (from aiohttp->torch_geometric) (1.3.1)\r\n",
      "Requirement already satisfied: attrs>=17.3.0 in /opt/conda/lib/python3.10/site-packages (from aiohttp->torch_geometric) (23.2.0)\r\n",
      "Requirement already satisfied: frozenlist>=1.1.1 in /opt/conda/lib/python3.10/site-packages (from aiohttp->torch_geometric) (1.4.1)\r\n",
      "Requirement already satisfied: multidict<7.0,>=4.5 in /opt/conda/lib/python3.10/site-packages (from aiohttp->torch_geometric) (6.0.5)\r\n",
      "Requirement already satisfied: yarl<2.0,>=1.0 in /opt/conda/lib/python3.10/site-packages (from aiohttp->torch_geometric) (1.9.4)\r\n",
      "Requirement already satisfied: async-timeout<5.0,>=4.0 in /opt/conda/lib/python3.10/site-packages (from aiohttp->torch_geometric) (4.0.3)\r\n",
      "Requirement already satisfied: MarkupSafe>=2.0 in /opt/conda/lib/python3.10/site-packages (from jinja2->torch_geometric) (2.1.5)\r\n",
      "Requirement already satisfied: charset-normalizer<4,>=2 in /opt/conda/lib/python3.10/site-packages (from requests->torch_geometric) (3.3.2)\r\n",
      "Requirement already satisfied: idna<4,>=2.5 in /opt/conda/lib/python3.10/site-packages (from requests->torch_geometric) (3.7)\r\n",
      "Requirement already satisfied: urllib3<3,>=1.21.1 in /opt/conda/lib/python3.10/site-packages (from requests->torch_geometric) (1.26.18)\r\n",
      "Requirement already satisfied: certifi>=2017.4.17 in /opt/conda/lib/python3.10/site-packages (from requests->torch_geometric) (2024.8.30)\r\n",
      "Downloading torch_geometric-2.6.1-py3-none-any.whl (1.1 MB)\r\n",
      "\u001b[2K   \u001b[90m━━━━━━━━━━━━━━━━━━━━━━━━━━━━━━━━━━━━━━━━\u001b[0m \u001b[32m1.1/1.1 MB\u001b[0m \u001b[31m22.8 MB/s\u001b[0m eta \u001b[36m0:00:00\u001b[0m\r\n",
      "\u001b[?25hInstalling collected packages: torch_geometric\r\n",
      "Successfully installed torch_geometric-2.6.1\r\n"
     ]
    }
   ],
   "source": [
    "# For Colab\n",
    "!pip install torch_geometric\n",
    "# !pip install torch_sparse\n",
    "# !pip install torch_scatter"
   ]
  },
  {
   "cell_type": "code",
   "execution_count": 2,
   "id": "9fcbab89",
   "metadata": {
    "execution": {
     "iopub.execute_input": "2024-10-24T20:21:28.640018Z",
     "iopub.status.busy": "2024-10-24T20:21:28.638961Z",
     "iopub.status.idle": "2024-10-24T20:21:58.080223Z",
     "shell.execute_reply": "2024-10-24T20:21:58.078906Z"
    },
    "id": "_CF_l60hp0xJ",
    "outputId": "afb90877-280c-44bc-a443-4bb69afffde4",
    "papermill": {
     "duration": 29.462798,
     "end_time": "2024-10-24T20:21:58.083162",
     "exception": false,
     "start_time": "2024-10-24T20:21:28.620364",
     "status": "completed"
    },
    "scrolled": true,
    "tags": []
   },
   "outputs": [
    {
     "name": "stdout",
     "output_type": "stream",
     "text": [
      "Collecting pennylane\r\n",
      "  Downloading PennyLane-0.38.0-py3-none-any.whl.metadata (9.3 kB)\r\n",
      "Collecting qiskit\r\n",
      "  Downloading qiskit-1.2.4-cp38-abi3-manylinux_2_17_x86_64.manylinux2014_x86_64.whl.metadata (12 kB)\r\n",
      "Collecting pennylane-qiskit\r\n",
      "  Downloading PennyLane_qiskit-0.38.1-py3-none-any.whl.metadata (6.4 kB)\r\n",
      "Collecting pylatexenc\r\n",
      "  Downloading pylatexenc-2.10.tar.gz (162 kB)\r\n",
      "\u001b[2K     \u001b[90m━━━━━━━━━━━━━━━━━━━━━━━━━━━━━━━━━━━━━━━\u001b[0m \u001b[32m162.6/162.6 kB\u001b[0m \u001b[31m5.4 MB/s\u001b[0m eta \u001b[36m0:00:00\u001b[0m\r\n",
      "\u001b[?25h  Preparing metadata (setup.py) ... \u001b[?25l-\b \bdone\r\n",
      "\u001b[?25hRequirement already satisfied: numpy<2.0 in /opt/conda/lib/python3.10/site-packages (from pennylane) (1.26.4)\r\n",
      "Requirement already satisfied: scipy in /opt/conda/lib/python3.10/site-packages (from pennylane) (1.14.1)\r\n",
      "Requirement already satisfied: networkx in /opt/conda/lib/python3.10/site-packages (from pennylane) (3.3)\r\n",
      "Collecting rustworkx>=0.14.0 (from pennylane)\r\n",
      "  Downloading rustworkx-0.15.1-cp38-abi3-manylinux_2_17_x86_64.manylinux2014_x86_64.whl.metadata (9.9 kB)\r\n",
      "Collecting autograd (from pennylane)\r\n",
      "  Downloading autograd-1.7.0-py3-none-any.whl.metadata (7.5 kB)\r\n",
      "Requirement already satisfied: toml in /opt/conda/lib/python3.10/site-packages (from pennylane) (0.10.2)\r\n",
      "Requirement already satisfied: appdirs in /opt/conda/lib/python3.10/site-packages (from pennylane) (1.4.4)\r\n",
      "Collecting autoray>=0.6.11 (from pennylane)\r\n",
      "  Downloading autoray-0.7.0-py3-none-any.whl.metadata (5.8 kB)\r\n",
      "Requirement already satisfied: cachetools in /opt/conda/lib/python3.10/site-packages (from pennylane) (4.2.4)\r\n",
      "Collecting pennylane-lightning>=0.38 (from pennylane)\r\n",
      "  Downloading PennyLane_Lightning-0.38.0-cp310-cp310-manylinux_2_28_x86_64.whl.metadata (26 kB)\r\n",
      "Requirement already satisfied: requests in /opt/conda/lib/python3.10/site-packages (from pennylane) (2.32.3)\r\n",
      "Requirement already satisfied: typing-extensions in /opt/conda/lib/python3.10/site-packages (from pennylane) (4.12.2)\r\n",
      "Requirement already satisfied: packaging in /opt/conda/lib/python3.10/site-packages (from pennylane) (21.3)\r\n",
      "Requirement already satisfied: sympy>=1.3 in /opt/conda/lib/python3.10/site-packages (from qiskit) (1.12)\r\n",
      "Requirement already satisfied: dill>=0.3 in /opt/conda/lib/python3.10/site-packages (from qiskit) (0.3.8)\r\n",
      "Requirement already satisfied: python-dateutil>=2.8.0 in /opt/conda/lib/python3.10/site-packages (from qiskit) (2.9.0.post0)\r\n",
      "Collecting stevedore>=3.0.0 (from qiskit)\r\n",
      "  Downloading stevedore-5.3.0-py3-none-any.whl.metadata (2.3 kB)\r\n",
      "Collecting symengine<0.14,>=0.11 (from qiskit)\r\n",
      "  Downloading symengine-0.13.0-cp310-cp310-manylinux_2_17_x86_64.manylinux2014_x86_64.whl.metadata (1.2 kB)\r\n",
      "Collecting qiskit-aer (from pennylane-qiskit)\r\n",
      "  Downloading qiskit_aer-0.15.1-cp310-cp310-manylinux_2_17_x86_64.manylinux2014_x86_64.whl.metadata (8.0 kB)\r\n",
      "Collecting qiskit-ibm-runtime<=0.29 (from pennylane-qiskit)\r\n",
      "  Downloading qiskit_ibm_runtime-0.29.0-py3-none-any.whl.metadata (19 kB)\r\n",
      "Collecting qiskit-ibm-provider (from pennylane-qiskit)\r\n",
      "  Downloading qiskit_ibm_provider-0.11.0-py3-none-any.whl.metadata (7.6 kB)\r\n",
      "Requirement already satisfied: six>=1.5 in /opt/conda/lib/python3.10/site-packages (from python-dateutil>=2.8.0->qiskit) (1.16.0)\r\n",
      "Collecting requests-ntlm>=1.1.0 (from qiskit-ibm-runtime<=0.29->pennylane-qiskit)\r\n",
      "  Downloading requests_ntlm-1.3.0-py3-none-any.whl.metadata (2.4 kB)\r\n",
      "Requirement already satisfied: urllib3>=1.21.1 in /opt/conda/lib/python3.10/site-packages (from qiskit-ibm-runtime<=0.29->pennylane-qiskit) (1.26.18)\r\n",
      "Requirement already satisfied: websocket-client>=1.5.1 in /opt/conda/lib/python3.10/site-packages (from qiskit-ibm-runtime<=0.29->pennylane-qiskit) (1.8.0)\r\n",
      "Collecting ibm-platform-services>=0.22.6 (from qiskit-ibm-runtime<=0.29->pennylane-qiskit)\r\n",
      "  Downloading ibm_platform_services-0.58.0-py3-none-any.whl.metadata (9.0 kB)\r\n",
      "Requirement already satisfied: pydantic>=2.5.0 in /opt/conda/lib/python3.10/site-packages (from qiskit-ibm-runtime<=0.29->pennylane-qiskit) (2.9.2)\r\n",
      "Requirement already satisfied: charset-normalizer<4,>=2 in /opt/conda/lib/python3.10/site-packages (from requests->pennylane) (3.3.2)\r\n",
      "Requirement already satisfied: idna<4,>=2.5 in /opt/conda/lib/python3.10/site-packages (from requests->pennylane) (3.7)\r\n",
      "Requirement already satisfied: certifi>=2017.4.17 in /opt/conda/lib/python3.10/site-packages (from requests->pennylane) (2024.8.30)\r\n",
      "Collecting pbr>=2.0.0 (from stevedore>=3.0.0->qiskit)\r\n",
      "  Downloading pbr-6.1.0-py2.py3-none-any.whl.metadata (3.4 kB)\r\n",
      "Requirement already satisfied: mpmath>=0.19 in /opt/conda/lib/python3.10/site-packages (from sympy>=1.3->qiskit) (1.3.0)\r\n",
      "Requirement already satisfied: pyparsing!=3.0.5,>=2.0.2 in /opt/conda/lib/python3.10/site-packages (from packaging->pennylane) (3.1.2)\r\n",
      "Requirement already satisfied: psutil>=5 in /opt/conda/lib/python3.10/site-packages (from qiskit-aer->pennylane-qiskit) (5.9.3)\r\n",
      "Requirement already satisfied: websockets>=10.0 in /opt/conda/lib/python3.10/site-packages (from qiskit-ibm-provider->pennylane-qiskit) (12.0)\r\n",
      "Collecting ibm-cloud-sdk-core<4.0.0,>=3.22.0 (from ibm-platform-services>=0.22.6->qiskit-ibm-runtime<=0.29->pennylane-qiskit)\r\n",
      "  Downloading ibm_cloud_sdk_core-3.22.0-py3-none-any.whl.metadata (8.6 kB)\r\n",
      "Requirement already satisfied: annotated-types>=0.6.0 in /opt/conda/lib/python3.10/site-packages (from pydantic>=2.5.0->qiskit-ibm-runtime<=0.29->pennylane-qiskit) (0.7.0)\r\n",
      "Requirement already satisfied: pydantic-core==2.23.4 in /opt/conda/lib/python3.10/site-packages (from pydantic>=2.5.0->qiskit-ibm-runtime<=0.29->pennylane-qiskit) (2.23.4)\r\n",
      "Requirement already satisfied: cryptography>=1.3 in /opt/conda/lib/python3.10/site-packages (from requests-ntlm>=1.1.0->qiskit-ibm-runtime<=0.29->pennylane-qiskit) (42.0.8)\r\n",
      "Collecting pyspnego>=0.4.0 (from requests-ntlm>=1.1.0->qiskit-ibm-runtime<=0.29->pennylane-qiskit)\r\n",
      "  Downloading pyspnego-0.11.1-py3-none-any.whl.metadata (5.4 kB)\r\n",
      "Requirement already satisfied: cffi>=1.12 in /opt/conda/lib/python3.10/site-packages (from cryptography>=1.3->requests-ntlm>=1.1.0->qiskit-ibm-runtime<=0.29->pennylane-qiskit) (1.16.0)\r\n",
      "Collecting urllib3>=1.21.1 (from qiskit-ibm-runtime<=0.29->pennylane-qiskit)\r\n",
      "  Downloading urllib3-2.2.3-py3-none-any.whl.metadata (6.5 kB)\r\n",
      "Requirement already satisfied: PyJWT<3.0.0,>=2.8.0 in /opt/conda/lib/python3.10/site-packages (from ibm-cloud-sdk-core<4.0.0,>=3.22.0->ibm-platform-services>=0.22.6->qiskit-ibm-runtime<=0.29->pennylane-qiskit) (2.8.0)\r\n",
      "Requirement already satisfied: pycparser in /opt/conda/lib/python3.10/site-packages (from cffi>=1.12->cryptography>=1.3->requests-ntlm>=1.1.0->qiskit-ibm-runtime<=0.29->pennylane-qiskit) (2.22)\r\n",
      "Downloading PennyLane-0.38.0-py3-none-any.whl (1.9 MB)\r\n",
      "\u001b[2K   \u001b[90m━━━━━━━━━━━━━━━━━━━━━━━━━━━━━━━━━━━━━━━━\u001b[0m \u001b[32m1.9/1.9 MB\u001b[0m \u001b[31m43.0 MB/s\u001b[0m eta \u001b[36m0:00:00\u001b[0m\r\n",
      "\u001b[?25hDownloading qiskit-1.2.4-cp38-abi3-manylinux_2_17_x86_64.manylinux2014_x86_64.whl (4.8 MB)\r\n",
      "\u001b[2K   \u001b[90m━━━━━━━━━━━━━━━━━━━━━━━━━━━━━━━━━━━━━━━━\u001b[0m \u001b[32m4.8/4.8 MB\u001b[0m \u001b[31m75.5 MB/s\u001b[0m eta \u001b[36m0:00:00\u001b[0m\r\n",
      "\u001b[?25hDownloading PennyLane_qiskit-0.38.1-py3-none-any.whl (44 kB)\r\n",
      "\u001b[2K   \u001b[90m━━━━━━━━━━━━━━━━━━━━━━━━━━━━━━━━━━━━━━━━\u001b[0m \u001b[32m44.4/44.4 kB\u001b[0m \u001b[31m2.1 MB/s\u001b[0m eta \u001b[36m0:00:00\u001b[0m\r\n",
      "\u001b[?25hDownloading autoray-0.7.0-py3-none-any.whl (930 kB)\r\n",
      "\u001b[2K   \u001b[90m━━━━━━━━━━━━━━━━━━━━━━━━━━━━━━━━━━━━━━━━\u001b[0m \u001b[32m930.0/930.0 kB\u001b[0m \u001b[31m40.6 MB/s\u001b[0m eta \u001b[36m0:00:00\u001b[0m\r\n",
      "\u001b[?25hDownloading PennyLane_Lightning-0.38.0-cp310-cp310-manylinux_2_28_x86_64.whl (15.3 MB)\r\n",
      "\u001b[2K   \u001b[90m━━━━━━━━━━━━━━━━━━━━━━━━━━━━━━━━━━━━━━━━\u001b[0m \u001b[32m15.3/15.3 MB\u001b[0m \u001b[31m71.4 MB/s\u001b[0m eta \u001b[36m0:00:00\u001b[0m\r\n",
      "\u001b[?25hDownloading qiskit_ibm_runtime-0.29.0-py3-none-any.whl (2.9 MB)\r\n",
      "\u001b[2K   \u001b[90m━━━━━━━━━━━━━━━━━━━━━━━━━━━━━━━━━━━━━━━━\u001b[0m \u001b[32m2.9/2.9 MB\u001b[0m \u001b[31m63.9 MB/s\u001b[0m eta \u001b[36m0:00:00\u001b[0m\r\n",
      "\u001b[?25hDownloading rustworkx-0.15.1-cp38-abi3-manylinux_2_17_x86_64.manylinux2014_x86_64.whl (2.0 MB)\r\n",
      "\u001b[2K   \u001b[90m━━━━━━━━━━━━━━━━━━━━━━━━━━━━━━━━━━━━━━━━\u001b[0m \u001b[32m2.0/2.0 MB\u001b[0m \u001b[31m53.3 MB/s\u001b[0m eta \u001b[36m0:00:00\u001b[0m\r\n",
      "\u001b[?25hDownloading stevedore-5.3.0-py3-none-any.whl (49 kB)\r\n",
      "\u001b[2K   \u001b[90m━━━━━━━━━━━━━━━━━━━━━━━━━━━━━━━━━━━━━━━━\u001b[0m \u001b[32m49.7/49.7 kB\u001b[0m \u001b[31m2.9 MB/s\u001b[0m eta \u001b[36m0:00:00\u001b[0m\r\n",
      "\u001b[?25hDownloading symengine-0.13.0-cp310-cp310-manylinux_2_17_x86_64.manylinux2014_x86_64.whl (49.7 MB)\r\n",
      "\u001b[2K   \u001b[90m━━━━━━━━━━━━━━━━━━━━━━━━━━━━━━━━━━━━━━━━\u001b[0m \u001b[32m49.7/49.7 MB\u001b[0m \u001b[31m31.5 MB/s\u001b[0m eta \u001b[36m0:00:00\u001b[0m\r\n",
      "\u001b[?25hDownloading autograd-1.7.0-py3-none-any.whl (52 kB)\r\n",
      "\u001b[2K   \u001b[90m━━━━━━━━━━━━━━━━━━━━━━━━━━━━━━━━━━━━━━━━\u001b[0m \u001b[32m52.5/52.5 kB\u001b[0m \u001b[31m2.7 MB/s\u001b[0m eta \u001b[36m0:00:00\u001b[0m\r\n",
      "\u001b[?25hDownloading qiskit_aer-0.15.1-cp310-cp310-manylinux_2_17_x86_64.manylinux2014_x86_64.whl (12.3 MB)\r\n",
      "\u001b[2K   \u001b[90m━━━━━━━━━━━━━━━━━━━━━━━━━━━━━━━━━━━━━━━━\u001b[0m \u001b[32m12.3/12.3 MB\u001b[0m \u001b[31m81.0 MB/s\u001b[0m eta \u001b[36m0:00:00\u001b[0m\r\n",
      "\u001b[?25hDownloading qiskit_ibm_provider-0.11.0-py3-none-any.whl (249 kB)\r\n",
      "\u001b[2K   \u001b[90m━━━━━━━━━━━━━━━━━━━━━━━━━━━━━━━━━━━━━━━━\u001b[0m \u001b[32m249.9/249.9 kB\u001b[0m \u001b[31m14.8 MB/s\u001b[0m eta \u001b[36m0:00:00\u001b[0m\r\n",
      "\u001b[?25hDownloading ibm_platform_services-0.58.0-py3-none-any.whl (340 kB)\r\n",
      "\u001b[2K   \u001b[90m━━━━━━━━━━━━━━━━━━━━━━━━━━━━━━━━━━━━━━━━\u001b[0m \u001b[32m340.7/340.7 kB\u001b[0m \u001b[31m19.8 MB/s\u001b[0m eta \u001b[36m0:00:00\u001b[0m\r\n",
      "\u001b[?25hDownloading pbr-6.1.0-py2.py3-none-any.whl (108 kB)\r\n",
      "\u001b[2K   \u001b[90m━━━━━━━━━━━━━━━━━━━━━━━━━━━━━━━━━━━━━━━━\u001b[0m \u001b[32m108.5/108.5 kB\u001b[0m \u001b[31m6.3 MB/s\u001b[0m eta \u001b[36m0:00:00\u001b[0m\r\n",
      "\u001b[?25hDownloading requests_ntlm-1.3.0-py3-none-any.whl (6.6 kB)\r\n",
      "Downloading ibm_cloud_sdk_core-3.22.0-py3-none-any.whl (69 kB)\r\n",
      "\u001b[2K   \u001b[90m━━━━━━━━━━━━━━━━━━━━━━━━━━━━━━━━━━━━━━━━\u001b[0m \u001b[32m69.4/69.4 kB\u001b[0m \u001b[31m4.2 MB/s\u001b[0m eta \u001b[36m0:00:00\u001b[0m\r\n",
      "\u001b[?25hDownloading urllib3-2.2.3-py3-none-any.whl (126 kB)\r\n",
      "\u001b[2K   \u001b[90m━━━━━━━━━━━━━━━━━━━━━━━━━━━━━━━━━━━━━━━━\u001b[0m \u001b[32m126.3/126.3 kB\u001b[0m \u001b[31m7.9 MB/s\u001b[0m eta \u001b[36m0:00:00\u001b[0m\r\n",
      "\u001b[?25hDownloading pyspnego-0.11.1-py3-none-any.whl (130 kB)\r\n",
      "\u001b[2K   \u001b[90m━━━━━━━━━━━━━━━━━━━━━━━━━━━━━━━━━━━━━━━━\u001b[0m \u001b[32m130.5/130.5 kB\u001b[0m \u001b[31m7.9 MB/s\u001b[0m eta \u001b[36m0:00:00\u001b[0m\r\n",
      "\u001b[?25hBuilding wheels for collected packages: pylatexenc\r\n",
      "  Building wheel for pylatexenc (setup.py) ... \u001b[?25l-\b \b\\\b \bdone\r\n",
      "\u001b[?25h  Created wheel for pylatexenc: filename=pylatexenc-2.10-py3-none-any.whl size=136816 sha256=2740dee4b02e7a24d99817584395b45e4e3089981d7a8e2d687aafe696fb98da\r\n",
      "  Stored in directory: /root/.cache/pip/wheels/d3/31/8b/e09b0386afd80cfc556c00408c9aeea5c35c4d484a9c762fd5\r\n",
      "Successfully built pylatexenc\r\n",
      "Installing collected packages: pylatexenc, urllib3, symengine, rustworkx, pbr, autoray, autograd, stevedore, qiskit, pyspnego, ibm-cloud-sdk-core, requests-ntlm, qiskit-aer, ibm-platform-services, qiskit-ibm-runtime, qiskit-ibm-provider, pennylane-lightning, pennylane, pennylane-qiskit\r\n",
      "  Attempting uninstall: urllib3\r\n",
      "    Found existing installation: urllib3 1.26.18\r\n",
      "    Uninstalling urllib3-1.26.18:\r\n",
      "      Successfully uninstalled urllib3-1.26.18\r\n",
      "\u001b[31mERROR: pip's dependency resolver does not currently take into account all the packages that are installed. This behaviour is the source of the following dependency conflicts.\r\n",
      "kfp 2.5.0 requires google-cloud-storage<3,>=2.2.1, but you have google-cloud-storage 1.44.0 which is incompatible.\r\n",
      "kfp 2.5.0 requires urllib3<2.0.0, but you have urllib3 2.2.3 which is incompatible.\r\n",
      "ydata-profiling 4.10.0 requires scipy<1.14,>=1.4.1, but you have scipy 1.14.1 which is incompatible.\u001b[0m\u001b[31m\r\n",
      "\u001b[0mSuccessfully installed autograd-1.7.0 autoray-0.7.0 ibm-cloud-sdk-core-3.22.0 ibm-platform-services-0.58.0 pbr-6.1.0 pennylane-0.38.0 pennylane-lightning-0.38.0 pennylane-qiskit-0.38.1 pylatexenc-2.10 pyspnego-0.11.1 qiskit-1.2.4 qiskit-aer-0.15.1 qiskit-ibm-provider-0.11.0 qiskit-ibm-runtime-0.29.0 requests-ntlm-1.3.0 rustworkx-0.15.1 stevedore-5.3.0 symengine-0.13.0 urllib3-2.2.1\r\n"
     ]
    }
   ],
   "source": [
    "!pip install pennylane qiskit pennylane-qiskit pylatexenc"
   ]
  },
  {
   "cell_type": "code",
   "execution_count": 3,
   "id": "dcc98b83",
   "metadata": {
    "execution": {
     "iopub.execute_input": "2024-10-24T20:21:58.134748Z",
     "iopub.status.busy": "2024-10-24T20:21:58.134332Z",
     "iopub.status.idle": "2024-10-24T20:22:03.835508Z",
     "shell.execute_reply": "2024-10-24T20:22:03.834384Z"
    },
    "id": "wITHoRhbp1XM",
    "outputId": "e9f8012a-a11d-4474-fd25-001a585a7b46",
    "papermill": {
     "duration": 5.730276,
     "end_time": "2024-10-24T20:22:03.838397",
     "exception": false,
     "start_time": "2024-10-24T20:21:58.108121",
     "status": "completed"
    },
    "tags": []
   },
   "outputs": [
    {
     "name": "stdout",
     "output_type": "stream",
     "text": [
      "0.38.0\n",
      "1.2.4\n",
      "0.38.1\n"
     ]
    }
   ],
   "source": [
    "import pennylane as qml\n",
    "import qiskit\n",
    "print(qml.__version__)\n",
    "print(qiskit.__version__)\n",
    "import pennylane_qiskit\n",
    "print(pennylane_qiskit.__version__)\n",
    "import pennylane as qml\n",
    "from pennylane import numpy as np\n",
    "# from pennylane_qiskit import AerDevice"
   ]
  },
  {
   "cell_type": "code",
   "execution_count": 4,
   "id": "38a9a929",
   "metadata": {
    "execution": {
     "iopub.execute_input": "2024-10-24T20:22:03.891168Z",
     "iopub.status.busy": "2024-10-24T20:22:03.890441Z",
     "iopub.status.idle": "2024-10-24T20:22:18.723330Z",
     "shell.execute_reply": "2024-10-24T20:22:18.721996Z"
    },
    "id": "VqjY-j8Njo0M",
    "outputId": "1cb36ad8-2f2f-45d3-f9d2-2492b2f455f7",
    "papermill": {
     "duration": 14.862642,
     "end_time": "2024-10-24T20:22:18.726298",
     "exception": false,
     "start_time": "2024-10-24T20:22:03.863656",
     "status": "completed"
    },
    "scrolled": true,
    "tags": []
   },
   "outputs": [
    {
     "name": "stdout",
     "output_type": "stream",
     "text": [
      "Collecting energyflow\r\n",
      "  Downloading EnergyFlow-1.3.2-py2.py3-none-any.whl.metadata (4.3 kB)\r\n",
      "Requirement already satisfied: numpy>=1.16.0 in /opt/conda/lib/python3.10/site-packages (from energyflow) (1.26.4)\r\n",
      "Requirement already satisfied: six>=1.10.0 in /opt/conda/lib/python3.10/site-packages (from energyflow) (1.16.0)\r\n",
      "Requirement already satisfied: h5py>=2.9.0 in /opt/conda/lib/python3.10/site-packages (from energyflow) (3.11.0)\r\n",
      "Collecting wasserstein>=0.3.1 (from energyflow)\r\n",
      "  Downloading wasserstein-1.1.0-cp310-cp310-manylinux_2_17_x86_64.manylinux2014_x86_64.whl.metadata (3.0 kB)\r\n",
      "Requirement already satisfied: wurlitzer>=2.0.0 in /opt/conda/lib/python3.10/site-packages (from wasserstein>=0.3.1->energyflow) (3.1.1)\r\n",
      "Downloading EnergyFlow-1.3.2-py2.py3-none-any.whl (700 kB)\r\n",
      "\u001b[2K   \u001b[90m━━━━━━━━━━━━━━━━━━━━━━━━━━━━━━━━━━━━━━━━\u001b[0m \u001b[32m700.5/700.5 kB\u001b[0m \u001b[31m13.1 MB/s\u001b[0m eta \u001b[36m0:00:00\u001b[0m\r\n",
      "\u001b[?25hDownloading wasserstein-1.1.0-cp310-cp310-manylinux_2_17_x86_64.manylinux2014_x86_64.whl (502 kB)\r\n",
      "\u001b[2K   \u001b[90m━━━━━━━━━━━━━━━━━━━━━━━━━━━━━━━━━━━━━━━━\u001b[0m \u001b[32m502.2/502.2 kB\u001b[0m \u001b[31m24.7 MB/s\u001b[0m eta \u001b[36m0:00:00\u001b[0m\r\n",
      "\u001b[?25hInstalling collected packages: wasserstein, energyflow\r\n",
      "Successfully installed energyflow-1.3.2 wasserstein-1.1.0\r\n"
     ]
    }
   ],
   "source": [
    "!pip install energyflow"
   ]
  },
  {
   "cell_type": "code",
   "execution_count": 5,
   "id": "a020aae7",
   "metadata": {
    "execution": {
     "iopub.execute_input": "2024-10-24T20:22:18.779850Z",
     "iopub.status.busy": "2024-10-24T20:22:18.779419Z",
     "iopub.status.idle": "2024-10-24T20:22:35.038366Z",
     "shell.execute_reply": "2024-10-24T20:22:35.036971Z"
    },
    "id": "kSESzCxAXLp5",
    "outputId": "61e98bdd-bd95-4736-ff0a-0e8d0d8b974e",
    "papermill": {
     "duration": 16.289424,
     "end_time": "2024-10-24T20:22:35.041659",
     "exception": false,
     "start_time": "2024-10-24T20:22:18.752235",
     "status": "completed"
    },
    "tags": []
   },
   "outputs": [
    {
     "name": "stdout",
     "output_type": "stream",
     "text": [
      "Downloading QG_jets.npz from https://www.dropbox.com/s/fclsl7pukcpobsb/QG_jets.npz?dl=1 to ./data/datasets\n",
      "URL fetch failure on https://www.dropbox.com/s/fclsl7pukcpobsb/QG_jets.npz?dl=1: None -- Bad Request\n",
      "Failed to download QG_jets.npz from source 'dropbox', trying next source...\n",
      "Downloading QG_jets.npz from https://zenodo.org/record/3164691/files/QG_jets.npz?download=1 to ./data/datasets\n",
      "tensor([[ True,  True,  True,  ..., False, False, False],\n",
      "        [ True,  True,  True,  ..., False, False, False],\n",
      "        [ True,  True,  True,  ..., False, False, False],\n",
      "        ...,\n",
      "        [ True,  True,  True,  ..., False, False, False],\n",
      "        [ True,  True,  True,  ..., False, False, False],\n",
      "        [ True,  True,  True,  ..., False, False, False]])\n",
      "torch.Size([16]) torch.Size([16, 139, 4]) torch.Size([16, 139, 8]) torch.Size([16, 139]) torch.Size([16, 139, 139]) torch.Size([28736]) torch.Size([28736])\n"
     ]
    }
   ],
   "source": [
    "import torch\n",
    "import numpy as np\n",
    "import energyflow\n",
    "from scipy.sparse import coo_matrix\n",
    "from torch.utils.data import TensorDataset, DataLoader\n",
    "from sklearn.preprocessing import OneHotEncoder\n",
    "from torch.utils.data.distributed import DistributedSampler\n",
    "\n",
    "\n",
    "# we define a function to return an adjacencyy matrix\n",
    "# for our graph data representing the jets.\n",
    "def get_adj_matrix(n_nodes, batch_size, edge_mask):\n",
    "    rows, cols = [], []\n",
    "    # print(edge_mask[0])\n",
    "    # raise\n",
    "    for batch_idx in range(batch_size):\n",
    "        nn = batch_idx*n_nodes\n",
    "        x = coo_matrix(edge_mask[batch_idx])\n",
    "        rows.append(nn + x.row)\n",
    "        cols.append(nn + x.col)\n",
    "    rows = np.concatenate(rows)\n",
    "    cols = np.concatenate(cols)\n",
    "\n",
    "    edges = [torch.LongTensor(rows), torch.LongTensor(cols)]\n",
    "    return edges\n",
    "\n",
    "def collate_fn(data):\n",
    "    data = list(zip(*data)) # label p4s nodes atom_mask\n",
    "    data = [torch.stack(item) for item in data]\n",
    "    batch_size, n_nodes, _ = data[1].size()\n",
    "    atom_mask = data[-1]\n",
    "    edge_mask = atom_mask.unsqueeze(1) * atom_mask.unsqueeze(2)\n",
    "    diag_mask = ~torch.eye(edge_mask.size(1), dtype=torch.bool).unsqueeze(0)\n",
    "    edge_mask *= diag_mask\n",
    "    edges = get_adj_matrix(n_nodes, batch_size, edge_mask)\n",
    "    return data + [edge_mask, edges]\n",
    "\n",
    "def retrieve_dataloaders(batch_size, num_data = -1, use_one_hot = False, cache_dir = './data', num_workers=4):\n",
    "    raw = energyflow.qg_jets.load(num_data=num_data, pad=True, ncol=4, generator='pythia',\n",
    "                            with_bc=False, cache_dir=cache_dir)\n",
    "    splits = ['train', 'val', 'test']\n",
    "    data = {type:{'raw':None,'label':None} for type in splits}\n",
    "    (data['train']['raw'],  data['val']['raw'],   data['test']['raw'],\n",
    "    data['train']['label'], data['val']['label'], data['test']['label']) = \\\n",
    "        energyflow.utils.data_split(*raw, train=0.8, val=0.1, test=0.1, shuffle = False)\n",
    "\n",
    "    enc = OneHotEncoder(handle_unknown='ignore').fit([[11],[13],[22],[130],[211],[321],[2112],[2212]])\n",
    "\n",
    "    for split, value in data.items():\n",
    "        pid = torch.from_numpy(np.abs(np.asarray(value['raw'][...,3], dtype=int))).unsqueeze(-1)\n",
    "        p4s = torch.from_numpy(energyflow.p4s_from_ptyphipids(value['raw'],error_on_unknown=True))\n",
    "        one_hot = enc.transform(pid.reshape(-1,1)).toarray().reshape(pid.shape[:2]+(-1,))\n",
    "        # one_hot = enc.transform(pid.reshape(-1,1)).toarray().reshape(pid.shape[:2]+(-1,))\n",
    "        one_hot = torch.from_numpy(one_hot)\n",
    "        mass = torch.from_numpy(energyflow.ms_from_p4s(p4s)).unsqueeze(-1)\n",
    "        charge = torch.from_numpy(energyflow.pids2chrgs(pid))\n",
    "\n",
    "        if use_one_hot:\n",
    "            nodes = one_hot\n",
    "\n",
    "        # else:\n",
    "        #     nodes = torch.cat((mass,charge),dim=-1)\n",
    "\n",
    "        #     nodes = torch.sign(nodes) * torch.log(torch.abs(nodes) + 1)\n",
    "\n",
    "\n",
    "        else:\n",
    "              # Concatenate mass and charge along the last dimension\n",
    "              concatenated = torch.cat((mass, charge), dim=-1)  # Shape (batch_size, n_nodes, 2)\n",
    "\n",
    "              # Reduce along the last dimension (e.g., by summing or averaging)\n",
    "              nodes = concatenated.sum(dim=-1, keepdim=True)  # Shape (batch_size, n_nodes, 1)\n",
    "\n",
    "              # Apply log-sign transformation if needed\n",
    "              nodes = torch.sign(nodes) * torch.log(torch.abs(nodes) + 1)\n",
    "\n",
    "        atom_mask = (pid[...,0] != 0)\n",
    "\n",
    "        value['p4s'] = p4s\n",
    "        value['nodes'] = nodes\n",
    "        value['label'] = torch.from_numpy(value['label'])\n",
    "        value['atom_mask'] = atom_mask.to(torch.bool)\n",
    "\n",
    "        if split == 'train':\n",
    "            print(value['atom_mask'])\n",
    "\n",
    "    datasets = {split: TensorDataset(value['label'], value['p4s'],\n",
    "                                     value['nodes'], value['atom_mask'])\n",
    "                for split, value in data.items()}\n",
    "\n",
    "    # distributed training\n",
    "    # train_sampler = DistributedSampler(datasets['train'], shuffle=True)\n",
    "    # Construct PyTorch dataloaders from datasets\n",
    "    dataloaders = {split: DataLoader(dataset,\n",
    "                                     batch_size=batch_size,\n",
    "                                     # sampler=train_sampler if (split == 'train') else DistributedSampler(dataset, shuffle=False),\n",
    "                                     pin_memory=False,\n",
    "                                     # persistent_workers=True,\n",
    "                                     drop_last=True if (split == 'train') else False,\n",
    "                                     num_workers=num_workers,\n",
    "                                     collate_fn=collate_fn)\n",
    "                        for split, dataset in datasets.items()}\n",
    "\n",
    "    return dataloaders #train_sampler, dataloaders\n",
    "\n",
    "if __name__ == '__main__':\n",
    "    # train_sampler, dataloaders = retrieve_dataloaders(32, 100)\n",
    "    dataloaders = retrieve_dataloaders(batch_size=16, num_data = 20, use_one_hot = True)\n",
    "    for (label, p4s, nodes, atom_mask, edge_mask, edges) in dataloaders['train']:\n",
    "        print(label.shape, p4s.shape, nodes.shape, atom_mask.shape,\n",
    "              edge_mask.shape, edges[0].shape, edges[1].shape)\n",
    "        break"
   ]
  },
  {
   "cell_type": "code",
   "execution_count": 6,
   "id": "25ba3144",
   "metadata": {
    "execution": {
     "iopub.execute_input": "2024-10-24T20:22:35.097702Z",
     "iopub.status.busy": "2024-10-24T20:22:35.096026Z",
     "iopub.status.idle": "2024-10-24T20:22:35.269009Z",
     "shell.execute_reply": "2024-10-24T20:22:35.267640Z"
    },
    "id": "5I20CB8IXLp6",
    "outputId": "5fbcfdb9-80d8-4630-eda4-c2df78a6407d",
    "papermill": {
     "duration": 0.203499,
     "end_time": "2024-10-24T20:22:35.271648",
     "exception": false,
     "start_time": "2024-10-24T20:22:35.068149",
     "status": "completed"
    },
    "tags": []
   },
   "outputs": [
    {
     "name": "stdout",
     "output_type": "stream",
     "text": [
      "Label shape: torch.Size([16])\n",
      "4-momenta shape: torch.Size([16, 139, 4])\n",
      "Node features shape: torch.Size([16, 139, 8])\n",
      "Atom mask shape: torch.Size([16, 139])\n",
      "Edge mask shape: torch.Size([16, 139, 139])\n",
      "Edge indices shapes: torch.Size([28736]), torch.Size([28736])\n"
     ]
    }
   ],
   "source": [
    "# Test the first batch\n",
    "for label, p4s, nodes, atom_mask, edge_mask, edges in dataloaders[\"train\"]:\n",
    "    print(f\"Label shape: {label.shape}\")\n",
    "    print(f\"4-momenta shape: {p4s.shape}\")\n",
    "    print(f\"Node features shape: {nodes.shape}\")\n",
    "    print(f\"Atom mask shape: {atom_mask.shape}\")\n",
    "    print(f\"Edge mask shape: {edge_mask.shape}\")\n",
    "    print(f\"Edge indices shapes: {edges[0].shape}, {edges[1].shape}\")\n",
    "    break"
   ]
  },
  {
   "cell_type": "code",
   "execution_count": 7,
   "id": "3033e27f",
   "metadata": {
    "execution": {
     "iopub.execute_input": "2024-10-24T20:22:35.326743Z",
     "iopub.status.busy": "2024-10-24T20:22:35.326306Z",
     "iopub.status.idle": "2024-10-24T20:22:47.314439Z",
     "shell.execute_reply": "2024-10-24T20:22:47.312903Z"
    },
    "id": "SKTo7tNemda4",
    "outputId": "adae491b-4682-45b9-924c-31b85a79279d",
    "papermill": {
     "duration": 12.018641,
     "end_time": "2024-10-24T20:22:47.316945",
     "exception": false,
     "start_time": "2024-10-24T20:22:35.298304",
     "status": "completed"
    },
    "tags": []
   },
   "outputs": [
    {
     "name": "stdout",
     "output_type": "stream",
     "text": [
      "Downloading QG_jets.npz from https://www.dropbox.com/s/fclsl7pukcpobsb/QG_jets.npz?dl=1 to /root/.energyflow/datasets\n",
      "URL fetch failure on https://www.dropbox.com/s/fclsl7pukcpobsb/QG_jets.npz?dl=1: None -- Bad Request\n",
      "Failed to download QG_jets.npz from source 'dropbox', trying next source...\n",
      "Downloading QG_jets.npz from https://zenodo.org/record/3164691/files/QG_jets.npz?download=1 to /root/.energyflow/datasets\n",
      "Saved tensor files to random/data\n",
      "Shapes:\n",
      "p4s: torch.Size([1000, 139, 4])\n",
      "nodes: torch.Size([1000, 139, 1])\n",
      "labels: torch.Size([1000])\n",
      "atom_mask: torch.Size([1000, 139])\n",
      "edge_mask: torch.Size([1000, 139, 139])\n",
      "edges: (2, 2145950)\n"
     ]
    }
   ],
   "source": [
    "import torch\n",
    "import numpy as np\n",
    "import energyflow\n",
    "import os\n",
    "from sklearn.preprocessing import OneHotEncoder\n",
    "from scipy.sparse import coo_matrix\n",
    "\n",
    "def save_physics_tensors(num_data=-1, use_one_hot=False, save_dir=\"random/data\"):\n",
    "    \"\"\"\n",
    "    Generate and save tensor data files needed for physics analysis.\n",
    "\n",
    "    Args:\n",
    "        num_data: Number of data points to generate (-1 for all)\n",
    "        save_dir: Directory to save the tensor files\n",
    "    \"\"\"\n",
    "    # Create save directory if it doesn't exist\n",
    "    os.makedirs(save_dir, exist_ok=True)\n",
    "\n",
    "    # Load raw data\n",
    "    raw = energyflow.qg_jets.load(\n",
    "        num_data=num_data,\n",
    "        pad=True,\n",
    "        ncol=4,\n",
    "        generator=\"pythia\",\n",
    "        with_bc=False,\n",
    "    )\n",
    "\n",
    "    # Get data and labels\n",
    "    data, labels = raw\n",
    "\n",
    "    # Initialize one-hot encoder for particle IDs\n",
    "    enc = OneHotEncoder(handle_unknown=\"ignore\").fit(\n",
    "        [[11], [13], [22], [130], [211], [321], [2112], [2212]]\n",
    "    )\n",
    "\n",
    "    # Process data\n",
    "    pid = torch.from_numpy(np.abs(np.asarray(data[..., 3], dtype=int))).unsqueeze(-1)\n",
    "    p4s = torch.from_numpy(energyflow.p4s_from_ptyphipids(data, error_on_unknown=True))\n",
    "\n",
    "    # Create one-hot encoded nodes\n",
    "    one_hot = enc.transform(pid.reshape(-1, 1)).toarray().reshape(pid.shape[:2] + (-1,))\n",
    "    nodes = torch.from_numpy(one_hot)\n",
    "    mass = torch.from_numpy(energyflow.ms_from_p4s(p4s)).unsqueeze(-1)\n",
    "    charge = torch.from_numpy(energyflow.pids2chrgs(pid))\n",
    "\n",
    "    if use_one_hot:\n",
    "        nodes = one_hot\n",
    "\n",
    "    else:\n",
    "          # Concatenate mass and charge along the last dimension\n",
    "          concatenated = torch.cat((mass, charge), dim=-1)  # Shape (batch_size, n_nodes, 2)\n",
    "\n",
    "          # Reduce along the last dimension (e.g., by summing or averaging)\n",
    "          nodes = concatenated.sum(dim=-1, keepdim=True)  # Shape (batch_size, n_nodes, 1)\n",
    "\n",
    "          # Apply log-sign transformation if needed\n",
    "          nodes = torch.sign(nodes) * torch.log(torch.abs(nodes) + 1)\n",
    "\n",
    "    # Create masks\n",
    "    atom_mask = (pid[..., 0] != 0).to(torch.bool)\n",
    "\n",
    "    # Create edge mask\n",
    "    edge_mask = atom_mask.unsqueeze(1) * atom_mask.unsqueeze(2)\n",
    "    diag_mask = ~torch.eye(edge_mask.size(1), dtype=torch.bool).unsqueeze(0)\n",
    "    edge_mask = edge_mask * diag_mask\n",
    "\n",
    "    # Convert labels to tensor\n",
    "    labels = torch.from_numpy(labels)\n",
    "\n",
    "    # Calculate edges for the full dataset\n",
    "    n_nodes = p4s.size(1)\n",
    "    batch_size = p4s.size(0)\n",
    "\n",
    "    rows, cols = [], []\n",
    "    for batch_idx in range(batch_size):\n",
    "        nn = batch_idx * n_nodes\n",
    "        x = coo_matrix(edge_mask[batch_idx])\n",
    "        rows.append(nn + x.row)\n",
    "        cols.append(nn + x.col)\n",
    "    rows = np.concatenate(rows)\n",
    "    cols = np.concatenate(cols)\n",
    "    edges = np.stack([rows, cols])\n",
    "\n",
    "    # Save tensors\n",
    "    torch.save(p4s, os.path.join(save_dir, \"p4s.pt\"))\n",
    "    torch.save(nodes, os.path.join(save_dir, \"nodes.pt\"))\n",
    "    torch.save(labels, os.path.join(save_dir, \"labels.pt\"))\n",
    "    torch.save(atom_mask, os.path.join(save_dir, \"atom_mask.pt\"))\n",
    "    np.save(os.path.join(save_dir, \"edge_mask.npy\"), edge_mask.numpy())\n",
    "    np.save(os.path.join(save_dir, \"edges.npy\"), edges)\n",
    "\n",
    "    print(f\"Saved tensor files to {save_dir}\")\n",
    "    print(f\"Shapes:\")\n",
    "    print(f\"p4s: {p4s.shape}\")\n",
    "    print(f\"nodes: {nodes.shape}\")\n",
    "    print(f\"labels: {labels.shape}\")\n",
    "    print(f\"atom_mask: {atom_mask.shape}\")\n",
    "    print(f\"edge_mask: {edge_mask.shape}\")\n",
    "    print(f\"edges: {edges.shape}\")\n",
    "\n",
    "# Generate and save the tensor files\n",
    "save_physics_tensors(num_data=1000, use_one_hot=False)  # Use same number of data points as before"
   ]
  },
  {
   "cell_type": "code",
   "execution_count": 8,
   "id": "649b5042",
   "metadata": {
    "execution": {
     "iopub.execute_input": "2024-10-24T20:22:47.372320Z",
     "iopub.status.busy": "2024-10-24T20:22:47.371534Z",
     "iopub.status.idle": "2024-10-24T20:22:47.407601Z",
     "shell.execute_reply": "2024-10-24T20:22:47.406356Z"
    },
    "id": "bj-Ig4VZXLp6",
    "outputId": "839e7ac0-eeba-4b18-db42-40fcd3d50593",
    "papermill": {
     "duration": 0.06705,
     "end_time": "2024-10-24T20:22:47.410585",
     "exception": false,
     "start_time": "2024-10-24T20:22:47.343535",
     "status": "completed"
    },
    "tags": []
   },
   "outputs": [
    {
     "name": "stderr",
     "output_type": "stream",
     "text": [
      "/tmp/ipykernel_18/1146867464.py:31: FutureWarning: You are using `torch.load` with `weights_only=False` (the current default value), which uses the default pickle module implicitly. It is possible to construct malicious pickle data which will execute arbitrary code during unpickling (See https://github.com/pytorch/pytorch/blob/main/SECURITY.md#untrusted-models for more details). In a future release, the default value for `weights_only` will be flipped to `True`. This limits the functions that could be executed during unpickling. Arbitrary objects will no longer be allowed to be loaded via this mode unless they are explicitly allowlisted by the user via `torch.serialization.add_safe_globals`. We recommend you start setting `weights_only=True` for any use case where you don't have full control of the loaded file. Please open an issue on GitHub for any issues related to this experimental feature.\n",
      "  p4s = torch.load('random/data/p4s.pt')\n",
      "/tmp/ipykernel_18/1146867464.py:32: FutureWarning: You are using `torch.load` with `weights_only=False` (the current default value), which uses the default pickle module implicitly. It is possible to construct malicious pickle data which will execute arbitrary code during unpickling (See https://github.com/pytorch/pytorch/blob/main/SECURITY.md#untrusted-models for more details). In a future release, the default value for `weights_only` will be flipped to `True`. This limits the functions that could be executed during unpickling. Arbitrary objects will no longer be allowed to be loaded via this mode unless they are explicitly allowlisted by the user via `torch.serialization.add_safe_globals`. We recommend you start setting `weights_only=True` for any use case where you don't have full control of the loaded file. Please open an issue on GitHub for any issues related to this experimental feature.\n",
      "  nodes = torch.load('random/data/nodes.pt')\n",
      "/tmp/ipykernel_18/1146867464.py:33: FutureWarning: You are using `torch.load` with `weights_only=False` (the current default value), which uses the default pickle module implicitly. It is possible to construct malicious pickle data which will execute arbitrary code during unpickling (See https://github.com/pytorch/pytorch/blob/main/SECURITY.md#untrusted-models for more details). In a future release, the default value for `weights_only` will be flipped to `True`. This limits the functions that could be executed during unpickling. Arbitrary objects will no longer be allowed to be loaded via this mode unless they are explicitly allowlisted by the user via `torch.serialization.add_safe_globals`. We recommend you start setting `weights_only=True` for any use case where you don't have full control of the loaded file. Please open an issue on GitHub for any issues related to this experimental feature.\n",
      "  labels = torch.load('random/data/labels.pt')\n",
      "/tmp/ipykernel_18/1146867464.py:34: FutureWarning: You are using `torch.load` with `weights_only=False` (the current default value), which uses the default pickle module implicitly. It is possible to construct malicious pickle data which will execute arbitrary code during unpickling (See https://github.com/pytorch/pytorch/blob/main/SECURITY.md#untrusted-models for more details). In a future release, the default value for `weights_only` will be flipped to `True`. This limits the functions that could be executed during unpickling. Arbitrary objects will no longer be allowed to be loaded via this mode unless they are explicitly allowlisted by the user via `torch.serialization.add_safe_globals`. We recommend you start setting `weights_only=True` for any use case where you don't have full control of the loaded file. Please open an issue on GitHub for any issues related to this experimental feature.\n",
      "  atom_mask = torch.load('random/data/atom_mask.pt')\n"
     ]
    }
   ],
   "source": [
    "from torch.utils.data import TensorDataset, random_split\n",
    "\n",
    "def get_adj_matrix(n_nodes, batch_size, edge_mask):\n",
    "    rows, cols = [], []\n",
    "    for batch_idx in range(batch_size):\n",
    "        nn = batch_idx*n_nodes\n",
    "        x = coo_matrix(edge_mask[batch_idx])\n",
    "        rows.append(nn + x.row)\n",
    "        cols.append(nn + x.col)\n",
    "    rows = np.concatenate(rows)\n",
    "    cols = np.concatenate(cols)\n",
    "\n",
    "    edges = [torch.LongTensor(rows), torch.LongTensor(cols)]\n",
    "    return edges\n",
    "\n",
    "def collate_fn(data):\n",
    "    data = list(zip(*data)) # label p4s nodes atom_mask\n",
    "    data = [torch.stack(item) for item in data]\n",
    "    batch_size, n_nodes, _ = data[1].size()\n",
    "    atom_mask = data[-1]\n",
    "    # edge_mask = atom_mask.unsqueeze(1) * atom_mask.unsqueeze(2)\n",
    "    # diag_mask = ~torch.eye(edge_mask.size(1), dtype=torch.bool).unsqueeze(0)\n",
    "    # edge_mask *= diag_mask\n",
    "\n",
    "    edge_mask = data[-2]\n",
    "\n",
    "    edges = get_adj_matrix(n_nodes, batch_size, edge_mask)\n",
    "    return data + [edges]\n",
    "\n",
    "\n",
    "p4s = torch.load('random/data/p4s.pt')\n",
    "nodes = torch.load('random/data/nodes.pt')\n",
    "labels = torch.load('random/data/labels.pt')\n",
    "atom_mask = torch.load('random/data/atom_mask.pt')\n",
    "edge_mask = torch.from_numpy(np.load('random/data/edge_mask.npy'))\n",
    "edges = torch.from_numpy(np.load('random/data/edges.npy'))\n",
    "\n",
    "\n",
    "# Create a TensorDataset\n",
    "dataset_all = TensorDataset(labels, p4s, nodes, atom_mask, edge_mask)\n",
    "\n",
    "# Define the split ratios\n",
    "train_ratio = 0.8\n",
    "val_ratio = 0.1\n",
    "test_ratio = 0.1\n",
    "\n",
    "# Calculate the lengths for each split\n",
    "total_size = len(dataset_all)\n",
    "train_size = int(total_size * train_ratio)\n",
    "val_size = int(total_size * val_ratio)\n",
    "test_size = total_size - train_size - val_size  # Ensure all data is used\n",
    "\n",
    "# Split the dataset\n",
    "train_dataset, val_dataset, test_dataset = random_split(dataset_all, [train_size, val_size, test_size])\n",
    "\n",
    "# Create a dictionary to hold the datasets\n",
    "datasets = {\n",
    "    \"train\": train_dataset,\n",
    "    \"val\": val_dataset,\n",
    "    \"test\": test_dataset\n",
    "}\n",
    "\n",
    "dataloaders = {split: DataLoader(dataset,\n",
    "                                 batch_size=16,\n",
    "                                 # sampler=train_sampler if (split == 'train') else DistributedSampler(dataset, shuffle=False),\n",
    "                                 pin_memory=False,\n",
    "                                 # persistent_workers=True,\n",
    "                                 collate_fn = collate_fn,\n",
    "                                 drop_last=True if (split == 'train') else False,\n",
    "                                 num_workers=0)\n",
    "                    for split, dataset in datasets.items()}"
   ]
  },
  {
   "cell_type": "code",
   "execution_count": 9,
   "id": "84b1e176",
   "metadata": {
    "execution": {
     "iopub.execute_input": "2024-10-24T20:22:47.466089Z",
     "iopub.status.busy": "2024-10-24T20:22:47.465665Z",
     "iopub.status.idle": "2024-10-24T20:22:47.471115Z",
     "shell.execute_reply": "2024-10-24T20:22:47.469387Z"
    },
    "id": "dh8IsQXgXLp7",
    "papermill": {
     "duration": 0.03614,
     "end_time": "2024-10-24T20:22:47.473512",
     "exception": false,
     "start_time": "2024-10-24T20:22:47.437372",
     "status": "completed"
    },
    "tags": []
   },
   "outputs": [],
   "source": [
    "# # we can peek at a batch to see what it looks like.\n",
    "# next(iter(dataloaders['val']))"
   ]
  },
  {
   "cell_type": "code",
   "execution_count": 10,
   "id": "db25d789",
   "metadata": {
    "execution": {
     "iopub.execute_input": "2024-10-24T20:22:47.528941Z",
     "iopub.status.busy": "2024-10-24T20:22:47.528538Z",
     "iopub.status.idle": "2024-10-24T20:22:47.534774Z",
     "shell.execute_reply": "2024-10-24T20:22:47.533680Z"
    },
    "id": "d5obJPELXLp7",
    "outputId": "8cdc0c11-df10-4e58-c236-b96977e21166",
    "papermill": {
     "duration": 0.037377,
     "end_time": "2024-10-24T20:22:47.537391",
     "exception": false,
     "start_time": "2024-10-24T20:22:47.500014",
     "status": "completed"
    },
    "tags": []
   },
   "outputs": [
    {
     "name": "stdout",
     "output_type": "stream",
     "text": [
      "torch.Size([1000, 139, 4])\n",
      "torch.Size([1000, 139, 1])\n",
      "torch.Size([1000, 139])\n",
      "torch.Size([1000, 139, 139])\n"
     ]
    }
   ],
   "source": [
    "print(p4s.shape) # p4s\n",
    "print(nodes.shape) # mass\n",
    "print(atom_mask.shape) # torch.ones\n",
    "print(edge_mask.shape) # adj_matrix"
   ]
  },
  {
   "cell_type": "code",
   "execution_count": 11,
   "id": "1bb9e689",
   "metadata": {
    "execution": {
     "iopub.execute_input": "2024-10-24T20:22:47.592559Z",
     "iopub.status.busy": "2024-10-24T20:22:47.592121Z",
     "iopub.status.idle": "2024-10-24T20:22:47.603040Z",
     "shell.execute_reply": "2024-10-24T20:22:47.601582Z"
    },
    "id": "01O7t2mkXLp8",
    "outputId": "b7e39edc-c3fd-4d52-bdfd-217df4810f63",
    "papermill": {
     "duration": 0.042147,
     "end_time": "2024-10-24T20:22:47.606281",
     "exception": false,
     "start_time": "2024-10-24T20:22:47.564134",
     "status": "completed"
    },
    "tags": []
   },
   "outputs": [
    {
     "data": {
      "text/plain": [
       "{'train': <torch.utils.data.dataloader.DataLoader at 0x7bd1276024d0>,\n",
       " 'val': <torch.utils.data.dataloader.DataLoader at 0x7bd10a68fc70>,\n",
       " 'test': <torch.utils.data.dataloader.DataLoader at 0x7bd10a68d630>}"
      ]
     },
     "execution_count": 11,
     "metadata": {},
     "output_type": "execute_result"
    }
   ],
   "source": [
    "dataloaders"
   ]
  },
  {
   "cell_type": "code",
   "execution_count": 12,
   "id": "6caa70b9",
   "metadata": {
    "execution": {
     "iopub.execute_input": "2024-10-24T20:22:47.667852Z",
     "iopub.status.busy": "2024-10-24T20:22:47.667411Z",
     "iopub.status.idle": "2024-10-24T20:22:47.691720Z",
     "shell.execute_reply": "2024-10-24T20:22:47.690542Z"
    },
    "id": "TEs9qVoYXLp8",
    "outputId": "d50c2761-09f4-4212-db8a-3854e4c63354",
    "papermill": {
     "duration": 0.055842,
     "end_time": "2024-10-24T20:22:47.694154",
     "exception": false,
     "start_time": "2024-10-24T20:22:47.638312",
     "status": "completed"
    },
    "tags": []
   },
   "outputs": [
    {
     "name": "stdout",
     "output_type": "stream",
     "text": [
      "Initial shapes:\n",
      "p4s: torch.Size([1000, 139, 4])\n",
      "atom_mask: torch.Size([1000, 139])\n",
      "edge_mask: torch.Size([1000, 139, 139])\n",
      "nodes: torch.Size([1000, 139, 1])\n",
      "\n",
      "After selection shapes:\n",
      "p4s: torch.Size([1, 3, 4])\n",
      "atom_mask: torch.Size([1, 3])\n",
      "edge_mask: torch.Size([1, 3, 3])\n",
      "nodes: torch.Size([1, 3, 1])\n",
      "\n",
      "After reshape shapes:\n",
      "atom_positions: torch.Size([3, 4])\n",
      "atom_mask: torch.Size([3, 1])\n",
      "edge_mask: torch.Size([1, 3, 3])\n",
      "nodes: torch.Size([3, 1])\n",
      "\n",
      "Final shapes:\n",
      "atom_positions: torch.Size([3, 4])\n",
      "atom_mask: torch.Size([3, 1])\n",
      "edge_mask: torch.Size([9, 1])\n",
      "nodes: torch.Size([3, 1])\n",
      "edges: [torch.Size([6]), torch.Size([6])]\n"
     ]
    }
   ],
   "source": [
    "# Set desired dimensions\n",
    "batch_size = 1\n",
    "n_nodes = 3\n",
    "device = 'cpu'\n",
    "dtype = torch.float32\n",
    "\n",
    "# Print initial shapes\n",
    "print(\"Initial shapes:\")\n",
    "print(\"p4s:\", p4s.shape)\n",
    "print(\"atom_mask:\", atom_mask.shape)\n",
    "print(\"edge_mask:\", edge_mask.shape)\n",
    "print(\"nodes:\", nodes.shape)\n",
    "\n",
    "# Select subset of data\n",
    "p4s = p4s[:batch_size, :n_nodes, :]\n",
    "atom_mask = atom_mask[:batch_size, :n_nodes]\n",
    "edge_mask = edge_mask[:batch_size, :n_nodes, :n_nodes]\n",
    "nodes = nodes[:batch_size, :n_nodes, :]\n",
    "\n",
    "print(\"\\nAfter selection shapes:\")\n",
    "print(\"p4s:\", p4s.shape)\n",
    "print(\"atom_mask:\", atom_mask.shape)\n",
    "print(\"edge_mask:\", edge_mask.shape)\n",
    "print(\"nodes:\", nodes.shape)\n",
    "\n",
    "# Reshape tensors\n",
    "atom_positions = p4s.view(batch_size * n_nodes, -1).to(device, dtype)\n",
    "atom_mask = atom_mask.view(batch_size * n_nodes, -1).to(device, dtype)\n",
    "# Don't reshape edge_mask yet\n",
    "nodes = nodes.view(batch_size * n_nodes, -1).to(device, dtype)\n",
    "\n",
    "print(\"\\nAfter reshape shapes:\")\n",
    "print(\"atom_positions:\", atom_positions.shape)\n",
    "print(\"atom_mask:\", atom_mask.shape)\n",
    "print(\"edge_mask:\", edge_mask.shape)  # original shape\n",
    "print(\"nodes:\", nodes.shape)\n",
    "\n",
    "# Recalculate edges for the subset\n",
    "from scipy.sparse import coo_matrix\n",
    "rows, cols = [], []\n",
    "for batch_idx in range(batch_size):\n",
    "    nn = batch_idx * n_nodes\n",
    "    # Convert edge_mask to numpy and remove any extra dimensions\n",
    "    edge_mask_np = edge_mask[batch_idx].cpu().numpy().squeeze()\n",
    "    x = coo_matrix(edge_mask_np)\n",
    "    rows.append(nn + x.row)\n",
    "    cols.append(nn + x.col)\n",
    "\n",
    "edges = [torch.LongTensor(np.concatenate(rows)).to(device),\n",
    "         torch.LongTensor(np.concatenate(cols)).to(device)]\n",
    "\n",
    "# Now reshape edge_mask after edges are calculated\n",
    "edge_mask = edge_mask.reshape(batch_size * n_nodes * n_nodes, -1).to(device)\n",
    "\n",
    "print(\"\\nFinal shapes:\")\n",
    "print(\"atom_positions:\", atom_positions.shape)\n",
    "print(\"atom_mask:\", atom_mask.shape)\n",
    "print(\"edge_mask:\", edge_mask.shape)\n",
    "print(\"nodes:\", nodes.shape)\n",
    "print(\"edges:\", [e.shape for e in edges])"
   ]
  },
  {
   "cell_type": "code",
   "execution_count": 13,
   "id": "4db49d56",
   "metadata": {
    "execution": {
     "iopub.execute_input": "2024-10-24T20:22:47.750048Z",
     "iopub.status.busy": "2024-10-24T20:22:47.749617Z",
     "iopub.status.idle": "2024-10-24T20:22:47.757950Z",
     "shell.execute_reply": "2024-10-24T20:22:47.757002Z"
    },
    "id": "dj_AzmjvXLp9",
    "papermill": {
     "duration": 0.039063,
     "end_time": "2024-10-24T20:22:47.760304",
     "exception": false,
     "start_time": "2024-10-24T20:22:47.721241",
     "status": "completed"
    },
    "tags": []
   },
   "outputs": [],
   "source": [
    "batch_size = 1  #2500 #1\n",
    "n_nodes = 3 #139\n",
    "device = 'cpu'\n",
    "dtype = torch.float32\n",
    "\n",
    "atom_positions = p4s[:, :, :].view(batch_size * n_nodes, -1).to(device, dtype)\n",
    "\n",
    "atom_mask = atom_mask.view(batch_size * n_nodes, -1).to(device, dtype)\n",
    "edge_mask = edge_mask.reshape(batch_size * n_nodes * n_nodes, -1).to(device)\n",
    "\n",
    "edges = [a.to(device) for a in edges]\n",
    "nodes = nodes.view(batch_size * n_nodes, -1).to(device,dtype)"
   ]
  },
  {
   "cell_type": "code",
   "execution_count": 14,
   "id": "34959d83",
   "metadata": {
    "execution": {
     "iopub.execute_input": "2024-10-24T20:22:47.832268Z",
     "iopub.status.busy": "2024-10-24T20:22:47.831814Z",
     "iopub.status.idle": "2024-10-24T20:22:47.839584Z",
     "shell.execute_reply": "2024-10-24T20:22:47.837802Z"
    },
    "id": "cNq2qPiZKqis",
    "outputId": "8dfa72c5-27b6-467b-83f8-36e2ad8223ea",
    "papermill": {
     "duration": 0.051257,
     "end_time": "2024-10-24T20:22:47.844156",
     "exception": false,
     "start_time": "2024-10-24T20:22:47.792899",
     "status": "completed"
    },
    "tags": []
   },
   "outputs": [
    {
     "name": "stdout",
     "output_type": "stream",
     "text": [
      "\n",
      "Final shapes:\n",
      "atom_positions: torch.Size([3, 4])\n",
      "atom_mask: torch.Size([3, 1])\n",
      "edge_mask: torch.Size([9, 1])\n",
      "nodes: torch.Size([3, 1])\n",
      "edges: [torch.Size([6]), torch.Size([6])]\n"
     ]
    }
   ],
   "source": [
    "print(\"\\nFinal shapes:\")\n",
    "print(\"atom_positions:\", atom_positions.shape)\n",
    "print(\"atom_mask:\", atom_mask.shape)\n",
    "print(\"edge_mask:\", edge_mask.shape)\n",
    "print(\"nodes:\", nodes.shape)\n",
    "print(\"edges:\", [e.shape for e in edges])"
   ]
  },
  {
   "cell_type": "code",
   "execution_count": 15,
   "id": "09253743",
   "metadata": {
    "execution": {
     "iopub.execute_input": "2024-10-24T20:22:47.904079Z",
     "iopub.status.busy": "2024-10-24T20:22:47.903079Z",
     "iopub.status.idle": "2024-10-24T20:22:47.918243Z",
     "shell.execute_reply": "2024-10-24T20:22:47.917149Z"
    },
    "id": "NQhDkqAQXLp9",
    "outputId": "c503537a-d0bd-4cdf-db50-825746d3eb2d",
    "papermill": {
     "duration": 0.046098,
     "end_time": "2024-10-24T20:22:47.920626",
     "exception": false,
     "start_time": "2024-10-24T20:22:47.874528",
     "status": "completed"
    },
    "tags": []
   },
   "outputs": [
    {
     "data": {
      "text/plain": [
       "tensor([1.])"
      ]
     },
     "execution_count": 15,
     "metadata": {},
     "output_type": "execute_result"
    }
   ],
   "source": [
    "atom_mask[0]#.shape"
   ]
  },
  {
   "cell_type": "code",
   "execution_count": 16,
   "id": "633b3540",
   "metadata": {
    "execution": {
     "iopub.execute_input": "2024-10-24T20:22:47.976728Z",
     "iopub.status.busy": "2024-10-24T20:22:47.976290Z",
     "iopub.status.idle": "2024-10-24T20:22:47.984743Z",
     "shell.execute_reply": "2024-10-24T20:22:47.983566Z"
    },
    "id": "zTcu7crAXLp9",
    "outputId": "e5c5698d-9e54-4c0f-9b24-883312b1485d",
    "papermill": {
     "duration": 0.039711,
     "end_time": "2024-10-24T20:22:47.987355",
     "exception": false,
     "start_time": "2024-10-24T20:22:47.947644",
     "status": "completed"
    },
    "tags": []
   },
   "outputs": [
    {
     "data": {
      "text/plain": [
       "tensor([ 1.1594, -0.2378, -1.1238, -0.0723], dtype=torch.float64)"
      ]
     },
     "execution_count": 16,
     "metadata": {},
     "output_type": "execute_result"
    }
   ],
   "source": [
    "p4s[0][2]"
   ]
  },
  {
   "cell_type": "code",
   "execution_count": 17,
   "id": "860b9030",
   "metadata": {
    "execution": {
     "iopub.execute_input": "2024-10-24T20:22:48.045753Z",
     "iopub.status.busy": "2024-10-24T20:22:48.045303Z",
     "iopub.status.idle": "2024-10-24T20:22:48.052661Z",
     "shell.execute_reply": "2024-10-24T20:22:48.051556Z"
    },
    "id": "TWPwTZmNXLp-",
    "outputId": "33e79a36-7004-4a0d-9eb3-52f1e0646462",
    "papermill": {
     "duration": 0.040024,
     "end_time": "2024-10-24T20:22:48.055110",
     "exception": false,
     "start_time": "2024-10-24T20:22:48.015086",
     "status": "completed"
    },
    "tags": []
   },
   "outputs": [
    {
     "data": {
      "text/plain": [
       "torch.Size([3, 1])"
      ]
     },
     "execution_count": 17,
     "metadata": {},
     "output_type": "execute_result"
    }
   ],
   "source": [
    "atom_mask.shape"
   ]
  },
  {
   "cell_type": "code",
   "execution_count": 18,
   "id": "e4cc4028",
   "metadata": {
    "execution": {
     "iopub.execute_input": "2024-10-24T20:22:48.112819Z",
     "iopub.status.busy": "2024-10-24T20:22:48.111362Z",
     "iopub.status.idle": "2024-10-24T20:22:48.119268Z",
     "shell.execute_reply": "2024-10-24T20:22:48.118142Z"
    },
    "id": "dfthGhJ3XLp-",
    "outputId": "ae0d7ad3-8a66-4e80-9aa2-f74f10f7caa4",
    "papermill": {
     "duration": 0.039218,
     "end_time": "2024-10-24T20:22:48.121692",
     "exception": false,
     "start_time": "2024-10-24T20:22:48.082474",
     "status": "completed"
    },
    "tags": []
   },
   "outputs": [
    {
     "data": {
      "text/plain": [
       "torch.Size([1, 3, 4])"
      ]
     },
     "execution_count": 18,
     "metadata": {},
     "output_type": "execute_result"
    }
   ],
   "source": [
    "p4s.shape # batch_size (number of jets or graphs), n_nodes (particles), n_features"
   ]
  },
  {
   "cell_type": "code",
   "execution_count": 19,
   "id": "a03dede2",
   "metadata": {
    "execution": {
     "iopub.execute_input": "2024-10-24T20:22:48.179450Z",
     "iopub.status.busy": "2024-10-24T20:22:48.178513Z",
     "iopub.status.idle": "2024-10-24T20:22:48.188672Z",
     "shell.execute_reply": "2024-10-24T20:22:48.187445Z"
    },
    "id": "fDPOFJnXXLp-",
    "outputId": "cb476565-9a69-4f8e-ffa0-90f75e7a6561",
    "papermill": {
     "duration": 0.041329,
     "end_time": "2024-10-24T20:22:48.190930",
     "exception": false,
     "start_time": "2024-10-24T20:22:48.149601",
     "status": "completed"
    },
    "tags": []
   },
   "outputs": [
    {
     "name": "stdout",
     "output_type": "stream",
     "text": [
      "Atom mask: tensor([[1.],\n",
      "        [1.]])\n",
      "Atom positions (x features, 4-momenta): tensor([[ 0.2861,  0.0078, -0.2687,  0.0980],\n",
      "        [ 0.1653, -0.0258, -0.1580, -0.0414]])\n",
      "Nodes (scalars: mass & charge): tensor([[-4.7488e-09],\n",
      "        [-2.2813e-09]])\n",
      "Edge mask: tensor([[False],\n",
      "        [ True]])\n",
      "Edges: [tensor([0, 0, 1, 1, 2, 2]), tensor([1, 2, 0, 2, 0, 1])]\n"
     ]
    }
   ],
   "source": [
    "# random: x(atom_pos), edge_indx_tensor (edges = adj_matrix), edge_tensor (edge_mask = adj_matrix)\n",
    "print(\"Atom mask: {}\".format(atom_mask[:2]))\n",
    "print(\"Atom positions (x features, 4-momenta): {}\".format(atom_positions[:2]))\n",
    "print(\"Nodes (scalars: mass & charge): {}\".format(nodes[:2]))\n",
    "print(\"Edge mask: {}\".format(edge_mask[:2]))\n",
    "print(\"Edges: {}\".format(edges[:2]))"
   ]
  },
  {
   "cell_type": "code",
   "execution_count": 20,
   "id": "5de4676a",
   "metadata": {
    "execution": {
     "iopub.execute_input": "2024-10-24T20:22:48.248418Z",
     "iopub.status.busy": "2024-10-24T20:22:48.247593Z",
     "iopub.status.idle": "2024-10-24T20:22:48.255875Z",
     "shell.execute_reply": "2024-10-24T20:22:48.254739Z"
    },
    "id": "lDz3-q69XLp-",
    "outputId": "01adc007-56a2-4307-c442-1c4a44f0b14e",
    "papermill": {
     "duration": 0.039894,
     "end_time": "2024-10-24T20:22:48.258346",
     "exception": false,
     "start_time": "2024-10-24T20:22:48.218452",
     "status": "completed"
    },
    "tags": []
   },
   "outputs": [
    {
     "data": {
      "text/plain": [
       "[tensor([0, 0, 1, 1, 2, 2]), tensor([1, 2, 0, 2, 0, 1])]"
      ]
     },
     "execution_count": 20,
     "metadata": {},
     "output_type": "execute_result"
    }
   ],
   "source": [
    "edges[:2]#[0].shape"
   ]
  },
  {
   "cell_type": "code",
   "execution_count": 21,
   "id": "34d92084",
   "metadata": {
    "execution": {
     "iopub.execute_input": "2024-10-24T20:22:48.316012Z",
     "iopub.status.busy": "2024-10-24T20:22:48.315552Z",
     "iopub.status.idle": "2024-10-24T20:22:48.321197Z",
     "shell.execute_reply": "2024-10-24T20:22:48.320271Z"
    },
    "id": "Ss4oXJjGXLp-",
    "papermill": {
     "duration": 0.037379,
     "end_time": "2024-10-24T20:22:48.323567",
     "exception": false,
     "start_time": "2024-10-24T20:22:48.286188",
     "status": "completed"
    },
    "tags": []
   },
   "outputs": [],
   "source": [
    "# model(scalars=nodes, x=atom_positions, edges=edges, node_mask=atom_mask,\n",
    "#                          edge_mask=edge_mask, n_nodes=n_nodes)"
   ]
  },
  {
   "cell_type": "markdown",
   "id": "0fa5cf73",
   "metadata": {
    "id": "_3cyDPxrXLp-",
    "papermill": {
     "duration": 0.027466,
     "end_time": "2024-10-24T20:22:48.378993",
     "exception": false,
     "start_time": "2024-10-24T20:22:48.351527",
     "status": "completed"
    },
    "tags": []
   },
   "source": [
    "# 3. LorentzNet\n",
    "Before delving into the realm of quantum graph neural networks (QGNNs), we shall examine the performance and structure of a very well-known equivariant GNN, **LorentzNet** ([arXiv:2201.08187](https://arxiv.org/abs/2201.08187)), which is classical, on our dataset. Understanding the structure underlying LorentzNet will allow us to understand where to fit in our quantum models, and this will be the heart of our approach.\n",
    "\n",
    "## 3.1. Dataset Representation as Graphs\n",
    "\n",
    "We already discussed this in the introduction, but again, let's remmber that in high-energy particle physics, **jets**—collimated streams of particles resulting from particle collisions—are complex objects that can be naturally represented as graphs. In our dataset:\n",
    "\n",
    "- Each **jet** is modeled as a graph \\( G = (V, E) \\), where:\n",
    "  - $V$ is the set of **nodes**, each corresponding to a constituent particle within the jet.\n",
    "  - $E$ is the set of **edges**, representing interactions or relationships between particles.\n",
    "- Each node (particle) is considered a point in Minkowski space $\\mathbb{R}^{1,3}$, respecting the spacetime symmetries of special relativity.\n",
    "- The number of particles (nodes) varies for each jet, reflecting the stochastic nature of particle collisions.\n",
    "\n",
    "**Reconstructing Four-Momentum Vectors**\n",
    "\n",
    "In practice, particle data may not be directly provided as four-momentum vectors. Instead, they are often given in terms of:\n",
    "\n",
    "- **Transverse Momentum $p_T$**: Momentum perpendicular to the beam axis.\n",
    "- **Pseudo-rapidity $\\eta$**: A spatial coordinate describing the angle of a particle relative to the beam (forward-backward) direction.\n",
    "- **Azimuthal Angle $\\phi$**: Angle around the beam axis in the transverse plane.\n",
    "- **Particle Identification (PID)**: Integer codes representing particle types.\n",
    "\n",
    "**Conversion to Four-Momentum**\n",
    "\n",
    "- Using the relationships:\n",
    "\n",
    "  - $p_x = p_T \\cos\\phi$\n",
    "  - $p_y = p_T \\sin\\phi$\n",
    "  - $p_z = p_T \\sinh\\eta$\n",
    "  - $E = \\sqrt{p_T^2 \\cosh^2\\eta + m^2}$, where $m$ is the particle mass.\n",
    "\n",
    "- The **[EnergyFlow](https://energyflow.network/)** package converts this for us.\n",
    "\n",
    "**Implementation in Code**:\n",
    "\n",
    "- The first step in the data preprocessing involves reconstructing the four-momentum vectors using the available kinematic variables, which is fundamental for us, since:\n",
    "    - First, we want to ensure that the input to LorentzNet is correctly formatted and physically meaningful.\n",
    "    - Also, given the limitations on current quantum hardware, and since we are performing simulations currently, then the number of particles in the jet has to be cut down.\n",
    "\n",
    "## 3.2. Architecture Overview\n",
    "\n",
    "The **LorentzNet** architecture is designed to process and analyze graphs while respecting the **Lorentz symmetry**, a fundamental symmetry in relativistic physics involving rotations and boosts in spacetime (changes in inertial frames).\n",
    "\n",
    "**Key Features of LorentzNet**:\n",
    "\n",
    "- Built upon the **universal approximation theorem** for **Lorentz-equivariant functions**. This theorem ensures that the network can approximate any Lorentz-equivariant function to arbitrary precision, given sufficient capacity.\n",
    "- Incorporates **message passing** mechanisms tailored to respect Lorentz symmetry.\n",
    "- Utilizes **continuous functions** modeled by neural networks to update node and edge features throughout the network layers.\n",
    "\n",
    "**Architecture Diagram**:\n",
    "\n",
    "<center>\n",
    "<img src=\"../figures/LorentzNet.png\" width=\"65%\" style=\"margin-left:auto; margin-right:auto\">\n",
    "</center>\n",
    "\n",
    "*(Figure: Schematic representation of the LorentzNet architecture.)*\n",
    "\n",
    "**Input Layer**\n",
    "\n",
    "The **input** to the LorentzNet consists of:\n",
    "\n",
    "- **Four-momentum vectors** (coordinate embeddings) of particles from collision events.\n",
    "  - Each particle $i$ has a four-momentum $v_i = (E_i, p_{x_i}, p_{y_i}, p_{z_i})$, where:\n",
    "    - $E_i$ is the energy.\n",
    "    - $p_{x_i}, p_{y_i}, p_{z_i}$ are momentum components in three-dimensional space.\n",
    "- **Scalar features** (scalar embeddings) $s_i$ associated with each particle, such as:\n",
    "  - Mass.\n",
    "  - Electric charge.\n",
    "  - Particle identification (PID) codes.\n",
    "\n",
    "The combined feature vector for each particle is:\n",
    "\n",
    "$$\n",
    "f_i = v_i \\oplus s_i,\n",
    "$$\n",
    "\n",
    "where $\\oplus$ denotes concatenation.\n",
    "\n",
    "**Lorentz Group Equivariant Block (LGEB)**\n",
    "\n",
    "At the core of LorentzNet is the **Lorentz Group Equivariant Block (LGEB)**, which updates the features of particles (nodes) and their interactions (edges) while preserving Lorentz equivariance.\n",
    "\n",
    "**The components of LGEB**:\n",
    "\n",
    "1. **Edge Message Function $\\phi_e$**:\n",
    "   - Computes messages passed between particles.\n",
    "   - Captures pairwise interactions and relativistic geometrical relationships.\n",
    "\n",
    "2. **Coordinate Update Function $\\phi_x$**:\n",
    "   - Updates the coordinate embeddings of particles.\n",
    "   - Incorporates attention mechanisms respecting Minkowski spacetime.\n",
    "\n",
    "3. **Scalar Feature Update Function $\\phi_h$**:\n",
    "   - Updates scalar features of particles.\n",
    "   - Aggregates information from neighboring particles.\n",
    "\n",
    "These functions are modeled using neural networks capable of approximating continuous functions.\n",
    "\n",
    "## 3.3. Detailed Formulation\n",
    "\n",
    "1. **Edge Message Computation $\\phi_e$**:\n",
    "\n",
    "   For particles $i$ and $j$ at layer $l$, the **edge message** $m_{ij}^{l}$ is computed as:\n",
    "\n",
    "   $$\n",
    "   m_{ij}^{l} = \\phi_e \\left( h_i^{l}, h_j^{l}, \\psi\\left( \\| x_i^{l} - x_j^{l} \\|^2 \\right), \\psi\\left( \\langle x_i^{l}, x_j^{l} \\rangle \\right) \\right),\n",
    "   $$\n",
    "\n",
    "   where:\n",
    "\n",
    "   - $h_i^{l}$ and $h_j^{l}$ are the scalar features of particles $i$ and $j$ at layer $l$.\n",
    "   - $x_i^{l}$ and $x_j^{l}$ are the coordinate embeddings (four-vectors) at layer $l$.\n",
    "   - $\\| x_i^{l} - x_j^{l} \\|^2$ is the squared Minkowski **distance** between particles $i$ and $j$.\n",
    "   - $\\langle x_i^{l}, x_j^{l} \\rangle$ is the Minkowski **inner product** (Lorentz dot product).\n",
    "   - $\\psi(\\cdot)$ is a normalization function defined as:\n",
    "\n",
    "     $$\n",
    "     \\psi(a) = \\operatorname{sgn}(a) \\cdot \\log\\left( |a| + 1 \\right),\n",
    "     $$\n",
    "\n",
    "     with $\\operatorname{sgn}(a)$ being the sign function.\n",
    "\n",
    "   **Purpose of $\\psi(\\cdot)$**:\n",
    "\n",
    "   - Helps normalize values that may have large magnitudes or come from different distributions.\n",
    "   - Ensures numerical stability during optimization by mapping inputs to a manageable range.\n",
    "\n",
    "\n",
    "2. **Coordinate Embedding Update $\\phi_x$**:\n",
    "\n",
    "   The **coordinate embeddings** of particles are updated via:\n",
    "\n",
    "   $$\n",
    "   x_i^{l+1} = x_i^{l} + c \\sum_{j \\in \\mathcal{N}(i)} \\phi_x ( m_{ij}^{l}) \\cdot x_j^{l},\n",
    "   $$\n",
    "\n",
    "   where:\n",
    "\n",
    "   - $\\mathcal{N}(i)$ denotes the **neighborhood** of particle $i$, i.e., particles connected to $i$ in the graph.\n",
    "   - $c$ is a scaling constant controlling the update magnitude.\n",
    "   - $\\phi_x ( m_{ij}^{l})$ computes an **attention weight** based on the edge message $m_{ij}^{l}$.\n",
    "\n",
    "   **Interpretation**:\n",
    "\n",
    "   - The update adds a weighted sum of neighboring coordinate embeddings $x_j^{l}$ to the current embedding $x_i^{l}$.\n",
    "   - This mechanism allows particles to incorporate spatial information from their neighbors, guided by the learned attention weights.\n",
    "\n",
    "\n",
    "3. **Scalar Feature Update $\\phi_h$**:\n",
    "\n",
    "   The **scalar features** are updated as:\n",
    "\n",
    "   $$\n",
    "   h_i^{l+1} = h_i^{l} + \\phi_h \\left( h_i^{l}, \\sum_{j \\in \\mathcal{N}(i)} w_{ij}^{l} m_{ij}^{l} \\right),\n",
    "   $$\n",
    "\n",
    "   where:\n",
    "\n",
    "   - $w_{ij}^{l}$ is an **edge significance weight** calculated by:\n",
    "\n",
    "     $$\n",
    "     w_{ij}^{l} = \\phi_m \\left( m_{ij}^{l} \\right) \\in [0, 1],\n",
    "     $$\n",
    "\n",
    "     with $\\phi_m$ being a neural network outputting values in the range [0, 1].\n",
    "\n",
    "   - $\\phi_h$ aggregates information from neighboring particles to update $h_i^{l}$.\n",
    "\n",
    "   And for the Purpose of $w_{ij}^{l}$ and $\\phi_h$:\n",
    "\n",
    "   - $w_{ij}^{l}$ signifies the importance of the edge between particles $i$ and $j$.\n",
    "   - $\\phi_h$ integrates these weighted messages to refine the scalar features, enabling the network to learn complex interactions.\n",
    "\n",
    "\n",
    "**Avoiding Redundancy**\n",
    "\n",
    "A noteworthy aspect of LorentzNet is its approach to handling outputs:\n",
    "\n",
    "- Although both **coordinate embeddings** $x_i^{l}$ and **scalar features** $h_i^{l}$ are updated through the layers, the final output only uses the **scalar features** $h_i^{L}$ from the last layer $L$.\n",
    "- This strategy reduces redundancy and computational overhead because:\n",
    "\n",
    "  - The edge messages $m_{ij}^{l}$ already incorporate information from both $x_i^{l}$ and $x_j^{l}$.\n",
    "  - Focusing on scalar features simplifies the network output without losing critical information.\n",
    "\n",
    "      \n",
    "**Implementation Details**\n",
    "\n",
    "To ensure fidelity with the original LorentzNet architecture and leverage existing optimizations, we utilize the official implementation provided by the authors:\n",
    "\n",
    "- **Repository**: [LorentzNet-release](https://github.com/sdogsq/LorentzNet-release/tree/main)"
   ]
  },
  {
   "cell_type": "code",
   "execution_count": 22,
   "id": "a5985c6f",
   "metadata": {
    "execution": {
     "iopub.execute_input": "2024-10-24T20:22:48.437991Z",
     "iopub.status.busy": "2024-10-24T20:22:48.437566Z",
     "iopub.status.idle": "2024-10-24T20:22:48.480254Z",
     "shell.execute_reply": "2024-10-24T20:22:48.479189Z"
    },
    "id": "49hLoUYRXLp_",
    "papermill": {
     "duration": 0.075099,
     "end_time": "2024-10-24T20:22:48.482712",
     "exception": false,
     "start_time": "2024-10-24T20:22:48.407613",
     "status": "completed"
    },
    "tags": []
   },
   "outputs": [],
   "source": [
    "# @title\n",
    "import torch\n",
    "from torch import nn\n",
    "import numpy as np\n",
    "\n",
    "\n",
    "\n",
    "\"\"\"Some auxiliary functions\"\"\"\n",
    "\n",
    "def unsorted_segment_sum(data, segment_ids, num_segments):\n",
    "    r'''Custom PyTorch op to replicate TensorFlow's `unsorted_segment_sum`.\n",
    "    Adapted from https://github.com/vgsatorras/egnn.\n",
    "    '''\n",
    "    result = data.new_zeros((num_segments, data.size(1)))\n",
    "    result.index_add_(0, segment_ids, data)\n",
    "    return result\n",
    "\n",
    "def unsorted_segment_mean(data, segment_ids, num_segments):\n",
    "    r'''Custom PyTorch op to replicate TensorFlow's `unsorted_segment_mean`.\n",
    "    Adapted from https://github.com/vgsatorras/egnn.\n",
    "    '''\n",
    "    result = data.new_zeros((num_segments, data.size(1)))\n",
    "    count = data.new_zeros((num_segments, data.size(1)))\n",
    "    result.index_add_(0, segment_ids, data)\n",
    "    count.index_add_(0, segment_ids, torch.ones_like(data))\n",
    "    return result / count.clamp(min=1)\n",
    "\n",
    "def normsq4(p):\n",
    "    r''' Minkowski square norm\n",
    "         `\\|p\\|^2 = p[0]^2-p[1]^2-p[2]^2-p[3]^2`\n",
    "    '''\n",
    "    psq = torch.pow(p, 2)\n",
    "    return 2 * psq[..., 0] - psq.sum(dim=-1)\n",
    "\n",
    "def dotsq4(p,q):\n",
    "    r''' Minkowski inner product\n",
    "         `<p,q> = p[0]q[0]-p[1]q[1]-p[2]q[2]-p[3]q[3]`\n",
    "    '''\n",
    "    psq = p*q\n",
    "    return 2 * psq[..., 0] - psq.sum(dim=-1)\n",
    "\n",
    "def normA_fn(A):\n",
    "    return lambda p: torch.einsum('...i, ij, ...j->...', p, A, p)\n",
    "\n",
    "def dotA_fn(A):\n",
    "    return lambda p, q: torch.einsum('...i, ij, ...j->...', p, A, q)\n",
    "\n",
    "def psi(p):\n",
    "    ''' `\\psi(p) = Sgn(p) \\cdot \\log(|p| + 1)`\n",
    "    '''\n",
    "    return torch.sign(p) * torch.log(torch.abs(p) + 1)\n",
    "\n",
    "\n",
    "\"\"\"Lorentz Group-Equivariant Block\"\"\"\n",
    "\n",
    "class LGEB(nn.Module):\n",
    "    def __init__(self, n_input, n_output, n_hidden, n_node_attr=0,\n",
    "                 dropout = 0., c_weight=1.0, last_layer=False, A=None, include_x=False):\n",
    "        super(LGEB, self).__init__()\n",
    "        self.c_weight = c_weight\n",
    "        self.dimension_reducer = nn.Linear(10, 4) # New linear layer for dimension reduction\n",
    "        n_edge_attr = 2 if not include_x else 10 # dims for Minkowski norm & inner product\n",
    "        # With include_X = False, not include_x becomes True, so the value of n_edge_attr is 2.\n",
    "        print('Input size of phi_e: ', n_input)\n",
    "\n",
    "        self.include_x = include_x\n",
    "        self.phi_e = nn.Sequential(\n",
    "            nn.Linear(n_input, n_hidden, bias=False), # n_input * 2 + n_edge_attr\n",
    "            nn.BatchNorm1d(n_hidden),\n",
    "            nn.ReLU(),\n",
    "            nn.Linear(n_hidden, n_hidden),\n",
    "            nn.ReLU())\n",
    "\n",
    "        self.phi_h = nn.Sequential(\n",
    "            nn.Linear(n_hidden + n_input + n_node_attr, n_hidden),\n",
    "            nn.BatchNorm1d(n_hidden),\n",
    "            nn.ReLU(),\n",
    "            nn.Linear(n_hidden, n_output))\n",
    "\n",
    "        layer = nn.Linear(n_hidden, 1, bias=False)\n",
    "        torch.nn.init.xavier_uniform_(layer.weight, gain=0.001)\n",
    "\n",
    "        self.phi_x = nn.Sequential(\n",
    "            nn.Linear(n_hidden, n_hidden),\n",
    "            nn.ReLU(),\n",
    "            layer)\n",
    "\n",
    "        self.phi_m = nn.Sequential(\n",
    "            nn.Linear(n_hidden, 1),\n",
    "            nn.Sigmoid())\n",
    "\n",
    "        self.last_layer = last_layer\n",
    "        if last_layer:\n",
    "            del self.phi_x\n",
    "\n",
    "        self.A = A\n",
    "        self.norm_fn = normA_fn(A) if A is not None else normsq4\n",
    "        self.dot_fn = dotA_fn(A) if A is not None else dotsq4\n",
    "\n",
    "\n",
    "    def m_model(self, hi, hj, norms, dots):\n",
    "        out = torch.cat([hi, hj, norms, dots], dim=1)\n",
    "        # Reduce the dimension of 'out' to 4 using a linear layer\n",
    "        out = self.dimension_reducer(out)\n",
    "        out = self.phi_e(out)\n",
    "        # print(\"m_model output: \", out.shape)\n",
    "        w = self.phi_m(out)\n",
    "        out = out * w\n",
    "        return out\n",
    "\n",
    "    def m_model_extended(self, hi, hj, norms, dots, xi, xj):\n",
    "        out = torch.cat([hi, hj, norms, dots, xi, xj], dim=1)\n",
    "        out = self.phi_e(out)\n",
    "        w = self.phi_m(out)\n",
    "        out = out * w\n",
    "        return out\n",
    "\n",
    "    def h_model(self, h, edges, m, node_attr):\n",
    "        i, j = edges\n",
    "        agg = unsorted_segment_sum(m, i, num_segments=h.size(0))\n",
    "        agg = torch.cat([h, agg, node_attr], dim=1)\n",
    "        out = h + self.phi_h(agg)\n",
    "        return out\n",
    "\n",
    "    def x_model(self, x, edges, x_diff, m): # norms\n",
    "        i, j = edges\n",
    "        trans = x_diff * self.phi_x(m)\n",
    "        # print(\"m: \", m.shape)\n",
    "        # print(\"trans: \", trans.shape)\n",
    "        # From https://github.com/vgsatorras/egnn\n",
    "        # This is never activated but just in case it explosed it may save the train\n",
    "        trans = torch.clamp(trans, min=-100, max=100)\n",
    "        # print(\"trans: \", trans.shape)\n",
    "        # print(\"x.size: \", x.size(0))\n",
    "        agg = unsorted_segment_mean(trans, i, num_segments=x.size(0))\n",
    "        x = x + agg * self.c_weight # * norms[i, j], smth like that, or norms\n",
    "        return x\n",
    "\n",
    "    def minkowski_feats(self, edges, x):\n",
    "        i, j = edges\n",
    "        x_diff = x[i] - x[j]\n",
    "        norms = self.norm_fn(x_diff).unsqueeze(1)\n",
    "        dots = self.dot_fn(x[i], x[j]).unsqueeze(1)\n",
    "        norms, dots = psi(norms), psi(dots)\n",
    "        return norms, dots, x_diff\n",
    "\n",
    "    def forward(self, h, x, edges, node_attr=None):\n",
    "        i, j = edges\n",
    "        norms, dots, x_diff = self.minkowski_feats(edges, x)\n",
    "\n",
    "        if self.include_x:\n",
    "            m = self.m_model_extended(h[i], h[j], norms, dots, x[i], x[j])\n",
    "        else:\n",
    "            m = self.m_model(h[i], h[j], norms, dots) # [B*N, hidden]\n",
    "        if not self.last_layer:\n",
    "            # print(\"X: \", x)\n",
    "            x = self.x_model(x, edges, x_diff, m)\n",
    "            # print(\"phi_x(X) = \", x, '\\n---\\n')\n",
    "\n",
    "        h = self.h_model(h, edges, m, node_attr)\n",
    "        return h, x, m\n",
    "\n",
    "class LorentzNet(nn.Module):\n",
    "    r''' Implementation of LorentzNet.\n",
    "\n",
    "    Args:\n",
    "        - `n_scalar` (int): number of input scalars.\n",
    "        - `n_hidden` (int): dimension of latent space.\n",
    "        - `n_class`  (int): number of output classes.\n",
    "        - `n_layers` (int): number of LGEB layers.\n",
    "        - `c_weight` (float): weight c in the x_model.\n",
    "        - `dropout`  (float): dropout rate.\n",
    "    '''\n",
    "    def __init__(self, n_scalar, n_hidden, n_class = 2, n_layers = 6, c_weight = 1e-3, dropout = 0., A=None, include_x=False):\n",
    "        super(LorentzNet, self).__init__()\n",
    "        self.n_hidden = n_hidden\n",
    "        self.n_layers = n_layers\n",
    "        self.embedding = nn.Linear(n_scalar, n_hidden)\n",
    "        self.LGEBs = nn.ModuleList([LGEB(self.n_hidden, self.n_hidden, self.n_hidden,\n",
    "                                    n_node_attr=n_scalar, dropout=dropout,\n",
    "                                    c_weight=c_weight, last_layer=(i==n_layers-1), A=A, include_x=include_x)\n",
    "                                    for i in range(n_layers)])\n",
    "        self.graph_dec = nn.Sequential(nn.Linear(self.n_hidden, self.n_hidden),\n",
    "                                       nn.ReLU(),\n",
    "                                       nn.Dropout(dropout),\n",
    "                                       nn.Linear(self.n_hidden, n_class)) # classification\n",
    "\n",
    "    def forward(self, scalars, x, edges, node_mask, edge_mask, n_nodes):\n",
    "        h = self.embedding(scalars)\n",
    "\n",
    "        # print(\"h before (just the first particle): \\n\", h[0].cpu().detach().numpy())\n",
    "        for i in range(self.n_layers):\n",
    "            h, x, _ = self.LGEBs[i](h, x, edges, node_attr=scalars)\n",
    "        # print(\"h after (just the first particle): \\n\", h[0].cpu().detach().numpy())\n",
    "\n",
    "        h = h * node_mask\n",
    "        h = h.view(-1, n_nodes, self.n_hidden)\n",
    "        h = torch.mean(h, dim=1)\n",
    "        pred = self.graph_dec(h)\n",
    "\n",
    "        # print(\"Final preds: \\n\", pred.cpu().detach().numpy())\n",
    "        return pred.squeeze(1)"
   ]
  },
  {
   "cell_type": "markdown",
   "id": "19723783",
   "metadata": {
    "id": "yKQ1ZOC2U92Y",
    "papermill": {
     "duration": 0.027322,
     "end_time": "2024-10-24T20:22:48.538063",
     "exception": false,
     "start_time": "2024-10-24T20:22:48.510741",
     "status": "completed"
    },
    "tags": []
   },
   "source": [
    "LGEB(self.n_hidden, self.n_hidden, self.n_hidden,\\\n",
    "                                    n_node_attr=n_scalar, dropout=dropout,\\\n",
    "                                    c_weight=c_weight, last_layer=\\(i==n_layers-1), A=A, include_x=include_x)\n",
    "                                    \n",
    "We are using n_hidden = 4 and n_layers = 6\n",
    "\n",
    "n_input=n_hidden, n_output=n_hidden, n_hidden=n_hidden, n_node_attr=n_scalar=8"
   ]
  },
  {
   "cell_type": "markdown",
   "id": "61e88fb8",
   "metadata": {
    "id": "v_Wr8LNBXLp_",
    "papermill": {
     "duration": 0.027732,
     "end_time": "2024-10-24T20:22:48.593628",
     "exception": false,
     "start_time": "2024-10-24T20:22:48.565896",
     "status": "completed"
    },
    "tags": []
   },
   "source": [
    "### Now that we have the official code for the classical, just for sanity checking, let's test for equivariance\n",
    "\n",
    "The cell below is just an auxiliary function to give us the boosts"
   ]
  },
  {
   "cell_type": "code",
   "execution_count": 23,
   "id": "29ae5b7d",
   "metadata": {
    "cellView": "form",
    "execution": {
     "iopub.execute_input": "2024-10-24T20:22:48.651773Z",
     "iopub.status.busy": "2024-10-24T20:22:48.651340Z",
     "iopub.status.idle": "2024-10-24T20:22:48.663342Z",
     "shell.execute_reply": "2024-10-24T20:22:48.662265Z"
    },
    "id": "KA_EwMJIXLp_",
    "papermill": {
     "duration": 0.044017,
     "end_time": "2024-10-24T20:22:48.665553",
     "exception": false,
     "start_time": "2024-10-24T20:22:48.621536",
     "status": "completed"
    },
    "tags": []
   },
   "outputs": [],
   "source": [
    "# @title\n",
    "from math import sqrt\n",
    "import numpy as np\n",
    "\n",
    "# Speed of light (m/s)\n",
    "c = 299792458\n",
    "\n",
    "\"\"\"Lorentz transformations describe the transition between two inertial reference\n",
    "frames F and F', each of which is moving in some direction with respect to the\n",
    "other. This code only calculates Lorentz transformations for movement in the x\n",
    "direction with no spatial rotation (i.e., a Lorentz boost in the x direction).\n",
    "The Lorentz transformations are calculated here as linear transformations of\n",
    "four-vectors [ct, x, y, z] described by Minkowski space. Note that t (time) is\n",
    "multiplied by c (the speed of light) in the first entry of each four-vector.\n",
    "\n",
    "Thus, if X = [ct; x; y; z] and X' = [ct'; x'; y'; z'] are the four-vectors for\n",
    "two inertial reference frames and X' moves in the x direction with velocity v\n",
    "with respect to X, then the Lorentz transformation from X to X' is X' = BX,\n",
    "where\n",
    "\n",
    "    | γ  -γβ  0  0|\n",
    "B = |-γβ  γ   0  0|\n",
    "    | 0   0   1  0|\n",
    "    | 0   0   0  1|\n",
    "\n",
    "is the matrix describing the Lorentz boost between X and X',\n",
    "γ = 1 / √(1 - v²/c²) is the Lorentz factor, and β = v/c is the velocity as\n",
    "a fraction of c.\n",
    "\"\"\"\n",
    "\n",
    "\n",
    "def beta(velocity: float) -> float:\n",
    "    \"\"\"\n",
    "    Calculates β = v/c, the given velocity as a fraction of c\n",
    "    >>> beta(c)\n",
    "    1.0\n",
    "    >>> beta(199792458)\n",
    "    0.666435904801848\n",
    "    \"\"\"\n",
    "    if velocity > c:\n",
    "        raise ValueError(\"Speed must not exceed light speed 299,792,458 [m/s]!\")\n",
    "    elif velocity < 1:\n",
    "        # Usually the speed should be much higher than 1 (c order of magnitude)\n",
    "        raise ValueError(\"Speed must be greater than or equal to 1!\")\n",
    "\n",
    "    return velocity / c\n",
    "\n",
    "\n",
    "def gamma(velocity: float) -> float:\n",
    "    \"\"\"\n",
    "    Calculate the Lorentz factor γ = 1 / √(1 - v²/c²) for a given velocity\n",
    "    >>> gamma(4)\n",
    "    1.0000000000000002\n",
    "    >>> gamma(1e5)\n",
    "    1.0000000556325075\n",
    "    >>> gamma(3e7)\n",
    "    1.005044845777813\n",
    "    >>> gamma(2.8e8)\n",
    "    2.7985595722318277\n",
    "    \"\"\"\n",
    "    return 1 / sqrt(1 - beta(velocity) ** 2)\n",
    "\n",
    "\n",
    "def transformation_matrix(velocity: float) -> np.ndarray:\n",
    "    \"\"\"\n",
    "    Calculate the Lorentz transformation matrix for movement in the x direction:\n",
    "\n",
    "    | γ  -γβ  0  0|\n",
    "    |-γβ  γ   0  0|\n",
    "    | 0   0   1  0|\n",
    "    | 0   0   0  1|\n",
    "\n",
    "    where γ is the Lorentz factor and β is the velocity as a fraction of c\n",
    "    >>> transformation_matrix(29979245)\n",
    "    array([[ 1.00503781, -0.10050378,  0.        ,  0.        ],\n",
    "           [-0.10050378,  1.00503781,  0.        ,  0.        ],\n",
    "           [ 0.        ,  0.        ,  1.        ,  0.        ],\n",
    "           [ 0.        ,  0.        ,  0.        ,  1.        ]])\n",
    "    \"\"\"\n",
    "    return np.array(\n",
    "        [\n",
    "            [gamma(velocity), -gamma(velocity) * beta(velocity), 0, 0],\n",
    "            [-gamma(velocity) * beta(velocity), gamma(velocity), 0, 0],\n",
    "            [0, 0, 1, 0],\n",
    "            [0, 0, 0, 1],\n",
    "        ]\n",
    "    )\n"
   ]
  },
  {
   "cell_type": "markdown",
   "id": "2a39c652",
   "metadata": {
    "id": "hFsrWKHLXLp_",
    "papermill": {
     "duration": 0.027467,
     "end_time": "2024-10-24T20:22:48.720970",
     "exception": false,
     "start_time": "2024-10-24T20:22:48.693503",
     "status": "completed"
    },
    "tags": []
   },
   "source": [
    "### Now, the model"
   ]
  },
  {
   "cell_type": "code",
   "execution_count": 24,
   "id": "7c1b7199",
   "metadata": {
    "execution": {
     "iopub.execute_input": "2024-10-24T20:22:48.778516Z",
     "iopub.status.busy": "2024-10-24T20:22:48.778058Z",
     "iopub.status.idle": "2024-10-24T20:22:48.789573Z",
     "shell.execute_reply": "2024-10-24T20:22:48.788274Z"
    },
    "id": "cp9yZmnOXLqA",
    "outputId": "9b6bec5f-a280-4fe6-ed2a-39c8d24b05c7",
    "papermill": {
     "duration": 0.043144,
     "end_time": "2024-10-24T20:22:48.791907",
     "exception": false,
     "start_time": "2024-10-24T20:22:48.748763",
     "status": "completed"
    },
    "tags": []
   },
   "outputs": [
    {
     "name": "stdout",
     "output_type": "stream",
     "text": [
      "Input size of phi_e:  4\n"
     ]
    }
   ],
   "source": [
    "# n_scalar = 8 in original !\n",
    "model = LorentzNet(n_scalar = 1, n_hidden = 4, n_class = 2,\\\n",
    "                       dropout = 0.2, n_layers = 1,\\\n",
    "                       c_weight = 1e-3)"
   ]
  },
  {
   "cell_type": "markdown",
   "id": "13932f3b",
   "metadata": {
    "id": "hE-OtUjVXLqA",
    "papermill": {
     "duration": 0.027921,
     "end_time": "2024-10-24T20:22:48.848438",
     "exception": false,
     "start_time": "2024-10-24T20:22:48.820517",
     "status": "completed"
    },
    "tags": []
   },
   "source": [
    "### Let's start with a default prediction"
   ]
  },
  {
   "cell_type": "code",
   "execution_count": 25,
   "id": "2e15d738",
   "metadata": {
    "execution": {
     "iopub.execute_input": "2024-10-24T20:22:48.906032Z",
     "iopub.status.busy": "2024-10-24T20:22:48.905586Z",
     "iopub.status.idle": "2024-10-24T20:22:48.944778Z",
     "shell.execute_reply": "2024-10-24T20:22:48.943551Z"
    },
    "id": "zzcmDxZxXLqA",
    "papermill": {
     "duration": 0.071362,
     "end_time": "2024-10-24T20:22:48.947776",
     "exception": false,
     "start_time": "2024-10-24T20:22:48.876414",
     "status": "completed"
    },
    "tags": []
   },
   "outputs": [],
   "source": [
    "pred = model(scalars=nodes, x=atom_positions, edges=edges, node_mask=atom_mask,\n",
    "                     edge_mask=edge_mask, n_nodes=n_nodes)"
   ]
  },
  {
   "cell_type": "code",
   "execution_count": 26,
   "id": "ad40134f",
   "metadata": {
    "execution": {
     "iopub.execute_input": "2024-10-24T20:22:49.006166Z",
     "iopub.status.busy": "2024-10-24T20:22:49.005691Z",
     "iopub.status.idle": "2024-10-24T20:22:49.016158Z",
     "shell.execute_reply": "2024-10-24T20:22:49.015018Z"
    },
    "id": "R4k_rlP6XLqF",
    "papermill": {
     "duration": 0.042477,
     "end_time": "2024-10-24T20:22:49.019056",
     "exception": false,
     "start_time": "2024-10-24T20:22:48.976579",
     "status": "completed"
    },
    "tags": []
   },
   "outputs": [],
   "source": [
    "pred = model(scalars=nodes, x=atom_positions, edges=edges, node_mask=atom_mask,\n",
    "                     edge_mask=edge_mask, n_nodes=n_nodes)"
   ]
  },
  {
   "cell_type": "markdown",
   "id": "8191b0ee",
   "metadata": {
    "id": "1WHsdTBxXLqF",
    "papermill": {
     "duration": 0.027662,
     "end_time": "2024-10-24T20:22:49.076687",
     "exception": false,
     "start_time": "2024-10-24T20:22:49.049025",
     "status": "completed"
    },
    "tags": []
   },
   "source": [
    "### ... taking any random nonsense transformation in the four-momentum vectors\n",
    "i.e.: multiplying by 0.1. Does the hidden rep stay the same?"
   ]
  },
  {
   "cell_type": "code",
   "execution_count": 27,
   "id": "e00365ac",
   "metadata": {
    "execution": {
     "iopub.execute_input": "2024-10-24T20:22:49.134293Z",
     "iopub.status.busy": "2024-10-24T20:22:49.133826Z",
     "iopub.status.idle": "2024-10-24T20:22:49.141225Z",
     "shell.execute_reply": "2024-10-24T20:22:49.140095Z"
    },
    "id": "8Hxk_CYJXLqG",
    "papermill": {
     "duration": 0.039639,
     "end_time": "2024-10-24T20:22:49.144064",
     "exception": false,
     "start_time": "2024-10-24T20:22:49.104425",
     "status": "completed"
    },
    "tags": []
   },
   "outputs": [],
   "source": [
    "pred = model(scalars=nodes, x= 0.1 * atom_positions, edges=edges, node_mask=atom_mask,\n",
    "                     edge_mask=edge_mask, n_nodes=n_nodes)"
   ]
  },
  {
   "cell_type": "code",
   "execution_count": 28,
   "id": "f264dfb7",
   "metadata": {
    "execution": {
     "iopub.execute_input": "2024-10-24T20:22:49.201949Z",
     "iopub.status.busy": "2024-10-24T20:22:49.200943Z",
     "iopub.status.idle": "2024-10-24T20:22:49.208353Z",
     "shell.execute_reply": "2024-10-24T20:22:49.207242Z"
    },
    "id": "1EiVpL33XLqG",
    "papermill": {
     "duration": 0.038692,
     "end_time": "2024-10-24T20:22:49.210689",
     "exception": false,
     "start_time": "2024-10-24T20:22:49.171997",
     "status": "completed"
    },
    "tags": []
   },
   "outputs": [],
   "source": [
    "pred = model(scalars=nodes, x= 0.1 * atom_positions, edges=edges, node_mask=atom_mask,\n",
    "                     edge_mask=edge_mask, n_nodes=n_nodes)"
   ]
  },
  {
   "cell_type": "markdown",
   "id": "0d422eec",
   "metadata": {
    "id": "70ulhirrXLqH",
    "papermill": {
     "duration": 0.027561,
     "end_time": "2024-10-24T20:22:49.267562",
     "exception": false,
     "start_time": "2024-10-24T20:22:49.240001",
     "status": "completed"
    },
    "tags": []
   },
   "source": [
    "### Even though the final logits in this case wasn't different, if we look the last output of h (which contains both scalar and 4-momenta information), it changed! Now, what about Lorentz transformations?"
   ]
  },
  {
   "cell_type": "code",
   "execution_count": 29,
   "id": "f9536e1d",
   "metadata": {
    "execution": {
     "iopub.execute_input": "2024-10-24T20:22:49.325401Z",
     "iopub.status.busy": "2024-10-24T20:22:49.324949Z",
     "iopub.status.idle": "2024-10-24T20:22:49.334740Z",
     "shell.execute_reply": "2024-10-24T20:22:49.333751Z"
    },
    "id": "2IVU9kGJXLqH",
    "papermill": {
     "duration": 0.041882,
     "end_time": "2024-10-24T20:22:49.337252",
     "exception": false,
     "start_time": "2024-10-24T20:22:49.295370",
     "status": "completed"
    },
    "tags": []
   },
   "outputs": [],
   "source": [
    "pred = model(scalars=nodes, x= (torch.tensor(transformation_matrix(220000000)) @ atom_positions.to(dtype=torch.float64).T).to(dtype=torch.float32).T, edges=edges, node_mask=atom_mask,\n",
    "                     edge_mask=edge_mask, n_nodes=n_nodes)"
   ]
  },
  {
   "cell_type": "code",
   "execution_count": 30,
   "id": "bf3ac711",
   "metadata": {
    "execution": {
     "iopub.execute_input": "2024-10-24T20:22:49.395434Z",
     "iopub.status.busy": "2024-10-24T20:22:49.394622Z",
     "iopub.status.idle": "2024-10-24T20:22:49.402520Z",
     "shell.execute_reply": "2024-10-24T20:22:49.401575Z"
    },
    "id": "U1AUOcTDXLqH",
    "papermill": {
     "duration": 0.039799,
     "end_time": "2024-10-24T20:22:49.404957",
     "exception": false,
     "start_time": "2024-10-24T20:22:49.365158",
     "status": "completed"
    },
    "tags": []
   },
   "outputs": [],
   "source": [
    "pred = model(scalars=nodes, x= (torch.tensor(transformation_matrix(220000000)) @ atom_positions.to(dtype=torch.float64).T).to(dtype=torch.float32).T, edges=edges, node_mask=atom_mask,\n",
    "                     edge_mask=edge_mask, n_nodes=n_nodes)"
   ]
  },
  {
   "cell_type": "markdown",
   "id": "2275f771",
   "metadata": {
    "id": "dRYlUAEVXLqI",
    "papermill": {
     "duration": 0.02736,
     "end_time": "2024-10-24T20:22:49.460426",
     "exception": false,
     "start_time": "2024-10-24T20:22:49.433066",
     "status": "completed"
    },
    "tags": []
   },
   "source": [
    "## Equivariance works. Finally, let's train on some data"
   ]
  },
  {
   "cell_type": "code",
   "execution_count": 31,
   "id": "f84769b5",
   "metadata": {
    "cellView": "form",
    "execution": {
     "iopub.execute_input": "2024-10-24T20:22:49.519176Z",
     "iopub.status.busy": "2024-10-24T20:22:49.518740Z",
     "iopub.status.idle": "2024-10-24T20:22:49.633699Z",
     "shell.execute_reply": "2024-10-24T20:22:49.632642Z"
    },
    "id": "KRBzC37VorM9",
    "papermill": {
     "duration": 0.148179,
     "end_time": "2024-10-24T20:22:49.636710",
     "exception": false,
     "start_time": "2024-10-24T20:22:49.488531",
     "status": "completed"
    },
    "tags": []
   },
   "outputs": [],
   "source": [
    "# @title\n",
    "import torch\n",
    "import os, json, random, string\n",
    "import torch.distributed as dist\n",
    "\n",
    "def makedir(path):\n",
    "    try:\n",
    "        os.makedirs(path)\n",
    "    except OSError:\n",
    "        pass\n",
    "\n",
    "def args_init(args):\n",
    "    r''' Initialize seed and exp_name.\n",
    "    '''\n",
    "    if args.seed is None: # use random seed if not specified\n",
    "        args.seed = np.random.randint(100)\n",
    "    if args.exp_name == '': # use random strings if not specified\n",
    "        args.exp_name = ''.join(random.choices(string.ascii_lowercase + string.digits, k=8))\n",
    "    if (args.local_rank == 0): # master\n",
    "        print(args)\n",
    "        makedir(f\"{args.logdir}/{args.exp_name}\")\n",
    "        with open(f\"{args.logdir}/{args.exp_name}/args.json\", 'w') as f:\n",
    "            json.dump(args.__dict__, f, indent=4)\n",
    "\n",
    "def sum_reduce(num, device):\n",
    "    r''' Sum the tensor across the devices.\n",
    "    '''\n",
    "    if not torch.is_tensor(num):\n",
    "        rt = torch.tensor(num).to(device)\n",
    "    else:\n",
    "        rt = num.clone()\n",
    "    dist.all_reduce(rt, op=dist.ReduceOp.SUM)\n",
    "    return rt\n",
    "\n",
    "from torch.optim.lr_scheduler import _LRScheduler\n",
    "from torch.optim.lr_scheduler import ReduceLROnPlateau\n",
    "\n",
    "class GradualWarmupScheduler(_LRScheduler):\n",
    "    \"\"\" Gradually warm-up(increasing) learning rate in optimizer.\n",
    "    Proposed in 'Accurate, Large Minibatch SGD: Training ImageNet in 1 Hour'.\n",
    "    Args:\n",
    "        optimizer (Optimizer): Wrapped optimizer.\n",
    "        multiplier: target learning rate = base lr * multiplier if multiplier > 1.0. if multiplier = 1.0, lr starts from 0 and ends up with the base_lr.\n",
    "        warmup_epoch: target learning rate is reached at warmup_epoch, gradually\n",
    "        after_scheduler: after target_epoch, use this scheduler(eg. ReduceLROnPlateau)\n",
    "    Reference:\n",
    "        https://github.com/ildoonet/pytorch-gradual-warmup-lr\n",
    "    \"\"\"\n",
    "\n",
    "    def __init__(self, optimizer, multiplier, warmup_epoch, after_scheduler=None):\n",
    "        self.multiplier = multiplier\n",
    "        if self.multiplier < 1.:\n",
    "            raise ValueError('multiplier should be greater thant or equal to 1.')\n",
    "        self.warmup_epoch = warmup_epoch\n",
    "        self.after_scheduler = after_scheduler\n",
    "        self.finished = False\n",
    "        super(GradualWarmupScheduler, self).__init__(optimizer)\n",
    "\n",
    "    @property\n",
    "    def _warmup_lr(self):\n",
    "        if self.multiplier == 1.0:\n",
    "            return [base_lr * (float(self.last_epoch + 1) / self.warmup_epoch) for base_lr in self.base_lrs]\n",
    "        else:\n",
    "            return [base_lr * ((self.multiplier - 1.) * (self.last_epoch + 1) / self.warmup_epoch + 1.) for base_lr in self.base_lrs]\n",
    "\n",
    "    def get_lr(self):\n",
    "        if self.last_epoch >= self.warmup_epoch - 1:\n",
    "            if self.after_scheduler:\n",
    "                if not self.finished:\n",
    "                    self.after_scheduler.base_lrs = [base_lr * self.multiplier for base_lr in self.base_lrs]\n",
    "                    self.finished = True\n",
    "                return self.after_scheduler.get_last_lr()\n",
    "            return [base_lr * self.multiplier for base_lr in self.base_lrs]\n",
    "\n",
    "        return self._warmup_lr\n",
    "\n",
    "    def step_ReduceLROnPlateau(self, metrics, epoch=None):\n",
    "        self.last_epoch = self.last_epoch + 1 if epoch==None else epoch\n",
    "        if self.last_epoch >= self.warmup_epoch - 1:\n",
    "            if not self.finished:\n",
    "                warmup_lr = [base_lr * self.multiplier for base_lr in self.base_lrs]\n",
    "                for param_group, lr in zip(self.optimizer.param_groups, warmup_lr):\n",
    "                    param_group['lr'] = lr\n",
    "                self.finished = True\n",
    "                return\n",
    "            if epoch is None:\n",
    "                self.after_scheduler.step(metrics, None)\n",
    "            else:\n",
    "                self.after_scheduler.step(metrics, epoch - self.warmup_epoch)\n",
    "            return\n",
    "\n",
    "        for param_group, lr in zip(self.optimizer.param_groups, self._warmup_lr):\n",
    "            param_group['lr'] = lr\n",
    "\n",
    "    def step(self, epoch=None, metrics=None):\n",
    "        if type(self.after_scheduler) != ReduceLROnPlateau:\n",
    "            if self.finished and self.after_scheduler:\n",
    "                if epoch is None:\n",
    "                    self.after_scheduler.step(None)\n",
    "                else:\n",
    "                    self.after_scheduler.step(epoch - self.warmup_epoch)\n",
    "                self.last_epoch = self.after_scheduler.last_epoch + self.warmup_epoch + 1\n",
    "                self._last_lr = self.after_scheduler.get_last_lr()\n",
    "            else:\n",
    "                return super(GradualWarmupScheduler, self).step(epoch)\n",
    "        else:\n",
    "            self.step_ReduceLROnPlateau(metrics, epoch)\n",
    "\n",
    "        self._last_lr = [group['lr'] for group in self.optimizer.param_groups]\n",
    "\n",
    "    def state_dict(self):\n",
    "        \"\"\"Returns the state of the scheduler as a :class:`dict`.\n",
    "\n",
    "        It contains an entry for every variable in self.__dict__ which\n",
    "        is not the optimizer.\n",
    "        \"\"\"\n",
    "        result = {key: value for key, value in self.__dict__.items() if key != 'optimizer' or key != \"after_scheduler\"}\n",
    "        if self.after_scheduler:\n",
    "            result.update({\"after_scheduler\": self.after_scheduler.state_dict()})\n",
    "        return result\n",
    "\n",
    "    def load_state_dict(self, state_dict):\n",
    "        after_scheduler_state = state_dict.pop(\"after_scheduler\", None)\n",
    "        self.__dict__.update(state_dict)\n",
    "        if after_scheduler_state:\n",
    "            self.after_scheduler.load_state_dict(after_scheduler_state)\n",
    "\n",
    "\n",
    "from sklearn.metrics import roc_auc_score, roc_curve\n",
    "import numpy as np\n",
    "\n",
    "def buildROC(labels, score, targetEff=[0.3,0.5]):\n",
    "    r''' ROC curve is a plot of the true positive rate (Sensitivity) in the function of the false positive rate\n",
    "    (100-Specificity) for different cut-off points of a parameter. Each point on the ROC curve represents a\n",
    "    sensitivity/specificity pair corresponding to a particular decision threshold. The Area Under the ROC\n",
    "    curve (AUC) is a measure of how well a parameter can distinguish between two diagnostic groups.\n",
    "    '''\n",
    "    if not isinstance(targetEff, list):\n",
    "        targetEff = [targetEff]\n",
    "    fpr, tpr, threshold = roc_curve(labels, score)\n",
    "    idx = [np.argmin(np.abs(tpr - Eff)) for Eff in targetEff]\n",
    "    eB, eS = fpr[idx], tpr[idx]\n",
    "    return fpr, tpr, threshold, eB, eS"
   ]
  },
  {
   "cell_type": "code",
   "execution_count": 32,
   "id": "047bfc39",
   "metadata": {
    "execution": {
     "iopub.execute_input": "2024-10-24T20:22:49.696916Z",
     "iopub.status.busy": "2024-10-24T20:22:49.696116Z",
     "iopub.status.idle": "2024-10-24T20:23:12.851091Z",
     "shell.execute_reply": "2024-10-24T20:23:12.848520Z"
    },
    "id": "8azxxVjtXLqI",
    "outputId": "3deb62b1-8ab6-43e5-d765-f7dc0e49a783",
    "papermill": {
     "duration": 23.187726,
     "end_time": "2024-10-24T20:23:12.853966",
     "exception": false,
     "start_time": "2024-10-24T20:22:49.666240",
     "status": "completed"
    },
    "scrolled": true,
    "tags": []
   },
   "outputs": [
    {
     "name": "stdout",
     "output_type": "stream",
     "text": [
      "Input size of phi_e:  4\n",
      "Model Size: 199\n",
      " train samples: 800\n",
      " val samples: 100\n",
      " test samples: 100\n"
     ]
    },
    {
     "name": "stderr",
     "output_type": "stream",
     "text": [
      "/opt/conda/lib/python3.10/site-packages/torch/optim/lr_scheduler.py:60: UserWarning: The verbose parameter is deprecated. Please use get_last_lr() to access the learning rate.\n",
      "  warnings.warn(\n"
     ]
    },
    {
     "name": "stdout",
     "output_type": "stream",
     "text": [
      "Training...\n"
     ]
    },
    {
     "name": "stderr",
     "output_type": "stream",
     "text": [
      "50it [00:00, 102.42it/s]\n"
     ]
    },
    {
     "name": "stdout",
     "output_type": "stream",
     "text": [
      ">> train \t Epoch 1/45 \t Batch 49/50 \t Loss 0.6859 \t Running Acc 0.501 \t Total Acc 0.501 \t Avg Batch Time 0.0098\n",
      "Time: train: 0.49 \t Train loss 0.6859 \t Train acc: 0.5012\n"
     ]
    },
    {
     "name": "stderr",
     "output_type": "stream",
     "text": [
      "7it [00:00, 229.70it/s]\n"
     ]
    },
    {
     "name": "stdout",
     "output_type": "stream",
     "text": [
      ">> val \t Loss 0.6661 \t Running Acc 2.036 \t Total Acc 0.570 \t Avg Batch Time 0.0013\n",
      "New best validation model, saving...\n",
      "Epoch 0/45 finished.\n",
      "Train time: 0.49 \t Val time 0.03\n",
      "Train loss 0.6859 \t Train acc: 0.5012\n",
      "Val loss: 0.6708 \t Val acc: 0.5700\n",
      "Best val acc: 0.5700 at epoch 0.\n"
     ]
    },
    {
     "name": "stderr",
     "output_type": "stream",
     "text": [
      "50it [00:00, 111.56it/s]\n"
     ]
    },
    {
     "name": "stdout",
     "output_type": "stream",
     "text": [
      ">> train \t Epoch 2/45 \t Batch 49/50 \t Loss 0.6853 \t Running Acc 0.506 \t Total Acc 0.506 \t Avg Batch Time 0.0090\n",
      "Time: train: 0.45 \t Train loss 0.6853 \t Train acc: 0.5062\n"
     ]
    },
    {
     "name": "stderr",
     "output_type": "stream",
     "text": [
      "7it [00:00, 228.20it/s]\n"
     ]
    },
    {
     "name": "stdout",
     "output_type": "stream",
     "text": [
      ">> val \t Loss 0.6614 \t Running Acc 2.036 \t Total Acc 0.570 \t Avg Batch Time 0.0013\n",
      "Epoch 1/45 finished.\n",
      "Train time: 0.45 \t Val time 0.03\n",
      "Train loss 0.6853 \t Train acc: 0.5062\n",
      "Val loss: 0.6667 \t Val acc: 0.5700\n",
      "Best val acc: 0.5700 at epoch 0.\n"
     ]
    },
    {
     "name": "stderr",
     "output_type": "stream",
     "text": [
      "50it [00:00, 109.87it/s]\n"
     ]
    },
    {
     "name": "stdout",
     "output_type": "stream",
     "text": [
      ">> train \t Epoch 3/45 \t Batch 49/50 \t Loss 0.6780 \t Running Acc 0.529 \t Total Acc 0.529 \t Avg Batch Time 0.0092\n",
      "Time: train: 0.46 \t Train loss 0.6780 \t Train acc: 0.5288\n"
     ]
    },
    {
     "name": "stderr",
     "output_type": "stream",
     "text": [
      "7it [00:00, 226.88it/s]\n"
     ]
    },
    {
     "name": "stdout",
     "output_type": "stream",
     "text": [
      ">> val \t Loss 0.6564 \t Running Acc 2.107 \t Total Acc 0.590 \t Avg Batch Time 0.0013\n",
      "New best validation model, saving...\n",
      "Epoch 2/45 finished.\n",
      "Train time: 0.46 \t Val time 0.03\n",
      "Train loss 0.6780 \t Train acc: 0.5288\n",
      "Val loss: 0.6621 \t Val acc: 0.5900\n",
      "Best val acc: 0.5900 at epoch 2.\n"
     ]
    },
    {
     "name": "stderr",
     "output_type": "stream",
     "text": [
      "50it [00:00, 97.96it/s]\n"
     ]
    },
    {
     "name": "stdout",
     "output_type": "stream",
     "text": [
      ">> train \t Epoch 4/45 \t Batch 49/50 \t Loss 0.6735 \t Running Acc 0.539 \t Total Acc 0.539 \t Avg Batch Time 0.0103\n",
      "Time: train: 0.51 \t Train loss 0.6735 \t Train acc: 0.5387\n"
     ]
    },
    {
     "name": "stderr",
     "output_type": "stream",
     "text": [
      "7it [00:00, 198.81it/s]\n"
     ]
    },
    {
     "name": "stdout",
     "output_type": "stream",
     "text": [
      ">> val \t Loss 0.6501 \t Running Acc 2.250 \t Total Acc 0.630 \t Avg Batch Time 0.0015\n",
      "New best validation model, saving...\n",
      "Epoch 3/45 finished.\n",
      "Train time: 0.51 \t Val time 0.04\n",
      "Train loss 0.6735 \t Train acc: 0.5387\n",
      "Val loss: 0.6564 \t Val acc: 0.6300\n",
      "Best val acc: 0.6300 at epoch 3.\n"
     ]
    },
    {
     "name": "stderr",
     "output_type": "stream",
     "text": [
      "50it [00:00, 103.34it/s]\n"
     ]
    },
    {
     "name": "stdout",
     "output_type": "stream",
     "text": [
      ">> train \t Epoch 5/45 \t Batch 49/50 \t Loss 0.6606 \t Running Acc 0.578 \t Total Acc 0.578 \t Avg Batch Time 0.0097\n",
      "Time: train: 0.49 \t Train loss 0.6606 \t Train acc: 0.5775\n"
     ]
    },
    {
     "name": "stderr",
     "output_type": "stream",
     "text": [
      "7it [00:00, 206.10it/s]\n"
     ]
    },
    {
     "name": "stdout",
     "output_type": "stream",
     "text": [
      ">> val \t Loss 0.6387 \t Running Acc 2.393 \t Total Acc 0.670 \t Avg Batch Time 0.0014\n",
      "New best validation model, saving...\n",
      "Epoch 4/45 finished.\n",
      "Train time: 0.49 \t Val time 0.04\n",
      "Train loss 0.6606 \t Train acc: 0.5775\n",
      "Val loss: 0.6464 \t Val acc: 0.6700\n",
      "Best val acc: 0.6700 at epoch 4.\n"
     ]
    },
    {
     "name": "stderr",
     "output_type": "stream",
     "text": [
      "50it [00:00, 97.18it/s]\n"
     ]
    },
    {
     "name": "stdout",
     "output_type": "stream",
     "text": [
      ">> train \t Epoch 6/45 \t Batch 49/50 \t Loss 0.6575 \t Running Acc 0.616 \t Total Acc 0.616 \t Avg Batch Time 0.0103\n",
      "Time: train: 0.52 \t Train loss 0.6575 \t Train acc: 0.6162\n"
     ]
    },
    {
     "name": "stderr",
     "output_type": "stream",
     "text": [
      "7it [00:00, 201.29it/s]\n"
     ]
    },
    {
     "name": "stdout",
     "output_type": "stream",
     "text": [
      ">> val \t Loss 0.6299 \t Running Acc 2.679 \t Total Acc 0.750 \t Avg Batch Time 0.0015\n",
      "New best validation model, saving...\n",
      "Epoch 5/45 finished.\n",
      "Train time: 0.52 \t Val time 0.04\n",
      "Train loss 0.6575 \t Train acc: 0.6162\n",
      "Val loss: 0.6386 \t Val acc: 0.7500\n",
      "Best val acc: 0.7500 at epoch 5.\n"
     ]
    },
    {
     "name": "stderr",
     "output_type": "stream",
     "text": [
      "50it [00:00, 110.59it/s]\n"
     ]
    },
    {
     "name": "stdout",
     "output_type": "stream",
     "text": [
      ">> train \t Epoch 7/45 \t Batch 49/50 \t Loss 0.6513 \t Running Acc 0.657 \t Total Acc 0.657 \t Avg Batch Time 0.0091\n",
      "Time: train: 0.45 \t Train loss 0.6513 \t Train acc: 0.6575\n"
     ]
    },
    {
     "name": "stderr",
     "output_type": "stream",
     "text": [
      "7it [00:00, 224.53it/s]\n"
     ]
    },
    {
     "name": "stdout",
     "output_type": "stream",
     "text": [
      ">> val \t Loss 0.6243 \t Running Acc 2.643 \t Total Acc 0.740 \t Avg Batch Time 0.0013\n",
      "Epoch 6/45 finished.\n",
      "Train time: 0.45 \t Val time 0.03\n",
      "Train loss 0.6513 \t Train acc: 0.6575\n",
      "Val loss: 0.6337 \t Val acc: 0.7400\n",
      "Best val acc: 0.7500 at epoch 5.\n"
     ]
    },
    {
     "name": "stderr",
     "output_type": "stream",
     "text": [
      "50it [00:00, 110.78it/s]\n"
     ]
    },
    {
     "name": "stdout",
     "output_type": "stream",
     "text": [
      ">> train \t Epoch 8/45 \t Batch 49/50 \t Loss 0.6430 \t Running Acc 0.671 \t Total Acc 0.671 \t Avg Batch Time 0.0091\n",
      "Time: train: 0.45 \t Train loss 0.6430 \t Train acc: 0.6713\n"
     ]
    },
    {
     "name": "stderr",
     "output_type": "stream",
     "text": [
      "7it [00:00, 221.36it/s]\n"
     ]
    },
    {
     "name": "stdout",
     "output_type": "stream",
     "text": [
      ">> val \t Loss 0.6227 \t Running Acc 2.679 \t Total Acc 0.750 \t Avg Batch Time 0.0013\n",
      "Epoch 7/45 finished.\n",
      "Train time: 0.45 \t Val time 0.03\n",
      "Train loss 0.6430 \t Train acc: 0.6713\n",
      "Val loss: 0.6323 \t Val acc: 0.7500\n",
      "Best val acc: 0.7500 at epoch 5.\n"
     ]
    },
    {
     "name": "stderr",
     "output_type": "stream",
     "text": [
      "50it [00:00, 111.63it/s]\n"
     ]
    },
    {
     "name": "stdout",
     "output_type": "stream",
     "text": [
      ">> train \t Epoch 9/45 \t Batch 49/50 \t Loss 0.6385 \t Running Acc 0.690 \t Total Acc 0.690 \t Avg Batch Time 0.0090\n",
      "Time: train: 0.45 \t Train loss 0.6385 \t Train acc: 0.6900\n"
     ]
    },
    {
     "name": "stderr",
     "output_type": "stream",
     "text": [
      "7it [00:00, 228.15it/s]\n"
     ]
    },
    {
     "name": "stdout",
     "output_type": "stream",
     "text": [
      ">> val \t Loss 0.6061 \t Running Acc 2.679 \t Total Acc 0.750 \t Avg Batch Time 0.0014\n",
      "Epoch 8/45 finished.\n",
      "Train time: 0.45 \t Val time 0.03\n",
      "Train loss 0.6385 \t Train acc: 0.6900\n",
      "Val loss: 0.6181 \t Val acc: 0.7500\n",
      "Best val acc: 0.7500 at epoch 5.\n"
     ]
    },
    {
     "name": "stderr",
     "output_type": "stream",
     "text": [
      "50it [00:00, 112.65it/s]\n"
     ]
    },
    {
     "name": "stdout",
     "output_type": "stream",
     "text": [
      ">> train \t Epoch 10/45 \t Batch 49/50 \t Loss 0.6212 \t Running Acc 0.709 \t Total Acc 0.709 \t Avg Batch Time 0.0089\n",
      "Time: train: 0.45 \t Train loss 0.6212 \t Train acc: 0.7087\n"
     ]
    },
    {
     "name": "stderr",
     "output_type": "stream",
     "text": [
      "7it [00:00, 228.23it/s]\n"
     ]
    },
    {
     "name": "stdout",
     "output_type": "stream",
     "text": [
      ">> val \t Loss 0.5787 \t Running Acc 2.714 \t Total Acc 0.760 \t Avg Batch Time 0.0013\n",
      "New best validation model, saving...\n",
      "Epoch 9/45 finished.\n",
      "Train time: 0.45 \t Val time 0.03\n",
      "Train loss 0.6212 \t Train acc: 0.7087\n",
      "Val loss: 0.5943 \t Val acc: 0.7600\n",
      "Best val acc: 0.7600 at epoch 9.\n"
     ]
    },
    {
     "name": "stderr",
     "output_type": "stream",
     "text": [
      "50it [00:00, 113.06it/s]\n"
     ]
    },
    {
     "name": "stdout",
     "output_type": "stream",
     "text": [
      ">> train \t Epoch 11/45 \t Batch 49/50 \t Loss 0.6083 \t Running Acc 0.721 \t Total Acc 0.721 \t Avg Batch Time 0.0089\n",
      "Time: train: 0.44 \t Train loss 0.6083 \t Train acc: 0.7212\n"
     ]
    },
    {
     "name": "stderr",
     "output_type": "stream",
     "text": [
      "7it [00:00, 217.29it/s]\n"
     ]
    },
    {
     "name": "stdout",
     "output_type": "stream",
     "text": [
      ">> val \t Loss 0.5691 \t Running Acc 2.750 \t Total Acc 0.770 \t Avg Batch Time 0.0014\n",
      "New best validation model, saving...\n",
      "Epoch 10/45 finished.\n",
      "Train time: 0.44 \t Val time 0.03\n",
      "Train loss 0.6083 \t Train acc: 0.7212\n",
      "Val loss: 0.5856 \t Val acc: 0.7700\n",
      "Best val acc: 0.7700 at epoch 10.\n"
     ]
    },
    {
     "name": "stderr",
     "output_type": "stream",
     "text": [
      "50it [00:00, 110.50it/s]\n"
     ]
    },
    {
     "name": "stdout",
     "output_type": "stream",
     "text": [
      ">> train \t Epoch 12/45 \t Batch 49/50 \t Loss 0.6059 \t Running Acc 0.730 \t Total Acc 0.730 \t Avg Batch Time 0.0091\n",
      "Time: train: 0.46 \t Train loss 0.6059 \t Train acc: 0.7300\n"
     ]
    },
    {
     "name": "stderr",
     "output_type": "stream",
     "text": [
      "7it [00:00, 225.68it/s]\n"
     ]
    },
    {
     "name": "stdout",
     "output_type": "stream",
     "text": [
      ">> val \t Loss 0.5635 \t Running Acc 2.857 \t Total Acc 0.800 \t Avg Batch Time 0.0013\n",
      "New best validation model, saving...\n",
      "Epoch 11/45 finished.\n",
      "Train time: 0.46 \t Val time 0.03\n",
      "Train loss 0.6059 \t Train acc: 0.7300\n",
      "Val loss: 0.5805 \t Val acc: 0.8000\n",
      "Best val acc: 0.8000 at epoch 11.\n"
     ]
    },
    {
     "name": "stderr",
     "output_type": "stream",
     "text": [
      "50it [00:00, 113.29it/s]\n"
     ]
    },
    {
     "name": "stdout",
     "output_type": "stream",
     "text": [
      ">> train \t Epoch 13/45 \t Batch 49/50 \t Loss 0.5920 \t Running Acc 0.754 \t Total Acc 0.754 \t Avg Batch Time 0.0089\n",
      "Time: train: 0.44 \t Train loss 0.5920 \t Train acc: 0.7538\n"
     ]
    },
    {
     "name": "stderr",
     "output_type": "stream",
     "text": [
      "7it [00:00, 220.15it/s]\n"
     ]
    },
    {
     "name": "stdout",
     "output_type": "stream",
     "text": [
      ">> val \t Loss 0.5593 \t Running Acc 2.821 \t Total Acc 0.790 \t Avg Batch Time 0.0014\n",
      "Epoch 12/45 finished.\n",
      "Train time: 0.44 \t Val time 0.03\n",
      "Train loss 0.5920 \t Train acc: 0.7538\n",
      "Val loss: 0.5765 \t Val acc: 0.7900\n",
      "Best val acc: 0.8000 at epoch 11.\n"
     ]
    },
    {
     "name": "stderr",
     "output_type": "stream",
     "text": [
      "50it [00:00, 111.82it/s]\n"
     ]
    },
    {
     "name": "stdout",
     "output_type": "stream",
     "text": [
      ">> train \t Epoch 14/45 \t Batch 49/50 \t Loss 0.5905 \t Running Acc 0.739 \t Total Acc 0.739 \t Avg Batch Time 0.0090\n",
      "Time: train: 0.45 \t Train loss 0.5905 \t Train acc: 0.7388\n"
     ]
    },
    {
     "name": "stderr",
     "output_type": "stream",
     "text": [
      "7it [00:00, 237.37it/s]\n"
     ]
    },
    {
     "name": "stdout",
     "output_type": "stream",
     "text": [
      ">> val \t Loss 0.5577 \t Running Acc 2.821 \t Total Acc 0.790 \t Avg Batch Time 0.0013\n",
      "Epoch 13/45 finished.\n",
      "Train time: 0.45 \t Val time 0.03\n",
      "Train loss 0.5905 \t Train acc: 0.7388\n",
      "Val loss: 0.5751 \t Val acc: 0.7900\n",
      "Best val acc: 0.8000 at epoch 11.\n"
     ]
    },
    {
     "name": "stderr",
     "output_type": "stream",
     "text": [
      "50it [00:00, 103.89it/s]\n"
     ]
    },
    {
     "name": "stdout",
     "output_type": "stream",
     "text": [
      ">> train \t Epoch 15/45 \t Batch 49/50 \t Loss 0.5838 \t Running Acc 0.745 \t Total Acc 0.745 \t Avg Batch Time 0.0097\n",
      "Time: train: 0.48 \t Train loss 0.5838 \t Train acc: 0.7450\n"
     ]
    },
    {
     "name": "stderr",
     "output_type": "stream",
     "text": [
      "7it [00:00, 210.35it/s]\n"
     ]
    },
    {
     "name": "stdout",
     "output_type": "stream",
     "text": [
      ">> val \t Loss 0.5571 \t Running Acc 2.857 \t Total Acc 0.800 \t Avg Batch Time 0.0014\n",
      "Epoch 14/45 finished.\n",
      "Train time: 0.48 \t Val time 0.04\n",
      "Train loss 0.5838 \t Train acc: 0.7450\n",
      "Val loss: 0.5744 \t Val acc: 0.8000\n",
      "Best val acc: 0.8000 at epoch 11.\n"
     ]
    },
    {
     "name": "stderr",
     "output_type": "stream",
     "text": [
      "50it [00:00, 111.43it/s]\n"
     ]
    },
    {
     "name": "stdout",
     "output_type": "stream",
     "text": [
      ">> train \t Epoch 16/45 \t Batch 49/50 \t Loss 0.5818 \t Running Acc 0.746 \t Total Acc 0.746 \t Avg Batch Time 0.0090\n",
      "Time: train: 0.45 \t Train loss 0.5818 \t Train acc: 0.7462\n"
     ]
    },
    {
     "name": "stderr",
     "output_type": "stream",
     "text": [
      "7it [00:00, 220.55it/s]\n"
     ]
    },
    {
     "name": "stdout",
     "output_type": "stream",
     "text": [
      ">> val \t Loss 0.5566 \t Running Acc 2.857 \t Total Acc 0.800 \t Avg Batch Time 0.0013\n",
      "Epoch 15/45 finished.\n",
      "Train time: 0.45 \t Val time 0.03\n",
      "Train loss 0.5818 \t Train acc: 0.7462\n",
      "Val loss: 0.5740 \t Val acc: 0.8000\n",
      "Best val acc: 0.8000 at epoch 11.\n"
     ]
    },
    {
     "name": "stderr",
     "output_type": "stream",
     "text": [
      "50it [00:00, 110.80it/s]\n"
     ]
    },
    {
     "name": "stdout",
     "output_type": "stream",
     "text": [
      ">> train \t Epoch 17/45 \t Batch 49/50 \t Loss 0.5852 \t Running Acc 0.739 \t Total Acc 0.739 \t Avg Batch Time 0.0091\n",
      "Time: train: 0.45 \t Train loss 0.5852 \t Train acc: 0.7388\n"
     ]
    },
    {
     "name": "stderr",
     "output_type": "stream",
     "text": [
      "7it [00:00, 225.01it/s]\n"
     ]
    },
    {
     "name": "stdout",
     "output_type": "stream",
     "text": [
      ">> val \t Loss 0.5469 \t Running Acc 2.821 \t Total Acc 0.790 \t Avg Batch Time 0.0014\n",
      "Epoch 16/45 finished.\n",
      "Train time: 0.45 \t Val time 0.03\n",
      "Train loss 0.5852 \t Train acc: 0.7388\n",
      "Val loss: 0.5655 \t Val acc: 0.7900\n",
      "Best val acc: 0.8000 at epoch 11.\n"
     ]
    },
    {
     "name": "stderr",
     "output_type": "stream",
     "text": [
      "50it [00:00, 112.07it/s]\n"
     ]
    },
    {
     "name": "stdout",
     "output_type": "stream",
     "text": [
      ">> train \t Epoch 18/45 \t Batch 49/50 \t Loss 0.5821 \t Running Acc 0.731 \t Total Acc 0.731 \t Avg Batch Time 0.0090\n",
      "Time: train: 0.45 \t Train loss 0.5821 \t Train acc: 0.7312\n"
     ]
    },
    {
     "name": "stderr",
     "output_type": "stream",
     "text": [
      "7it [00:00, 221.84it/s]\n"
     ]
    },
    {
     "name": "stdout",
     "output_type": "stream",
     "text": [
      ">> val \t Loss 0.5419 \t Running Acc 2.679 \t Total Acc 0.750 \t Avg Batch Time 0.0013\n",
      "Epoch 17/45 finished.\n",
      "Train time: 0.45 \t Val time 0.03\n",
      "Train loss 0.5821 \t Train acc: 0.7312\n",
      "Val loss: 0.5613 \t Val acc: 0.7500\n",
      "Best val acc: 0.8000 at epoch 11.\n"
     ]
    },
    {
     "name": "stderr",
     "output_type": "stream",
     "text": [
      "50it [00:00, 106.54it/s]\n"
     ]
    },
    {
     "name": "stdout",
     "output_type": "stream",
     "text": [
      ">> train \t Epoch 19/45 \t Batch 49/50 \t Loss 0.5699 \t Running Acc 0.757 \t Total Acc 0.757 \t Avg Batch Time 0.0094\n",
      "Time: train: 0.47 \t Train loss 0.5699 \t Train acc: 0.7575\n"
     ]
    },
    {
     "name": "stderr",
     "output_type": "stream",
     "text": [
      "7it [00:00, 223.59it/s]\n"
     ]
    },
    {
     "name": "stdout",
     "output_type": "stream",
     "text": [
      ">> val \t Loss 0.5310 \t Running Acc 2.821 \t Total Acc 0.790 \t Avg Batch Time 0.0013\n",
      "Epoch 18/45 finished.\n",
      "Train time: 0.47 \t Val time 0.03\n",
      "Train loss 0.5699 \t Train acc: 0.7575\n",
      "Val loss: 0.5518 \t Val acc: 0.7900\n",
      "Best val acc: 0.8000 at epoch 11.\n"
     ]
    },
    {
     "name": "stderr",
     "output_type": "stream",
     "text": [
      "50it [00:00, 111.82it/s]\n"
     ]
    },
    {
     "name": "stdout",
     "output_type": "stream",
     "text": [
      ">> train \t Epoch 20/45 \t Batch 49/50 \t Loss 0.5644 \t Running Acc 0.754 \t Total Acc 0.754 \t Avg Batch Time 0.0090\n",
      "Time: train: 0.45 \t Train loss 0.5644 \t Train acc: 0.7538\n"
     ]
    },
    {
     "name": "stderr",
     "output_type": "stream",
     "text": [
      "7it [00:00, 226.08it/s]\n"
     ]
    },
    {
     "name": "stdout",
     "output_type": "stream",
     "text": [
      ">> val \t Loss 0.5268 \t Running Acc 2.750 \t Total Acc 0.770 \t Avg Batch Time 0.0013\n",
      "Epoch 19/45 finished.\n",
      "Train time: 0.45 \t Val time 0.03\n",
      "Train loss 0.5644 \t Train acc: 0.7538\n",
      "Val loss: 0.5482 \t Val acc: 0.7700\n",
      "Best val acc: 0.8000 at epoch 11.\n"
     ]
    },
    {
     "name": "stderr",
     "output_type": "stream",
     "text": [
      "50it [00:00, 114.33it/s]\n"
     ]
    },
    {
     "name": "stdout",
     "output_type": "stream",
     "text": [
      ">> train \t Epoch 21/45 \t Batch 49/50 \t Loss 0.5574 \t Running Acc 0.760 \t Total Acc 0.760 \t Avg Batch Time 0.0088\n",
      "Time: train: 0.44 \t Train loss 0.5574 \t Train acc: 0.7600\n"
     ]
    },
    {
     "name": "stderr",
     "output_type": "stream",
     "text": [
      "7it [00:00, 218.53it/s]\n"
     ]
    },
    {
     "name": "stdout",
     "output_type": "stream",
     "text": [
      ">> val \t Loss 0.5196 \t Running Acc 2.786 \t Total Acc 0.780 \t Avg Batch Time 0.0014\n",
      "Epoch 20/45 finished.\n",
      "Train time: 0.44 \t Val time 0.03\n",
      "Train loss 0.5574 \t Train acc: 0.7600\n",
      "Val loss: 0.5421 \t Val acc: 0.7800\n",
      "Best val acc: 0.8000 at epoch 11.\n"
     ]
    },
    {
     "name": "stderr",
     "output_type": "stream",
     "text": [
      "50it [00:00, 113.75it/s]\n"
     ]
    },
    {
     "name": "stdout",
     "output_type": "stream",
     "text": [
      ">> train \t Epoch 22/45 \t Batch 49/50 \t Loss 0.5489 \t Running Acc 0.765 \t Total Acc 0.765 \t Avg Batch Time 0.0088\n",
      "Time: train: 0.44 \t Train loss 0.5489 \t Train acc: 0.7650\n"
     ]
    },
    {
     "name": "stderr",
     "output_type": "stream",
     "text": [
      "7it [00:00, 228.18it/s]\n"
     ]
    },
    {
     "name": "stdout",
     "output_type": "stream",
     "text": [
      ">> val \t Loss 0.5179 \t Running Acc 2.679 \t Total Acc 0.750 \t Avg Batch Time 0.0013\n",
      "Epoch 21/45 finished.\n",
      "Train time: 0.44 \t Val time 0.03\n",
      "Train loss 0.5489 \t Train acc: 0.7650\n",
      "Val loss: 0.5406 \t Val acc: 0.7500\n",
      "Best val acc: 0.8000 at epoch 11.\n"
     ]
    },
    {
     "name": "stderr",
     "output_type": "stream",
     "text": [
      "50it [00:00, 110.33it/s]\n"
     ]
    },
    {
     "name": "stdout",
     "output_type": "stream",
     "text": [
      ">> train \t Epoch 23/45 \t Batch 49/50 \t Loss 0.5620 \t Running Acc 0.759 \t Total Acc 0.759 \t Avg Batch Time 0.0091\n",
      "Time: train: 0.46 \t Train loss 0.5620 \t Train acc: 0.7588\n"
     ]
    },
    {
     "name": "stderr",
     "output_type": "stream",
     "text": [
      "7it [00:00, 226.31it/s]\n"
     ]
    },
    {
     "name": "stdout",
     "output_type": "stream",
     "text": [
      ">> val \t Loss 0.5191 \t Running Acc 2.679 \t Total Acc 0.750 \t Avg Batch Time 0.0013\n",
      "Epoch 22/45 finished.\n",
      "Train time: 0.46 \t Val time 0.03\n",
      "Train loss 0.5620 \t Train acc: 0.7588\n",
      "Val loss: 0.5416 \t Val acc: 0.7500\n",
      "Best val acc: 0.8000 at epoch 11.\n"
     ]
    },
    {
     "name": "stderr",
     "output_type": "stream",
     "text": [
      "50it [00:00, 113.50it/s]\n"
     ]
    },
    {
     "name": "stdout",
     "output_type": "stream",
     "text": [
      ">> train \t Epoch 24/45 \t Batch 49/50 \t Loss 0.5609 \t Running Acc 0.748 \t Total Acc 0.748 \t Avg Batch Time 0.0089\n",
      "Time: train: 0.44 \t Train loss 0.5609 \t Train acc: 0.7475\n"
     ]
    },
    {
     "name": "stderr",
     "output_type": "stream",
     "text": [
      "7it [00:00, 229.60it/s]\n"
     ]
    },
    {
     "name": "stdout",
     "output_type": "stream",
     "text": [
      ">> val \t Loss 0.5172 \t Running Acc 2.643 \t Total Acc 0.740 \t Avg Batch Time 0.0013\n",
      "Epoch 23/45 finished.\n",
      "Train time: 0.44 \t Val time 0.03\n",
      "Train loss 0.5609 \t Train acc: 0.7475\n",
      "Val loss: 0.5401 \t Val acc: 0.7400\n",
      "Best val acc: 0.8000 at epoch 11.\n"
     ]
    },
    {
     "name": "stderr",
     "output_type": "stream",
     "text": [
      "50it [00:00, 111.93it/s]\n"
     ]
    },
    {
     "name": "stdout",
     "output_type": "stream",
     "text": [
      ">> train \t Epoch 25/45 \t Batch 49/50 \t Loss 0.5505 \t Running Acc 0.750 \t Total Acc 0.750 \t Avg Batch Time 0.0090\n",
      "Time: train: 0.45 \t Train loss 0.5505 \t Train acc: 0.7500\n"
     ]
    },
    {
     "name": "stderr",
     "output_type": "stream",
     "text": [
      "7it [00:00, 228.50it/s]\n"
     ]
    },
    {
     "name": "stdout",
     "output_type": "stream",
     "text": [
      ">> val \t Loss 0.5126 \t Running Acc 2.679 \t Total Acc 0.750 \t Avg Batch Time 0.0013\n",
      "Epoch 24/45 finished.\n",
      "Train time: 0.45 \t Val time 0.03\n",
      "Train loss 0.5505 \t Train acc: 0.7500\n",
      "Val loss: 0.5361 \t Val acc: 0.7500\n",
      "Best val acc: 0.8000 at epoch 11.\n"
     ]
    },
    {
     "name": "stderr",
     "output_type": "stream",
     "text": [
      "50it [00:00, 112.55it/s]\n"
     ]
    },
    {
     "name": "stdout",
     "output_type": "stream",
     "text": [
      ">> train \t Epoch 26/45 \t Batch 49/50 \t Loss 0.5560 \t Running Acc 0.725 \t Total Acc 0.725 \t Avg Batch Time 0.0089\n",
      "Time: train: 0.45 \t Train loss 0.5560 \t Train acc: 0.7250\n"
     ]
    },
    {
     "name": "stderr",
     "output_type": "stream",
     "text": [
      "7it [00:00, 227.69it/s]\n"
     ]
    },
    {
     "name": "stdout",
     "output_type": "stream",
     "text": [
      ">> val \t Loss 0.5110 \t Running Acc 2.714 \t Total Acc 0.760 \t Avg Batch Time 0.0013\n",
      "Epoch 25/45 finished.\n",
      "Train time: 0.45 \t Val time 0.03\n",
      "Train loss 0.5560 \t Train acc: 0.7250\n",
      "Val loss: 0.5349 \t Val acc: 0.7600\n",
      "Best val acc: 0.8000 at epoch 11.\n"
     ]
    },
    {
     "name": "stderr",
     "output_type": "stream",
     "text": [
      "50it [00:00, 112.99it/s]\n"
     ]
    },
    {
     "name": "stdout",
     "output_type": "stream",
     "text": [
      ">> train \t Epoch 27/45 \t Batch 49/50 \t Loss 0.5486 \t Running Acc 0.750 \t Total Acc 0.750 \t Avg Batch Time 0.0089\n",
      "Time: train: 0.44 \t Train loss 0.5486 \t Train acc: 0.7500\n"
     ]
    },
    {
     "name": "stderr",
     "output_type": "stream",
     "text": [
      "7it [00:00, 229.89it/s]\n"
     ]
    },
    {
     "name": "stdout",
     "output_type": "stream",
     "text": [
      ">> val \t Loss 0.5085 \t Running Acc 2.643 \t Total Acc 0.740 \t Avg Batch Time 0.0013\n",
      "Epoch 26/45 finished.\n",
      "Train time: 0.44 \t Val time 0.03\n",
      "Train loss 0.5486 \t Train acc: 0.7500\n",
      "Val loss: 0.5327 \t Val acc: 0.7400\n",
      "Best val acc: 0.8000 at epoch 11.\n"
     ]
    },
    {
     "name": "stderr",
     "output_type": "stream",
     "text": [
      "50it [00:00, 111.85it/s]\n"
     ]
    },
    {
     "name": "stdout",
     "output_type": "stream",
     "text": [
      ">> train \t Epoch 28/45 \t Batch 49/50 \t Loss 0.5473 \t Running Acc 0.749 \t Total Acc 0.749 \t Avg Batch Time 0.0090\n",
      "Time: train: 0.45 \t Train loss 0.5473 \t Train acc: 0.7488\n"
     ]
    },
    {
     "name": "stderr",
     "output_type": "stream",
     "text": [
      "7it [00:00, 225.66it/s]\n"
     ]
    },
    {
     "name": "stdout",
     "output_type": "stream",
     "text": [
      ">> val \t Loss 0.5097 \t Running Acc 2.679 \t Total Acc 0.750 \t Avg Batch Time 0.0013\n",
      "Epoch 27/45 finished.\n",
      "Train time: 0.45 \t Val time 0.03\n",
      "Train loss 0.5473 \t Train acc: 0.7488\n",
      "Val loss: 0.5338 \t Val acc: 0.7500\n",
      "Best val acc: 0.8000 at epoch 11.\n"
     ]
    },
    {
     "name": "stderr",
     "output_type": "stream",
     "text": [
      "50it [00:00, 112.46it/s]\n"
     ]
    },
    {
     "name": "stdout",
     "output_type": "stream",
     "text": [
      ">> train \t Epoch 29/45 \t Batch 49/50 \t Loss 0.5463 \t Running Acc 0.739 \t Total Acc 0.739 \t Avg Batch Time 0.0089\n",
      "Time: train: 0.45 \t Train loss 0.5463 \t Train acc: 0.7388\n"
     ]
    },
    {
     "name": "stderr",
     "output_type": "stream",
     "text": [
      "7it [00:00, 233.65it/s]\n"
     ]
    },
    {
     "name": "stdout",
     "output_type": "stream",
     "text": [
      ">> val \t Loss 0.5088 \t Running Acc 2.679 \t Total Acc 0.750 \t Avg Batch Time 0.0013\n",
      "Epoch 28/45 finished.\n",
      "Train time: 0.45 \t Val time 0.03\n",
      "Train loss 0.5463 \t Train acc: 0.7388\n",
      "Val loss: 0.5330 \t Val acc: 0.7500\n",
      "Best val acc: 0.8000 at epoch 11.\n"
     ]
    },
    {
     "name": "stderr",
     "output_type": "stream",
     "text": [
      "50it [00:00, 113.00it/s]\n"
     ]
    },
    {
     "name": "stdout",
     "output_type": "stream",
     "text": [
      ">> train \t Epoch 30/45 \t Batch 49/50 \t Loss 0.5378 \t Running Acc 0.759 \t Total Acc 0.759 \t Avg Batch Time 0.0089\n",
      "Time: train: 0.44 \t Train loss 0.5378 \t Train acc: 0.7588\n"
     ]
    },
    {
     "name": "stderr",
     "output_type": "stream",
     "text": [
      "7it [00:00, 228.66it/s]\n"
     ]
    },
    {
     "name": "stdout",
     "output_type": "stream",
     "text": [
      ">> val \t Loss 0.5077 \t Running Acc 2.679 \t Total Acc 0.750 \t Avg Batch Time 0.0013\n",
      "Epoch 29/45 finished.\n",
      "Train time: 0.44 \t Val time 0.03\n",
      "Train loss 0.5378 \t Train acc: 0.7588\n",
      "Val loss: 0.5321 \t Val acc: 0.7500\n",
      "Best val acc: 0.8000 at epoch 11.\n"
     ]
    },
    {
     "name": "stderr",
     "output_type": "stream",
     "text": [
      "50it [00:00, 113.63it/s]\n"
     ]
    },
    {
     "name": "stdout",
     "output_type": "stream",
     "text": [
      ">> train \t Epoch 31/45 \t Batch 49/50 \t Loss 0.5539 \t Running Acc 0.741 \t Total Acc 0.741 \t Avg Batch Time 0.0088\n",
      "Time: train: 0.44 \t Train loss 0.5539 \t Train acc: 0.7412\n"
     ]
    },
    {
     "name": "stderr",
     "output_type": "stream",
     "text": [
      "7it [00:00, 233.02it/s]\n"
     ]
    },
    {
     "name": "stdout",
     "output_type": "stream",
     "text": [
      ">> val \t Loss 0.5079 \t Running Acc 2.679 \t Total Acc 0.750 \t Avg Batch Time 0.0013\n",
      "Epoch 30/45 finished.\n",
      "Train time: 0.44 \t Val time 0.03\n",
      "Train loss 0.5539 \t Train acc: 0.7412\n",
      "Val loss: 0.5322 \t Val acc: 0.7500\n",
      "Best val acc: 0.8000 at epoch 11.\n"
     ]
    },
    {
     "name": "stderr",
     "output_type": "stream",
     "text": [
      "50it [00:00, 113.09it/s]\n"
     ]
    },
    {
     "name": "stdout",
     "output_type": "stream",
     "text": [
      ">> train \t Epoch 32/45 \t Batch 49/50 \t Loss 0.5410 \t Running Acc 0.760 \t Total Acc 0.760 \t Avg Batch Time 0.0089\n",
      "Time: train: 0.44 \t Train loss 0.5410 \t Train acc: 0.7600\n"
     ]
    },
    {
     "name": "stderr",
     "output_type": "stream",
     "text": [
      "7it [00:00, 225.28it/s]\n"
     ]
    },
    {
     "name": "stdout",
     "output_type": "stream",
     "text": [
      ">> val \t Loss 0.5078 \t Running Acc 2.679 \t Total Acc 0.750 \t Avg Batch Time 0.0013\n",
      "Epoch 31/45 finished.\n",
      "Train time: 0.44 \t Val time 0.03\n",
      "Train loss 0.5410 \t Train acc: 0.7600\n",
      "Val loss: 0.5322 \t Val acc: 0.7500\n",
      "Best val acc: 0.8000 at epoch 11.\n"
     ]
    },
    {
     "name": "stderr",
     "output_type": "stream",
     "text": [
      "50it [00:00, 112.69it/s]\n"
     ]
    },
    {
     "name": "stdout",
     "output_type": "stream",
     "text": [
      ">> train \t Epoch 33/45 \t Batch 49/50 \t Loss 0.5454 \t Running Acc 0.757 \t Total Acc 0.757 \t Avg Batch Time 0.0089\n",
      "Time: train: 0.45 \t Train loss 0.5454 \t Train acc: 0.7575\n"
     ]
    },
    {
     "name": "stderr",
     "output_type": "stream",
     "text": [
      "7it [00:00, 227.12it/s]\n"
     ]
    },
    {
     "name": "stdout",
     "output_type": "stream",
     "text": [
      ">> val \t Loss 0.5079 \t Running Acc 2.679 \t Total Acc 0.750 \t Avg Batch Time 0.0013\n",
      "Epoch 32/45 finished.\n",
      "Train time: 0.45 \t Val time 0.03\n",
      "Train loss 0.5454 \t Train acc: 0.7575\n",
      "Val loss: 0.5322 \t Val acc: 0.7500\n",
      "Best val acc: 0.8000 at epoch 11.\n"
     ]
    },
    {
     "name": "stderr",
     "output_type": "stream",
     "text": [
      "50it [00:00, 107.31it/s]\n"
     ]
    },
    {
     "name": "stdout",
     "output_type": "stream",
     "text": [
      ">> train \t Epoch 34/45 \t Batch 49/50 \t Loss 0.5387 \t Running Acc 0.761 \t Total Acc 0.761 \t Avg Batch Time 0.0094\n",
      "Time: train: 0.47 \t Train loss 0.5387 \t Train acc: 0.7612\n"
     ]
    },
    {
     "name": "stderr",
     "output_type": "stream",
     "text": [
      "7it [00:00, 229.40it/s]\n"
     ]
    },
    {
     "name": "stdout",
     "output_type": "stream",
     "text": [
      ">> val \t Loss 0.5078 \t Running Acc 2.679 \t Total Acc 0.750 \t Avg Batch Time 0.0013\n",
      "Epoch 33/45 finished.\n",
      "Train time: 0.47 \t Val time 0.03\n",
      "Train loss 0.5387 \t Train acc: 0.7612\n",
      "Val loss: 0.5322 \t Val acc: 0.7500\n",
      "Best val acc: 0.8000 at epoch 11.\n"
     ]
    },
    {
     "name": "stderr",
     "output_type": "stream",
     "text": [
      "50it [00:00, 101.82it/s]\n"
     ]
    },
    {
     "name": "stdout",
     "output_type": "stream",
     "text": [
      ">> train \t Epoch 35/45 \t Batch 49/50 \t Loss 0.5472 \t Running Acc 0.750 \t Total Acc 0.750 \t Avg Batch Time 0.0099\n",
      "Time: train: 0.49 \t Train loss 0.5472 \t Train acc: 0.7500\n"
     ]
    },
    {
     "name": "stderr",
     "output_type": "stream",
     "text": [
      "7it [00:00, 227.00it/s]\n"
     ]
    },
    {
     "name": "stdout",
     "output_type": "stream",
     "text": [
      ">> val \t Loss 0.5078 \t Running Acc 2.679 \t Total Acc 0.750 \t Avg Batch Time 0.0014\n",
      "Epoch 34/45 finished.\n",
      "Train time: 0.49 \t Val time 0.03\n",
      "Train loss 0.5472 \t Train acc: 0.7500\n",
      "Val loss: 0.5322 \t Val acc: 0.7500\n",
      "Best val acc: 0.8000 at epoch 11.\n"
     ]
    },
    {
     "name": "stderr",
     "output_type": "stream",
     "text": [
      "50it [00:00, 110.26it/s]\n"
     ]
    },
    {
     "name": "stdout",
     "output_type": "stream",
     "text": [
      ">> train \t Epoch 36/45 \t Batch 49/50 \t Loss 0.5369 \t Running Acc 0.765 \t Total Acc 0.765 \t Avg Batch Time 0.0091\n",
      "Time: train: 0.46 \t Train loss 0.5369 \t Train acc: 0.7650\n"
     ]
    },
    {
     "name": "stderr",
     "output_type": "stream",
     "text": [
      "7it [00:00, 228.88it/s]\n"
     ]
    },
    {
     "name": "stdout",
     "output_type": "stream",
     "text": [
      ">> val \t Loss 0.5078 \t Running Acc 2.679 \t Total Acc 0.750 \t Avg Batch Time 0.0013\n",
      "Epoch 35/45 finished.\n",
      "Train time: 0.46 \t Val time 0.03\n",
      "Train loss 0.5369 \t Train acc: 0.7650\n",
      "Val loss: 0.5322 \t Val acc: 0.7500\n",
      "Best val acc: 0.8000 at epoch 11.\n"
     ]
    },
    {
     "name": "stderr",
     "output_type": "stream",
     "text": [
      "50it [00:00, 113.26it/s]\n"
     ]
    },
    {
     "name": "stdout",
     "output_type": "stream",
     "text": [
      ">> train \t Epoch 37/45 \t Batch 49/50 \t Loss 0.5427 \t Running Acc 0.748 \t Total Acc 0.748 \t Avg Batch Time 0.0089\n",
      "Time: train: 0.44 \t Train loss 0.5427 \t Train acc: 0.7475\n"
     ]
    },
    {
     "name": "stderr",
     "output_type": "stream",
     "text": [
      "7it [00:00, 232.32it/s]\n"
     ]
    },
    {
     "name": "stdout",
     "output_type": "stream",
     "text": [
      ">> val \t Loss 0.5078 \t Running Acc 2.679 \t Total Acc 0.750 \t Avg Batch Time 0.0013\n",
      "Epoch 36/45 finished.\n",
      "Train time: 0.44 \t Val time 0.03\n",
      "Train loss 0.5427 \t Train acc: 0.7475\n",
      "Val loss: 0.5322 \t Val acc: 0.7500\n",
      "Best val acc: 0.8000 at epoch 11.\n"
     ]
    },
    {
     "name": "stderr",
     "output_type": "stream",
     "text": [
      "50it [00:00, 114.30it/s]\n"
     ]
    },
    {
     "name": "stdout",
     "output_type": "stream",
     "text": [
      ">> train \t Epoch 38/45 \t Batch 49/50 \t Loss 0.5386 \t Running Acc 0.757 \t Total Acc 0.757 \t Avg Batch Time 0.0088\n",
      "Time: train: 0.44 \t Train loss 0.5386 \t Train acc: 0.7575\n"
     ]
    },
    {
     "name": "stderr",
     "output_type": "stream",
     "text": [
      "7it [00:00, 235.68it/s]\n"
     ]
    },
    {
     "name": "stdout",
     "output_type": "stream",
     "text": [
      ">> val \t Loss 0.5078 \t Running Acc 2.679 \t Total Acc 0.750 \t Avg Batch Time 0.0013\n",
      "Epoch 37/45 finished.\n",
      "Train time: 0.44 \t Val time 0.03\n",
      "Train loss 0.5386 \t Train acc: 0.7575\n",
      "Val loss: 0.5322 \t Val acc: 0.7500\n",
      "Best val acc: 0.8000 at epoch 11.\n"
     ]
    },
    {
     "name": "stderr",
     "output_type": "stream",
     "text": [
      "50it [00:00, 112.46it/s]\n"
     ]
    },
    {
     "name": "stdout",
     "output_type": "stream",
     "text": [
      ">> train \t Epoch 39/45 \t Batch 49/50 \t Loss 0.5325 \t Running Acc 0.775 \t Total Acc 0.775 \t Avg Batch Time 0.0089\n",
      "Time: train: 0.45 \t Train loss 0.5325 \t Train acc: 0.7750\n"
     ]
    },
    {
     "name": "stderr",
     "output_type": "stream",
     "text": [
      "7it [00:00, 232.56it/s]\n"
     ]
    },
    {
     "name": "stdout",
     "output_type": "stream",
     "text": [
      ">> val \t Loss 0.5078 \t Running Acc 2.679 \t Total Acc 0.750 \t Avg Batch Time 0.0013\n",
      "Epoch 38/45 finished.\n",
      "Train time: 0.45 \t Val time 0.03\n",
      "Train loss 0.5325 \t Train acc: 0.7750\n",
      "Val loss: 0.5322 \t Val acc: 0.7500\n",
      "Best val acc: 0.8000 at epoch 11.\n"
     ]
    },
    {
     "name": "stderr",
     "output_type": "stream",
     "text": [
      "50it [00:00, 110.90it/s]\n"
     ]
    },
    {
     "name": "stdout",
     "output_type": "stream",
     "text": [
      ">> train \t Epoch 40/45 \t Batch 49/50 \t Loss 0.5487 \t Running Acc 0.746 \t Total Acc 0.746 \t Avg Batch Time 0.0091\n",
      "Time: train: 0.45 \t Train loss 0.5487 \t Train acc: 0.7462\n"
     ]
    },
    {
     "name": "stderr",
     "output_type": "stream",
     "text": [
      "7it [00:00, 236.42it/s]\n"
     ]
    },
    {
     "name": "stdout",
     "output_type": "stream",
     "text": [
      ">> val \t Loss 0.5078 \t Running Acc 2.679 \t Total Acc 0.750 \t Avg Batch Time 0.0013\n",
      "Epoch 39/45 finished.\n",
      "Train time: 0.45 \t Val time 0.03\n",
      "Train loss 0.5487 \t Train acc: 0.7462\n",
      "Val loss: 0.5322 \t Val acc: 0.7500\n",
      "Best val acc: 0.8000 at epoch 11.\n"
     ]
    },
    {
     "name": "stderr",
     "output_type": "stream",
     "text": [
      "50it [00:00, 113.06it/s]\n"
     ]
    },
    {
     "name": "stdout",
     "output_type": "stream",
     "text": [
      ">> train \t Epoch 41/45 \t Batch 49/50 \t Loss 0.5334 \t Running Acc 0.766 \t Total Acc 0.766 \t Avg Batch Time 0.0089\n",
      "Time: train: 0.44 \t Train loss 0.5334 \t Train acc: 0.7662\n"
     ]
    },
    {
     "name": "stderr",
     "output_type": "stream",
     "text": [
      "7it [00:00, 225.41it/s]\n"
     ]
    },
    {
     "name": "stdout",
     "output_type": "stream",
     "text": [
      ">> val \t Loss 0.5078 \t Running Acc 2.679 \t Total Acc 0.750 \t Avg Batch Time 0.0013\n",
      "Epoch 40/45 finished.\n",
      "Train time: 0.44 \t Val time 0.03\n",
      "Train loss 0.5334 \t Train acc: 0.7662\n",
      "Val loss: 0.5322 \t Val acc: 0.7500\n",
      "Best val acc: 0.8000 at epoch 11.\n"
     ]
    },
    {
     "name": "stderr",
     "output_type": "stream",
     "text": [
      "50it [00:00, 113.09it/s]\n"
     ]
    },
    {
     "name": "stdout",
     "output_type": "stream",
     "text": [
      ">> train \t Epoch 42/45 \t Batch 49/50 \t Loss 0.5445 \t Running Acc 0.765 \t Total Acc 0.765 \t Avg Batch Time 0.0089\n",
      "Time: train: 0.44 \t Train loss 0.5445 \t Train acc: 0.7650\n"
     ]
    },
    {
     "name": "stderr",
     "output_type": "stream",
     "text": [
      "7it [00:00, 237.24it/s]\n"
     ]
    },
    {
     "name": "stdout",
     "output_type": "stream",
     "text": [
      ">> val \t Loss 0.5078 \t Running Acc 2.679 \t Total Acc 0.750 \t Avg Batch Time 0.0013\n",
      "Epoch 41/45 finished.\n",
      "Train time: 0.44 \t Val time 0.03\n",
      "Train loss 0.5445 \t Train acc: 0.7650\n",
      "Val loss: 0.5322 \t Val acc: 0.7500\n",
      "Best val acc: 0.8000 at epoch 11.\n"
     ]
    },
    {
     "name": "stderr",
     "output_type": "stream",
     "text": [
      "50it [00:00, 113.35it/s]\n"
     ]
    },
    {
     "name": "stdout",
     "output_type": "stream",
     "text": [
      ">> train \t Epoch 43/45 \t Batch 49/50 \t Loss 0.5422 \t Running Acc 0.766 \t Total Acc 0.766 \t Avg Batch Time 0.0089\n",
      "Time: train: 0.44 \t Train loss 0.5422 \t Train acc: 0.7662\n"
     ]
    },
    {
     "name": "stderr",
     "output_type": "stream",
     "text": [
      "7it [00:00, 230.90it/s]\n"
     ]
    },
    {
     "name": "stdout",
     "output_type": "stream",
     "text": [
      ">> val \t Loss 0.5078 \t Running Acc 2.679 \t Total Acc 0.750 \t Avg Batch Time 0.0013\n",
      "Epoch 42/45 finished.\n",
      "Train time: 0.44 \t Val time 0.03\n",
      "Train loss 0.5422 \t Train acc: 0.7662\n",
      "Val loss: 0.5322 \t Val acc: 0.7500\n",
      "Best val acc: 0.8000 at epoch 11.\n"
     ]
    },
    {
     "name": "stderr",
     "output_type": "stream",
     "text": [
      "50it [00:00, 111.12it/s]\n"
     ]
    },
    {
     "name": "stdout",
     "output_type": "stream",
     "text": [
      ">> train \t Epoch 44/45 \t Batch 49/50 \t Loss 0.5441 \t Running Acc 0.741 \t Total Acc 0.741 \t Avg Batch Time 0.0090\n",
      "Time: train: 0.45 \t Train loss 0.5441 \t Train acc: 0.7412\n"
     ]
    },
    {
     "name": "stderr",
     "output_type": "stream",
     "text": [
      "7it [00:00, 235.66it/s]\n"
     ]
    },
    {
     "name": "stdout",
     "output_type": "stream",
     "text": [
      ">> val \t Loss 0.5078 \t Running Acc 2.679 \t Total Acc 0.750 \t Avg Batch Time 0.0013\n",
      "Epoch 43/45 finished.\n",
      "Train time: 0.45 \t Val time 0.03\n",
      "Train loss 0.5441 \t Train acc: 0.7412\n",
      "Val loss: 0.5322 \t Val acc: 0.7500\n",
      "Best val acc: 0.8000 at epoch 11.\n"
     ]
    },
    {
     "name": "stderr",
     "output_type": "stream",
     "text": [
      "50it [00:00, 111.70it/s]\n"
     ]
    },
    {
     "name": "stdout",
     "output_type": "stream",
     "text": [
      ">> train \t Epoch 45/45 \t Batch 49/50 \t Loss 0.5435 \t Running Acc 0.752 \t Total Acc 0.752 \t Avg Batch Time 0.0090\n",
      "Time: train: 0.45 \t Train loss 0.5435 \t Train acc: 0.7525\n"
     ]
    },
    {
     "name": "stderr",
     "output_type": "stream",
     "text": [
      "7it [00:00, 234.43it/s]\n",
      "/tmp/ipykernel_18/813438993.py:142: FutureWarning: You are using `torch.load` with `weights_only=False` (the current default value), which uses the default pickle module implicitly. It is possible to construct malicious pickle data which will execute arbitrary code during unpickling (See https://github.com/pytorch/pytorch/blob/main/SECURITY.md#untrusted-models for more details). In a future release, the default value for `weights_only` will be flipped to `True`. This limits the functions that could be executed during unpickling. Arbitrary objects will no longer be allowed to be loaded via this mode unless they are explicitly allowlisted by the user via `torch.serialization.add_safe_globals`. We recommend you start setting `weights_only=True` for any use case where you don't have full control of the loaded file. Please open an issue on GitHub for any issues related to this experimental feature.\n",
      "  best_model = torch.load(os.path.join(model_path, \"best-val-model.pt\"), map_location=device)\n"
     ]
    },
    {
     "name": "stdout",
     "output_type": "stream",
     "text": [
      ">> val \t Loss 0.5078 \t Running Acc 2.679 \t Total Acc 0.750 \t Avg Batch Time 0.0013\n",
      "Epoch 44/45 finished.\n",
      "Train time: 0.45 \t Val time 0.03\n",
      "Train loss 0.5435 \t Train acc: 0.7525\n",
      "Val loss: 0.5322 \t Val acc: 0.7500\n",
      "Best val acc: 0.8000 at epoch 11.\n"
     ]
    },
    {
     "name": "stderr",
     "output_type": "stream",
     "text": [
      "7it [00:00, 223.46it/s]"
     ]
    },
    {
     "name": "stdout",
     "output_type": "stream",
     "text": [
      ">> test \t Loss 0.5754 \t Running Acc 2.464 \t Total Acc 0.690 \t Avg Batch Time 0.0013\n",
      "Final  tensor([[0.0000, 0.5664, 0.4336],\n",
      "        [1.0000, 0.5310, 0.4690],\n",
      "        [1.0000, 0.5880, 0.4120],\n",
      "        [0.0000, 0.7819, 0.2181],\n",
      "        [1.0000, 0.4691, 0.5309],\n",
      "        [0.0000, 0.5385, 0.4615],\n",
      "        [0.0000, 0.5776, 0.4224],\n",
      "        [0.0000, 0.7361, 0.2639],\n",
      "        [0.0000, 0.4748, 0.5252],\n",
      "        [1.0000, 0.5872, 0.4128],\n",
      "        [1.0000, 0.5973, 0.4027],\n",
      "        [1.0000, 0.3940, 0.6060],\n",
      "        [1.0000, 0.4026, 0.5974],\n",
      "        [0.0000, 0.7410, 0.2590],\n",
      "        [0.0000, 0.6906, 0.3094],\n",
      "        [1.0000, 0.5124, 0.4876],\n",
      "        [0.0000, 0.5966, 0.4034],\n",
      "        [0.0000, 0.6176, 0.3824],\n",
      "        [0.0000, 0.4931, 0.5069],\n",
      "        [1.0000, 0.4043, 0.5957],\n",
      "        [0.0000, 0.5902, 0.4098],\n",
      "        [1.0000, 0.5377, 0.4623],\n",
      "        [1.0000, 0.3997, 0.6003],\n",
      "        [1.0000, 0.4092, 0.5908],\n",
      "        [0.0000, 0.4880, 0.5120],\n",
      "        [0.0000, 0.5959, 0.4041],\n",
      "        [0.0000, 0.6506, 0.3494],\n",
      "        [0.0000, 0.4760, 0.5240],\n",
      "        [0.0000, 0.6948, 0.3052],\n",
      "        [1.0000, 0.6301, 0.3699],\n",
      "        [0.0000, 0.5996, 0.4004],\n",
      "        [1.0000, 0.5016, 0.4984],\n",
      "        [0.0000, 0.4544, 0.5456],\n",
      "        [0.0000, 0.6299, 0.3701],\n",
      "        [1.0000, 0.5120, 0.4880],\n",
      "        [0.0000, 0.6642, 0.3358],\n",
      "        [1.0000, 0.5161, 0.4839],\n",
      "        [0.0000, 0.4190, 0.5810],\n",
      "        [0.0000, 0.7059, 0.2941],\n",
      "        [0.0000, 0.6283, 0.3717],\n",
      "        [0.0000, 0.4579, 0.5421],\n",
      "        [0.0000, 0.5822, 0.4178],\n",
      "        [0.0000, 0.6115, 0.3885],\n",
      "        [1.0000, 0.4576, 0.5424],\n",
      "        [1.0000, 0.4336, 0.5664],\n",
      "        [0.0000, 0.6634, 0.3366],\n",
      "        [0.0000, 0.7495, 0.2505],\n",
      "        [1.0000, 0.5798, 0.4202],\n",
      "        [1.0000, 0.8071, 0.1929],\n",
      "        [0.0000, 0.4410, 0.5590],\n",
      "        [0.0000, 0.5579, 0.4421],\n",
      "        [1.0000, 0.3870, 0.6130],\n",
      "        [1.0000, 0.4385, 0.5615],\n",
      "        [1.0000, 0.6403, 0.3597],\n",
      "        [0.0000, 0.6228, 0.3772],\n",
      "        [1.0000, 0.4204, 0.5796],\n",
      "        [0.0000, 0.6849, 0.3151],\n",
      "        [1.0000, 0.4624, 0.5376],\n",
      "        [1.0000, 0.4605, 0.5395],\n",
      "        [0.0000, 0.4798, 0.5202],\n",
      "        [0.0000, 0.6920, 0.3080],\n",
      "        [1.0000, 0.5015, 0.4985],\n",
      "        [1.0000, 0.4377, 0.5623],\n",
      "        [1.0000, 0.4920, 0.5080],\n",
      "        [1.0000, 0.4605, 0.5395],\n",
      "        [1.0000, 0.4021, 0.5979],\n",
      "        [0.0000, 0.7381, 0.2619],\n",
      "        [1.0000, 0.6254, 0.3746],\n",
      "        [1.0000, 0.3843, 0.6157],\n",
      "        [1.0000, 0.5256, 0.4744],\n",
      "        [1.0000, 0.5027, 0.4973],\n",
      "        [0.0000, 0.4885, 0.5115],\n",
      "        [0.0000, 0.6981, 0.3019],\n",
      "        [1.0000, 0.3825, 0.6175],\n",
      "        [1.0000, 0.4200, 0.5800],\n",
      "        [1.0000, 0.4177, 0.5823],\n",
      "        [0.0000, 0.7188, 0.2812],\n",
      "        [1.0000, 0.4673, 0.5327],\n",
      "        [0.0000, 0.7973, 0.2027],\n",
      "        [0.0000, 0.6157, 0.3843],\n",
      "        [0.0000, 0.4570, 0.5430],\n",
      "        [1.0000, 0.4389, 0.5611],\n",
      "        [0.0000, 0.6321, 0.3679],\n",
      "        [0.0000, 0.7195, 0.2805],\n",
      "        [1.0000, 0.4187, 0.5813],\n",
      "        [0.0000, 0.5004, 0.4996],\n",
      "        [0.0000, 0.6095, 0.3905],\n",
      "        [0.0000, 0.7472, 0.2528],\n",
      "        [1.0000, 0.3874, 0.6126],\n",
      "        [1.0000, 0.4706, 0.5294],\n",
      "        [1.0000, 0.4611, 0.5389],\n",
      "        [0.0000, 0.6588, 0.3412],\n",
      "        [0.0000, 0.7071, 0.2929],\n",
      "        [1.0000, 0.5142, 0.4858],\n",
      "        [1.0000, 0.5319, 0.4681],\n",
      "        [1.0000, 0.4397, 0.5603],\n",
      "        [0.0000, 0.5902, 0.4098],\n",
      "        [0.0000, 0.6575, 0.3425],\n",
      "        [0.0000, 0.8244, 0.1756],\n",
      "        [1.0000, 0.5583, 0.4417]])\n",
      "Test: Loss 0.5857 \t Acc 0.6900 \t AUC: 0.8357 \t 1/eB 0.3: inf \t 1/eB 0.5: 10.4000\n"
     ]
    },
    {
     "name": "stderr",
     "output_type": "stream",
     "text": [
      "\n",
      "/tmp/ipykernel_18/813438993.py:155: RuntimeWarning: divide by zero encountered in scalar divide\n",
      "  'test_auc': auc, 'test_1/eB_0.3':1./eB[0],'test_1/eB_0.5':1./eB[1]}\n",
      "/tmp/ipykernel_18/813438993.py:158: RuntimeWarning: divide by zero encountered in scalar divide\n",
      "  % (test_res['loss'], test_res['acc'], auc, 1./eB[0], 1./eB[1]))\n"
     ]
    }
   ],
   "source": [
    "import os\n",
    "import torch\n",
    "from torch import nn, optim\n",
    "import json, time\n",
    "# import utils_lorentz\n",
    "import numpy as np\n",
    "import torch.distributed as dist\n",
    "from torch.nn.parallel import DistributedDataParallel\n",
    "from torch.optim.lr_scheduler import CosineAnnealingWarmRestarts\n",
    "\n",
    "from tqdm import tqdm\n",
    "\n",
    "def run(model, epoch, loader, partition, N_EPOCHS=None):\n",
    "    if partition == 'train':\n",
    "        model.train()\n",
    "    else:\n",
    "        model.eval()\n",
    "\n",
    "    res = {'time':0, 'correct':0, 'loss': 0, 'counter': 0, 'acc': 0,\n",
    "           'loss_arr':[], 'correct_arr':[],'label':[],'score':[]}\n",
    "\n",
    "    tik = time.time()\n",
    "    loader_length = len(loader)\n",
    "\n",
    "    for i, (label, p4s, nodes, atom_mask, edge_mask, edges) in tqdm(enumerate(loader)):\n",
    "        if partition == 'train':\n",
    "            optimizer.zero_grad()\n",
    "\n",
    "        batch_size, n_nodes, _ = p4s.size()\n",
    "        atom_positions = p4s.view(batch_size * n_nodes, -1).to(device, dtype)\n",
    "        atom_mask = atom_mask.view(batch_size * n_nodes, -1).to(device)\n",
    "        edge_mask = edge_mask.reshape(batch_size * n_nodes * n_nodes, -1).to(device)\n",
    "        nodes = nodes.view(batch_size * n_nodes, -1).to(device,dtype)\n",
    "        edges = [a.to(device) for a in edges]\n",
    "        label = label.to(device, dtype).long()\n",
    "\n",
    "        pred = model(scalars=nodes, x=atom_positions, edges=edges, node_mask=atom_mask,\n",
    "                         edge_mask=edge_mask, n_nodes=n_nodes)\n",
    "\n",
    "        predict = pred.max(1).indices\n",
    "        correct = torch.sum(predict == label).item()\n",
    "        loss = loss_fn(pred, label)\n",
    "\n",
    "        if partition == 'train':\n",
    "            loss.backward()\n",
    "            optimizer.step()\n",
    "        elif partition == 'test':\n",
    "            # save labels and probilities for ROC / AUC\n",
    "            # print(\"Preds \", pred)\n",
    "            score = torch.nn.functional.softmax(pred, dim = -1)\n",
    "            # print(\"Score test \", score)\n",
    "            # raise\n",
    "            res['label'].append(label)\n",
    "            res['score'].append(score)\n",
    "\n",
    "        res['time'] = time.time() - tik\n",
    "        res['correct'] += correct\n",
    "        res['loss'] += loss.item() * batch_size\n",
    "        res['counter'] += batch_size\n",
    "        res['loss_arr'].append(loss.item())\n",
    "        res['correct_arr'].append(correct)\n",
    "\n",
    "        # if i != 0 and i % args.log_interval == 0:\n",
    "\n",
    "    running_loss = sum(res['loss_arr'])/len(res['loss_arr'])\n",
    "    running_acc = sum(res['correct_arr'])/(len(res['correct_arr'])*batch_size)\n",
    "    avg_time = res['time']/res['counter'] * batch_size\n",
    "    tmp_counter = res['counter']\n",
    "    tmp_loss = res['loss'] / tmp_counter\n",
    "    tmp_acc = res['correct'] / tmp_counter\n",
    "\n",
    "    if N_EPOCHS:\n",
    "        print(\">> %s \\t Epoch %d/%d \\t Batch %d/%d \\t Loss %.4f \\t Running Acc %.3f \\t Total Acc %.3f \\t Avg Batch Time %.4f\" %\n",
    "             (partition, epoch + 1, N_EPOCHS, i, loader_length, running_loss, running_acc, tmp_acc, avg_time))\n",
    "    else:\n",
    "        print(\">> %s \\t Loss %.4f \\t Running Acc %.3f \\t Total Acc %.3f \\t Avg Batch Time %.4f\" %\n",
    "             (partition, running_loss, running_acc, tmp_acc, avg_time))\n",
    "\n",
    "    torch.cuda.empty_cache()\n",
    "    # ---------- reduce -----------\n",
    "    if partition == 'test':\n",
    "        res['label'] = torch.cat(res['label']).unsqueeze(-1)\n",
    "        res['score'] = torch.cat(res['score'])\n",
    "        res['score'] = torch.cat((res['label'],res['score']),dim=-1)\n",
    "    res['counter'] = res['counter']\n",
    "    res['loss'] = res['loss'] / res['counter']\n",
    "    res['acc'] = res['correct'] / res['counter']\n",
    "    return res\n",
    "\n",
    "def train(model, res, N_EPOCHS, model_path, log_path):\n",
    "    ### training and validation\n",
    "    os.makedirs(model_path, exist_ok=True)\n",
    "    os.makedirs(log_path, exist_ok=True)\n",
    "\n",
    "    for epoch in range(N_EPOCHS):\n",
    "        train_res = run(model, epoch, dataloaders['train'], partition='train', N_EPOCHS = N_EPOCHS)\n",
    "        print(\"Time: train: %.2f \\t Train loss %.4f \\t Train acc: %.4f\" % (train_res['time'],train_res['loss'],train_res['acc']))\n",
    "        # if epoch % args.val_interval == 0:\n",
    "\n",
    "        # if (args.local_rank == 0):\n",
    "        torch.save(model.state_dict(), os.path.join(model_path, \"checkpoint-epoch-{}.pt\".format(epoch)) )\n",
    "        with torch.no_grad():\n",
    "            val_res = run(model, epoch, dataloaders['val'], partition='val')\n",
    "\n",
    "        # if (args.local_rank == 0): # only master process save\n",
    "        res['lr'].append(optimizer.param_groups[0]['lr'])\n",
    "        res['train_time'].append(train_res['time'])\n",
    "        res['val_time'].append(val_res['time'])\n",
    "        res['train_loss'].append(train_res['loss'])\n",
    "        res['train_acc'].append(train_res['acc'])\n",
    "        res['val_loss'].append(val_res['loss'])\n",
    "        res['val_acc'].append(val_res['acc'])\n",
    "        res['epochs'].append(epoch)\n",
    "\n",
    "        ## save best model\n",
    "        if val_res['acc'] > res['best_val']:\n",
    "            print(\"New best validation model, saving...\")\n",
    "            torch.save(model.state_dict(), os.path.join(model_path,\"best-val-model.pt\"))\n",
    "            res['best_val'] = val_res['acc']\n",
    "            res['best_epoch'] = epoch\n",
    "\n",
    "        print(\"Epoch %d/%d finished.\" % (epoch, N_EPOCHS))\n",
    "        print(\"Train time: %.2f \\t Val time %.2f\" % (train_res['time'], val_res['time']))\n",
    "        print(\"Train loss %.4f \\t Train acc: %.4f\" % (train_res['loss'], train_res['acc']))\n",
    "        print(\"Val loss: %.4f \\t Val acc: %.4f\" % (val_res['loss'], val_res['acc']))\n",
    "        print(\"Best val acc: %.4f at epoch %d.\" % (res['best_val'],  res['best_epoch']))\n",
    "\n",
    "        json_object = json.dumps(res, indent=4)\n",
    "        with open(os.path.join(log_path, \"train-result-epoch{}.json\".format(epoch)), \"w\") as outfile:\n",
    "            outfile.write(json_object)\n",
    "\n",
    "        ## adjust learning rate\n",
    "        if (epoch < 31):\n",
    "            lr_scheduler.step(metrics=val_res['acc'])\n",
    "        else:\n",
    "            for g in optimizer.param_groups:\n",
    "                g['lr'] = g['lr']*0.5\n",
    "\n",
    "\n",
    "def test(model, res, model_path, log_path):\n",
    "    ### test on best model\n",
    "    best_model = torch.load(os.path.join(model_path, \"best-val-model.pt\"), map_location=device)\n",
    "    model.load_state_dict(best_model)\n",
    "    with torch.no_grad():\n",
    "        test_res = run(model, 0, dataloaders['test'], partition='test')\n",
    "\n",
    "    print(\"Final \", test_res['score'])\n",
    "    pred = test_res['score'].cpu()\n",
    "\n",
    "    np.save(os.path.join(log_path, \"score.npy\"), pred)\n",
    "    fpr, tpr, thres, eB, eS  = buildROC(pred[...,0], pred[...,2])\n",
    "    auc = roc_auc_score(pred[...,0], pred[...,2])\n",
    "\n",
    "    metric = {'test_loss': test_res['loss'], 'test_acc': test_res['acc'],\n",
    "              'test_auc': auc, 'test_1/eB_0.3':1./eB[0],'test_1/eB_0.5':1./eB[1]}\n",
    "    res.update(metric)\n",
    "    print(\"Test: Loss %.4f \\t Acc %.4f \\t AUC: %.4f \\t 1/eB 0.3: %.4f \\t 1/eB 0.5: %.4f\"\\\n",
    "           % (test_res['loss'], test_res['acc'], auc, 1./eB[0], 1./eB[1]))\n",
    "    json_object = json.dumps(res, indent=4)\n",
    "    with open(os.path.join(log_path, \"test-result.json\"), \"w\") as outfile:\n",
    "        outfile.write(json_object)\n",
    "\n",
    "if __name__ == \"__main__\":\n",
    "\n",
    "    N_EPOCHS = 45 # 60\n",
    "\n",
    "    model_path = \"models/LorentzNet/\"\n",
    "    log_path = \"logs/LorentzNet/\"\n",
    "    # args_init(args)\n",
    "\n",
    "    ### set random seed\n",
    "    torch.manual_seed(42)\n",
    "    np.random.seed(42)\n",
    "\n",
    "    ### initialize cuda\n",
    "    # dist.init_process_group(backend='nccl')\n",
    "    device = 'cpu' #torch.device(\"cpu\")\n",
    "    dtype = torch.float32\n",
    "\n",
    "    ### load data\n",
    "    # dataloaders = retrieve_dataloaders( batch_size,\n",
    "    #                                     num_data=100000, # use all data\n",
    "    #                                     cache_dir=\"datasets/QMLHEP/quark_gluons/\",\n",
    "    #                                     num_workers=0,\n",
    "    #                                     use_one_hot=True)\n",
    "\n",
    "    ### create parallel model\n",
    "    model = LorentzNet(n_scalar = 1, n_hidden = 4, n_class = 2,\\\n",
    "                       dropout = 0.2, n_layers = 1,\\\n",
    "                       c_weight = 1e-3)\n",
    "\n",
    "    model = model.to(device)\n",
    "\n",
    "    ### print model and dataset information\n",
    "    # if (args.local_rank == 0):\n",
    "    pytorch_total_params = sum(p.numel() for p in model.parameters())\n",
    "    print(\"Model Size:\", pytorch_total_params)\n",
    "    for (split, dataloader) in dataloaders.items():\n",
    "        print(f\" {split} samples: {len(dataloader.dataset)}\")\n",
    "\n",
    "    ### optimizer\n",
    "    optimizer = optim.AdamW(model.parameters(), lr=1e-3, weight_decay=1e-2)\n",
    "\n",
    "    ### lr scheduler\n",
    "    base_scheduler = CosineAnnealingWarmRestarts(optimizer, 4, 2, verbose = False)\n",
    "    lr_scheduler = GradualWarmupScheduler(optimizer, multiplier=1,\\\n",
    "                                                warmup_epoch=5,\\\n",
    "                                                after_scheduler=base_scheduler) ## warmup\n",
    "\n",
    "    ### loss function\n",
    "    loss_fn = nn.CrossEntropyLoss()\n",
    "\n",
    "    ### initialize logs\n",
    "    res = {'epochs': [], 'lr' : [],\\\n",
    "           'train_time': [], 'val_time': [],  'train_loss': [], 'val_loss': [],\\\n",
    "           'train_acc': [], 'val_acc': [], 'best_val': 0, 'best_epoch': 0}\n",
    "\n",
    "    ### training and testing\n",
    "    print(\"Training...\")\n",
    "    train(model, res, N_EPOCHS, model_path, log_path)\n",
    "    test(model, res, model_path, log_path)"
   ]
  },
  {
   "cell_type": "markdown",
   "id": "a5146134",
   "metadata": {
    "id": "gZwcNRHBXLqI",
    "papermill": {
     "duration": 0.125821,
     "end_time": "2024-10-24T20:23:13.058976",
     "exception": false,
     "start_time": "2024-10-24T20:23:12.933155",
     "status": "completed"
    },
    "tags": []
   },
   "source": [
    "# 4. Equivariant Quantum Neural Networks\n",
    "Now, let's move to quantum machine learning. Given some group $\\mathcal{G}$, one common way to achieve equivariance [6] is to have a quantum neural network of the form $h_{\\theta} = Tr[\\rho \\tilde{O}_{\\theta}]$ such that:\n",
    "\n",
    "$$\\begin{align*}\n",
    "\\tilde{O}_{\\theta} \\in Comm(G) = \\{A \\in \\mathbb{C}^{d\\times d} / [A, R(g)] = 0 \\text{ for all } g \\in G\\}\n",
    "\\end{align*}$$\n",
    "\n",
    "To see why, we need to observe that the trace is cyclical, so:\n",
    "\n",
    "$$\\begin{align*}\n",
    "    h_{\\theta} (g\\cdot \\rho) = Tr[R(g)\\rho R^{\\dagger}(g)\\tilde{O}_{\\theta}] = Tr[\\rho R^{\\dagger}(g)\\tilde{O}_{\\theta}R(g)] &= Tr[\\rho R^{\\dagger}(g)R(g)\\tilde{O}_{\\theta}]\\\\\n",
    "    &= Tr[\\rho \\tilde{O}_{\\theta}]\\\\\n",
    "    &= h_{\\theta}(\\rho).\n",
    "\\end{align*}$$\n",
    "\n",
    "Essentially, we are using the Heisenberg picture, where we apply the time evolution to the measurement operator instead of the initial quantum state. When the observable is included in the commutant of $\\mathcal{G}$, we can see how invariance is achieved.\n",
    "\n",
    "The challenge with this approach is that it only works for finite-dimensional and compact groups, like $p4m$, $SO(3)$, etc. The Lorentz group is known to be continuous and non-compact, so it has no finite-dimensional unitary representation. Hence, the approach above is of no use for us. Hopefully, there is another way: instead of baking equivariance directly into the ansatze, we'll do it in the feature space and in the message passing function. When the input is invariant, the message passing becomes equivariant.\n",
    "\n",
    "Similarly to LorentzNet, for standard jet tagging approach, our input is made of $4$-momentum vectors and any associated particle scalar one may wish to include, like color and charge. In fact, in this project, we start with the traditional LorentzNet architecture, but two modifications are made: first, the invariant metric can be extracted from the machine learned algebra; secondly, the $\\phi_e, \\phi_x, \\phi_h$ and $\\phi_m$ - classical parts modeled as classical multilayer perceptrons in Lorentznet, are now substituted by quantum parameterized circuits. Below we show how invariance-equivariance is preserved under this modification.\n",
    "\n",
    "## Infrared safe observables\n",
    "Another interesting bias to incorporate is the infrared and collinear (IRC) safety. An infrared and collinear safe observable is the same in the presence or absence of soft or collinear particles. In [6], an IRC-safe equivariant (classical) GNN was proposed for tagging simulated semi-visible jets from Hidden Valley models, showing superior performance on this data for Beyond the Standard Model (BSM) search.\n",
    "\n",
    "We saw before that in LorentzNet, the message is calculated as:\n",
    "\n",
    "\\begin{equation}\n",
    "m_{ij}^{l} = \\phi_{e}(h_i, h_j, \\psi(||x_{i}^{l} - x_{j}^{l}||^2), \\psi(\\langle x_{i}, x_{j}\\rangle)),\n",
    "\\end{equation}\n",
    "\n",
    "Now, intuitively, an IRC-safe model should give us a graph that stays invariant under any particle corresponding to an infinitesimal emission, or a collinear one. This means that such particles have no influence on other particles in our point cloud. But, how can we do this? Message passing!\n",
    "\n",
    "\\begin{align}\n",
    "\\text{IR safety}:& m^{l}(i,j) \\rightarrow 0 \\text{ as } z \\rightarrow 0,\\\\\n",
    "\\text{C safety}:& m^{l}(i,j + r) = m^{l}(i,j) + m^{l}(i,r) \\text{ as } \\Delta_{jr} \\rightarrow 0,\n",
    "\\end{align}\n",
    "\n",
    "To ensure IR safety, we can not use $z_j$ directly, as it breaks equivariance. We propose, thus, the following substitution:\n",
    "\n",
    "\\begin{equation}\n",
    "m_{ij}^{l} = \\frac{\\langle x_i , x_j\\rangle}{\\sum_{k \\in \\mathcal{N(j)} } \\langle x_i , x_k\\rangle } \\cdot \\phi_{e}(h_i, h_j, \\psi(||x_{i}^{l} - x_{j}^{l}||^2), \\psi(\\langle x_{i}, x_{j}\\rangle)),\n",
    "\\end{equation}\n",
    "\n",
    "\n",
    "Where $\\langle \\cdot,\\cdot\\rangle$ is the Minkowski inner product, and $\\mathcal{N(j)}$ represents all neighboring particles of $j$. If $j$ is a soft particle, then the Minkowski inner product should be small, thus , which makes the edge connection irrelevant, thus ensuring IR safety. Also, any Lorentz transformation preserves the inner product, so the message should remain symmetry-preserving.\n",
    "\n",
    "\n",
    "## 4.1. Lorentz Equivariant Quantum Block (LEQB)\n",
    "\n",
    "LEQB is the main piece of our model. We aim to fundamentally learn deeper quantum representations of $|\\psi_{x}^{l+1}\\rangle$ and $|\\psi_h^{l+1} \\rangle$ from $|\\psi_{x}^{l} \\rangle$ and $|\\psi_{h}^{l}\\rangle$, where:\n",
    "\n",
    "$$\\begin{align}\n",
    "    |\\psi_{x}^{l+1}\\rangle &= \\mathcal{U}_{x^{l+1}}({x}^{l})|0\\rangle,\\\\\n",
    "    |\\psi_{h}^{l+1}\\rangle &= \\mathcal{U}_{h^{l+1}}({h}^{l})|0\\rangle,\n",
    "\\end{align}$$\n",
    "\n",
    "where $\\mathcal{U_{x^{l}}}, \\mathcal{U_{x^{l+1}}}, \\mathcal{U_{h^{l}}}, \\mathcal{U_{h^{l+1}}}$ are all parameterized standard gate unitaries, or variational circuits. Note that $x^{l}$ are the observables and $h^{l}$ are the particle scalars when $l=0$, but $x^{l} = \\langle \\psi_x | \\mathcal{M} | \\psi_x\\rangle$ and $h^{l} = \\langle \\psi_h | \\mathcal{M} | \\psi_h\\rangle$ for $l > 0$, where $\\mathcal{M}$ is some measurement operator.\n",
    "\n",
    "## 4.2. Theoretical analysis\n",
    "\n",
    "Let's start with the following proposition:\n",
    "\n",
    "> The coordinate embedding $x^{l} = \\{x_1^{l} , x_2^{l} , \\dots , x_n^{l}\\}$ is Lorentz group equivariant and the node embedding $h^{l} = \\{h_1^{l} , h_2^{l}, \\dots , h_n^{l}\\}$ - representing the particle scalars - is Lie group invariant.\n",
    "\n",
    "To prove it, let $Q$ be some Lie group transformation. If the message $m_{ij}^{l}$ is invariant under the action of $Q$ for all $i,j,l,$ then $x_{i}^{l}$ is naturally Lie group equivariant since:\n",
    "\n",
    "$$\\begin{align*}\n",
    "    Q\\cdot x_i^{l+1} &= Q(x_i^{l} + \\sum_{j\\in \\mathcal{N}(i)} x_j^{l}\\cdot \\phi_x (m_{ij}^{l}))\\\\\n",
    "    &= Q\\cdot x_i^{l} + \\sum_{j\\in \\mathcal{N}(i)} Q\\cdot x_j^{l}\\cdot \\phi_x (m_{ij}^{l}),\n",
    "\\end{align*}$$\n",
    "\n",
    "where $Q$ acts under matrix multiplication. The equation above means that acting with $Q$ from the outside is the same as acting with $Q$ from the inside - directly into the node embeddings from the layer before. Then, for the invariance of $m_{ij}^{l}$, since the norm induced by the extracted metric is invariant under the action of $Q$, it holds that $\\|\\|x_{i}^{0} - x_{j}^{0}\\|\\|^2 = \\|\\|Q\\cdot x_{i}^{0} - Q\\cdot x_{j}^{0}\\|\\|^2$, and $\\langle x_{i}^{0}, x_{j}^{0} \\rangle = \\langle Q\\cdot x_{i}^{0}, Q\\cdot x_{j}^{0} \\rangle$. Since $m_{ij}^{l+1} = \\phi_e(h_i^{l}, h_j^{l}, \\|\\|x_{i}^{l} - x_{j}^{l}\\|\\|^2, \\langle x_{i}^{l}, x_{j}^{l} \\rangle)$, and the norm and the inner product are already invariant, we just have to show that $h^{l}$ is also invariant, since:\n",
    "\n",
    "$$\\begin{equation*}\n",
    "    h_i^{l+1} = h_i^{l} + \\phi_h (h_i^{l}, \\sum_{j\\in \\mathcal{N}(i)} w_{ij} m_{ij}^{l}).\n",
    "\\end{equation*}$$\n",
    "    \n",
    "For layer $l=0$, $h_{i}^{l}$ is already invariant (since it contains information only about the particle scalars). Then, $m_{ij}^{l+1}$ will be invariant, since all of its inputs are also invariant, and we follow the same logic for $x_{i}^{l+1}$. Given that these properties of $x,h,m$ hold for the first layer and the next, we reach the conclusion recursively.\n",
    "\n",
    "Having a quick glance at the discussion we had about groups, equivariance, particles and quantum machine learning, we are getting a hint that the marriage between Physics and symmetries is actually deep. Indeed it is! To quote Philip Anderson, who won the 1977 Nobel prize “for their fundamental theoretical investigations of the electronic structure of magnetic and disordered systems”:\n",
    "\n",
    "> It is only slightly overstating the case to say that physics is the study of symmetry."
   ]
  },
  {
   "cell_type": "code",
   "execution_count": 33,
   "id": "ed661381",
   "metadata": {
    "execution": {
     "iopub.execute_input": "2024-10-24T20:23:13.217666Z",
     "iopub.status.busy": "2024-10-24T20:23:13.216764Z",
     "iopub.status.idle": "2024-10-24T20:23:15.140970Z",
     "shell.execute_reply": "2024-10-24T20:23:15.139998Z"
    },
    "id": "3T8yKHYCZbPk",
    "papermill": {
     "duration": 2.006052,
     "end_time": "2024-10-24T20:23:15.143703",
     "exception": false,
     "start_time": "2024-10-24T20:23:13.137651",
     "status": "completed"
    },
    "tags": []
   },
   "outputs": [],
   "source": [
    "import torch\n",
    "import pennylane as qml\n",
    "import torch.nn.functional as F\n",
    "from torch import nn\n",
    "from torch_geometric.utils import to_dense_adj\n",
    "\n",
    "n_qubits = 4\n",
    "\n",
    "dev = qml.device('default.qubit', wires=n_qubits)\n",
    "# dev = qml.device(\"qiskit.aer\", wires=n_qubits)\n",
    "\n",
    "\n",
    "def H_layer(nqubits):\n",
    "    \"\"\"Layer of single-qubit Hadamard gates.\n",
    "    \"\"\"\n",
    "    for idx in range(nqubits):\n",
    "        qml.Hadamard(wires=idx)\n",
    "\n",
    "def RY_layer(w):\n",
    "    \"\"\"Layer of parametrized qubit rotations around the y axis.\n",
    "    \"\"\"\n",
    "    for idx, element in enumerate(w):\n",
    "        qml.RY(element, wires=idx)\n",
    "\n",
    "def RY_RX_layer(weights):\n",
    "    \"\"\"Applies a layer of parametrized RY and RX rotations.\"\"\"\n",
    "    for i, w in enumerate(weights):\n",
    "        qml.RY(w, wires=i)\n",
    "        qml.RX(w, wires=i)\n",
    "\n",
    "def full_entangling_layer(n_qubits):\n",
    "    \"\"\"Applies CNOT gates between all pairs of qubits.\"\"\"\n",
    "    for i in range(n_qubits):\n",
    "        for j in range(i+1, n_qubits):\n",
    "            qml.CNOT(wires=[i, j])\n",
    "\n",
    "def entangling_layer(nqubits):\n",
    "    \"\"\"Layer of CNOTs followed by another shifted layer of CNOT.\n",
    "    \"\"\"\n",
    "    # In other words it should apply something like :\n",
    "    # CNOT  CNOT  CNOT  CNOT...  CNOT\n",
    "    #   CNOT  CNOT  CNOT...  CNOT\n",
    "    for i in range(nqubits - 1):\n",
    "        qml.CRZ(np.pi / 2, wires=[i, i + 1])\n",
    "    for i in range(0, nqubits - 1, 2):  # Loop over even indices: i=0,2,...N-2\n",
    "        qml.SWAP(wires=[i, i + 1])\n",
    "    for i in range(1, nqubits - 1, 2):  # Loop over odd indices:  i=1,3,...N-3\n",
    "        qml.SWAP(wires=[i, i + 1])\n",
    "\n",
    "\n",
    "@qml.qnode(dev, interface=\"torch\")\n",
    "def quantum_net(q_input_features, q_weights_flat, q_depth, n_qubits):\n",
    "    \"\"\"\n",
    "    The variational quantum circuit.\n",
    "    \"\"\"\n",
    "\n",
    "    # Reshape weights\n",
    "    q_weights = q_weights_flat.reshape(q_depth, n_qubits)\n",
    "\n",
    "    # Start from state |+> , unbiased w.r.t. |0> and |1>\n",
    "    H_layer(n_qubits)\n",
    "\n",
    "    # Embed features in the quantum node\n",
    "    # RY_layer(q_input_features)\n",
    "    qml.AngleEmbedding(features=q_input_features, wires=range(n_qubits), rotation='Z')\n",
    "\n",
    "    # Sequence of trainable variational layers\n",
    "    # for k in range(q_depth):\n",
    "    #     entangling_layer(n_qubits)\n",
    "    #     RY_RX_layer(q_weights[k])\n",
    "    #     # RY_layer(q_weights[k])\n",
    "    for k in range(q_depth):\n",
    "        if k % 2 == 0:\n",
    "            entangling_layer(n_qubits)\n",
    "            RY_layer(q_weights[k])\n",
    "        else:\n",
    "            full_entangling_layer(n_qubits)\n",
    "            RY_RX_layer(q_weights[k])\n",
    "\n",
    "    # Expectation values in the Z basis\n",
    "    exp_vals = [qml.expval(qml.PauliZ(position)) for position in range(n_qubits)]\n",
    "    return tuple(exp_vals)\n",
    "\n",
    "\n",
    "class DressedQuantumNet(nn.Module):\n",
    "    \"\"\"\n",
    "    Torch module implementing the *dressed* quantum net.\n",
    "    \"\"\"\n",
    "\n",
    "    def __init__(self, n_qubits, q_depth = 1, q_delta=0.001):\n",
    "        \"\"\"\n",
    "        Definition of the *dressed* layout.\n",
    "        \"\"\"\n",
    "        print('n_qubits: ', n_qubits)\n",
    "        super().__init__()\n",
    "        self.n_qubits = n_qubits\n",
    "        self.q_depth = q_depth\n",
    "        self.q_params = nn.Parameter(q_delta * torch.randn(q_depth * n_qubits))\n",
    "\n",
    "    def forward(self, input_features):\n",
    "        \"\"\"\n",
    "        Optimized forward pass to reduce runtime.\n",
    "        \"\"\"\n",
    "\n",
    "        # Quantum Embedding (U(X))\n",
    "        q_in = torch.tanh(input_features) * np.pi / 2.0\n",
    "\n",
    "        # Preallocate output tensor\n",
    "        batch_size = q_in.shape[0]\n",
    "        q_out = torch.zeros(batch_size, self.n_qubits, device=q_in.device)\n",
    "\n",
    "        # Vectorized execution\n",
    "        for i, elem in enumerate(q_in):\n",
    "            q_out_elem = torch.hstack(quantum_net(elem, self.q_params, self.q_depth, self.n_qubits)).float()\n",
    "            q_out[i] = q_out_elem\n",
    "\n",
    "        return q_out"
   ]
  },
  {
   "cell_type": "code",
   "execution_count": 34,
   "id": "b1775a82",
   "metadata": {
    "execution": {
     "iopub.execute_input": "2024-10-24T20:23:15.301144Z",
     "iopub.status.busy": "2024-10-24T20:23:15.300040Z",
     "iopub.status.idle": "2024-10-24T20:23:15.337633Z",
     "shell.execute_reply": "2024-10-24T20:23:15.336595Z"
    },
    "id": "9sBE05_9XLqJ",
    "papermill": {
     "duration": 0.11901,
     "end_time": "2024-10-24T20:23:15.339954",
     "exception": false,
     "start_time": "2024-10-24T20:23:15.220944",
     "status": "completed"
    },
    "tags": []
   },
   "outputs": [],
   "source": [
    "# @title\n",
    "import torch\n",
    "from torch import nn\n",
    "import numpy as np\n",
    "import pennylane as qml\n",
    "\n",
    "\"\"\"\n",
    "    Lie-Equivariant Quantum Block (LEQB).\n",
    "\n",
    "        - Given the Lie generators found (i.e.: through LieGAN, oracle-preserving latent flow, or some other approach\n",
    "          that we develop further), once the metric tensor J is found via the equation:\n",
    "\n",
    "                          L.J + J.(L^T) = 0,\n",
    "\n",
    "          we just have to specify the metric to make the model symmetry-preserving to the corresponding Lie group.\n",
    "          In the cells below, we can see how the model preserves symmetries (starting with the default Lorentz group),\n",
    "          and when we change J to some other metric (Euclidean, for example), Lorentz boosts **break** equivariance, while other\n",
    "          transformations preserve it (rotations, for the example shown in the cells below)\n",
    "\"\"\"\n",
    "class LEQB(nn.Module):\n",
    "    def __init__(self, n_input, n_output, n_hidden, n_node_attr=0,\n",
    "                 dropout = 0., c_weight=1.0, last_layer=False, A=None, include_x=False):\n",
    "        super(LEQB, self).__init__()\n",
    "        self.c_weight = c_weight\n",
    "        self.dimension_reducer = nn.Linear(10, 4) # New linear layer for dimension reduction\n",
    "        self.dimension_reducer2 = nn.Linear(9, 4) # New linear layer for dimension reduction for phi_h\n",
    "        n_edge_attr = 2 if not include_x else 10 # dims for Minkowski norm & inner product\n",
    "        # With include_X = False, not include_x becomes True, so the value of n_edge_attr is 2. n_input = n_hidden = 4\n",
    "        print('Input size of phi_e: ', n_input)\n",
    "        self.include_x = include_x\n",
    "\n",
    "        \"\"\"\n",
    "            phi_e: input size: n_qubits -> output size: n_qubits\n",
    "            n_hidden has to be equal to n_input,\n",
    "            but this is just considering that this is a simple working example.\n",
    "        \"\"\"\n",
    "        # self.phi_e = DressedQuantumNet(n_input)\n",
    "        self.phi_e = nn.Sequential(\n",
    "            nn.Linear(n_input, n_hidden, bias=False),  # n_input * 2 + n_edge_attr\n",
    "            nn.BatchNorm1d(n_hidden),\n",
    "            nn.ReLU(),\n",
    "            nn.Linear(n_hidden, n_hidden),\n",
    "            nn.ReLU())\n",
    "\n",
    "        n_hidden = n_input # n_input * 2 + n_edge_attr\n",
    "        self.phi_h = nn.Sequential(\n",
    "            nn.Linear(n_hidden + n_input + n_node_attr, n_hidden),\n",
    "            nn.BatchNorm1d(n_hidden),\n",
    "            nn.ReLU(),\n",
    "            nn.Linear(n_hidden, n_output))\n",
    "\n",
    "#         self.phi_h = DressedQuantumNet(n_hidden)\n",
    "\n",
    "        layer = nn.Linear(n_hidden, 1, bias=False)\n",
    "        torch.nn.init.xavier_uniform_(layer.weight, gain=0.001)\n",
    "\n",
    "        self.phi_x = nn.Sequential(\n",
    "            nn.Linear(n_hidden, n_hidden),\n",
    "            nn.ReLU(),\n",
    "            layer)\n",
    "\n",
    "        self.phi_m = nn.Sequential(\n",
    "            DressedQuantumNet(n_hidden),\n",
    "            nn.Linear(n_hidden, 1),\n",
    "            nn.Sigmoid())\n",
    "        \n",
    "        # self.phi_m = nn.Sequential(\n",
    "        #     nn.Linear(n_hidden, 1),\n",
    "        #     nn.Sigmoid())\n",
    "\n",
    "        # self.phi_e = nn.Sequential(\n",
    "        #     nn.Linear(n_input * 2 + n_edge_attr, n_hidden, bias=False),\n",
    "        #     nn.BatchNorm1d(n_hidden),\n",
    "        #     nn.ReLU(),\n",
    "        #     nn.Linear(n_hidden, n_hidden),\n",
    "        #     nn.ReLU())\n",
    "\n",
    "        self.last_layer = last_layer\n",
    "        if last_layer:\n",
    "            del self.phi_x\n",
    "\n",
    "        self.A = A\n",
    "        self.norm_fn = normA_fn(A) if A is not None else normsq4\n",
    "        self.dot_fn = dotA_fn(A) if A is not None else dotsq4\n",
    "\n",
    "    def m_model(self, hi, hj, norms, dots):\n",
    "        out = torch.cat([hi, hj, norms, dots], dim=1)\n",
    "        out = self.dimension_reducer(out) # extra\n",
    "        # print(\"Before embedding to |psi> : \", out)\n",
    "        out = self.phi_e(out).squeeze(0)\n",
    "        w = self.phi_m(out)\n",
    "        out = out * w\n",
    "        return out\n",
    "\n",
    "    def m_model_extended(self, hi, hj, norms, dots, xi, xj):\n",
    "        out = torch.cat([hi, hj, norms, dots, xi, xj], dim=1)\n",
    "        out = self.dimension_reducer(out) # extra\n",
    "        out = self.phi_e(out).squeeze(0)\n",
    "        w = self.phi_m(out)\n",
    "        out = out * w\n",
    "        return out\n",
    "\n",
    "    def h_model(self, h, edges, m, node_attr):\n",
    "        i, j = edges\n",
    "        agg = unsorted_segment_sum(m, i, num_segments=h.size(0))\n",
    "        agg = torch.cat([h, agg, node_attr], dim=1)\n",
    "        # agg = self.dimension_reducer2(agg) # extra for phi_h\n",
    "        out = h + self.phi_h(agg)\n",
    "        return out\n",
    "\n",
    "    def x_model(self, x, edges, x_diff, m):\n",
    "        i, j = edges\n",
    "        trans = x_diff * self.phi_x(m)\n",
    "        # From https://github.com/vgsatorras/egnn\n",
    "        # This is never activated but just in case it explosed it may save the train\n",
    "        # From https://github.com/vgsatorras/egnn\n",
    "        # This is never activated but just in case it explosed it may save the train\n",
    "        trans = torch.clamp(trans, min=-100, max=100)\n",
    "        agg = unsorted_segment_mean(trans, i, num_segments=x.size(0))\n",
    "        x = x + agg * self.c_weight\n",
    "        return x\n",
    "\n",
    "    def minkowski_feats(self, edges, x):\n",
    "        i, j = edges\n",
    "        x_diff = x[i] - x[j]\n",
    "        norms = self.norm_fn(x_diff).unsqueeze(1)\n",
    "        dots = self.dot_fn(x[i], x[j]).unsqueeze(1)\n",
    "        norms, dots = psi(norms), psi(dots)\n",
    "        return norms, dots, x_diff\n",
    "\n",
    "    def forward(self, h, x, edges, node_attr=None):\n",
    "        i, j = edges\n",
    "        norms, dots, x_diff = self.minkowski_feats(edges, x)\n",
    "\n",
    "        if self.include_x:\n",
    "            m = self.m_model_extended(h[i], h[j], norms, dots, x[i], x[j])\n",
    "#             m = self.dimension_reducer2(m) # extra for phi_m\n",
    "        else:\n",
    "            m = self.m_model(h[i], h[j], norms, dots) # [B*N, hidden]\n",
    "#             m = self.dimension_reducer2(m) # extra for phi_m\n",
    "        if not self.last_layer:\n",
    "            x = self.x_model(x, edges, x_diff, m)\n",
    "        h = self.h_model(h, edges, m, node_attr)\n",
    "        return h, x, m\n",
    "\n",
    "class LieEQGNN(nn.Module):\n",
    "    r''' Implementation of LorentzNet.\n",
    "\n",
    "    Args:\n",
    "        - `n_scalar` (int): number of input scalars.\n",
    "        - `n_hidden` (int): dimension of latent space.\n",
    "        - `n_class`  (int): number of output classes.\n",
    "        - `n_layers` (int): number of LEQB layers.\n",
    "        - `c_weight` (float): weight c in the x_model.\n",
    "        - `dropout`  (float): dropout rate.\n",
    "    '''\n",
    "    def __init__(self, n_scalar, n_hidden, n_class = 2, n_layers = 6, c_weight = 1e-3, dropout = 0., A=None, include_x=False):\n",
    "        super(LieEQGNN, self).__init__()\n",
    "        self.n_hidden = n_hidden\n",
    "        self.n_layers = n_layers\n",
    "        self.embedding = nn.Linear(n_scalar, n_hidden)\n",
    "        self.LEQBs = nn.ModuleList([LEQB(self.n_hidden, self.n_hidden, self.n_hidden,\n",
    "                                    n_node_attr=n_scalar, dropout=dropout,\n",
    "                                    c_weight=c_weight, last_layer=(i==n_layers-1), A=A, include_x=include_x)\n",
    "                                    for i in range(n_layers)])\n",
    "        self.graph_dec = nn.Sequential(nn.Linear(self.n_hidden, self.n_hidden),\n",
    "                                       nn.ReLU(),\n",
    "                                       nn.Dropout(dropout),\n",
    "                                       nn.Linear(self.n_hidden, n_class)) # classification\n",
    "\n",
    "    def forward(self, scalars, x, edges, node_mask, edge_mask, n_nodes):\n",
    "        h = self.embedding(scalars)\n",
    "\n",
    "        # print(\"h before (just the first particle): \\n\", h[0].cpu().detach().numpy())\n",
    "        for i in range(self.n_layers):\n",
    "            h, x, _ = self.LEQBs[i](h, x, edges, node_attr=scalars)\n",
    "\n",
    "        # print(\"h after (just the first particle): \\n\", h[0].cpu().detach().numpy())\n",
    "\n",
    "        h = h * node_mask\n",
    "        h = h.view(-1, n_nodes, self.n_hidden)\n",
    "        h = torch.mean(h, dim=1)\n",
    "        pred = self.graph_dec(h)\n",
    "        return pred.squeeze(1)"
   ]
  },
  {
   "cell_type": "code",
   "execution_count": 35,
   "id": "9dc8cae2",
   "metadata": {
    "execution": {
     "iopub.execute_input": "2024-10-24T20:23:15.497424Z",
     "iopub.status.busy": "2024-10-24T20:23:15.496960Z",
     "iopub.status.idle": "2024-10-25T05:26:38.250858Z",
     "shell.execute_reply": "2024-10-25T05:26:38.249558Z"
    },
    "id": "sCLi_VJSZiEE",
    "outputId": "54936a42-d9e0-4fc5-f638-c477eea493f7",
    "papermill": {
     "duration": 32602.836734,
     "end_time": "2024-10-25T05:26:38.254398",
     "exception": false,
     "start_time": "2024-10-24T20:23:15.417664",
     "status": "completed"
    },
    "scrolled": true,
    "tags": []
   },
   "outputs": [
    {
     "name": "stderr",
     "output_type": "stream",
     "text": [
      "/opt/conda/lib/python3.10/site-packages/torch/optim/lr_scheduler.py:60: UserWarning: The verbose parameter is deprecated. Please use get_last_lr() to access the learning rate.\n",
      "  warnings.warn(\n"
     ]
    },
    {
     "name": "stdout",
     "output_type": "stream",
     "text": [
      "Input size of phi_e:  4\n",
      "n_qubits:  4\n",
      "Model Size: 243\n",
      " train samples: 800\n",
      " val samples: 100\n",
      " test samples: 100\n",
      "Training...\n"
     ]
    },
    {
     "name": "stderr",
     "output_type": "stream",
     "text": [
      "50it [08:43, 10.47s/it]\n"
     ]
    },
    {
     "name": "stdout",
     "output_type": "stream",
     "text": [
      ">> train \t Epoch 1/55 \t Batch 49/50 \t Loss 0.7183 \t Running Acc 0.525 \t Total Acc 0.525 \t Avg Batch Time 10.4693\n",
      "Time: train: 523.46 \t Train loss 0.7183 \t Train acc: 0.5250\n"
     ]
    },
    {
     "name": "stderr",
     "output_type": "stream",
     "text": [
      "7it [00:44,  6.30s/it]\n"
     ]
    },
    {
     "name": "stdout",
     "output_type": "stream",
     "text": [
      ">> val \t Loss 0.7811 \t Running Acc 1.536 \t Total Acc 0.430 \t Avg Batch Time 1.7627\n",
      "New best validation model, saving...\n",
      "Epoch 0/55 finished.\n",
      "Train time: 523.46 \t Val time 44.07\n",
      "Train loss 0.7183 \t Train acc: 0.5250\n",
      "Val loss: 0.7704 \t Val acc: 0.4300\n",
      "Best val acc: 0.4300 at epoch 0.\n"
     ]
    },
    {
     "name": "stderr",
     "output_type": "stream",
     "text": [
      "50it [08:36, 10.33s/it]\n"
     ]
    },
    {
     "name": "stdout",
     "output_type": "stream",
     "text": [
      ">> train \t Epoch 2/55 \t Batch 49/50 \t Loss 0.7134 \t Running Acc 0.525 \t Total Acc 0.525 \t Avg Batch Time 10.3335\n",
      "Time: train: 516.67 \t Train loss 0.7134 \t Train acc: 0.5250\n"
     ]
    },
    {
     "name": "stderr",
     "output_type": "stream",
     "text": [
      "7it [00:43,  6.16s/it]\n"
     ]
    },
    {
     "name": "stdout",
     "output_type": "stream",
     "text": [
      ">> val \t Loss 0.7666 \t Running Acc 1.536 \t Total Acc 0.430 \t Avg Batch Time 1.7259\n",
      "Epoch 1/55 finished.\n",
      "Train time: 516.67 \t Val time 43.15\n",
      "Train loss 0.7134 \t Train acc: 0.5250\n",
      "Val loss: 0.7573 \t Val acc: 0.4300\n",
      "Best val acc: 0.4300 at epoch 0.\n"
     ]
    },
    {
     "name": "stderr",
     "output_type": "stream",
     "text": [
      "50it [08:38, 10.38s/it]\n"
     ]
    },
    {
     "name": "stdout",
     "output_type": "stream",
     "text": [
      ">> train \t Epoch 3/55 \t Batch 49/50 \t Loss 0.7032 \t Running Acc 0.525 \t Total Acc 0.525 \t Avg Batch Time 10.3752\n",
      "Time: train: 518.76 \t Train loss 0.7032 \t Train acc: 0.5250\n"
     ]
    },
    {
     "name": "stderr",
     "output_type": "stream",
     "text": [
      "7it [00:43,  6.20s/it]\n"
     ]
    },
    {
     "name": "stdout",
     "output_type": "stream",
     "text": [
      ">> val \t Loss 0.7308 \t Running Acc 1.536 \t Total Acc 0.430 \t Avg Batch Time 1.7367\n",
      "Epoch 2/55 finished.\n",
      "Train time: 518.76 \t Val time 43.42\n",
      "Train loss 0.7032 \t Train acc: 0.5250\n",
      "Val loss: 0.7265 \t Val acc: 0.4300\n",
      "Best val acc: 0.4300 at epoch 0.\n"
     ]
    },
    {
     "name": "stderr",
     "output_type": "stream",
     "text": [
      "50it [09:24, 11.30s/it]\n"
     ]
    },
    {
     "name": "stdout",
     "output_type": "stream",
     "text": [
      ">> train \t Epoch 4/55 \t Batch 49/50 \t Loss 0.6632 \t Running Acc 0.598 \t Total Acc 0.598 \t Avg Batch Time 11.2953\n",
      "Time: train: 564.77 \t Train loss 0.6632 \t Train acc: 0.5975\n"
     ]
    },
    {
     "name": "stderr",
     "output_type": "stream",
     "text": [
      "7it [00:48,  6.91s/it]\n"
     ]
    },
    {
     "name": "stdout",
     "output_type": "stream",
     "text": [
      ">> val \t Loss 0.6325 \t Running Acc 2.500 \t Total Acc 0.700 \t Avg Batch Time 1.9338\n",
      "New best validation model, saving...\n",
      "Epoch 3/55 finished.\n",
      "Train time: 564.77 \t Val time 48.35\n",
      "Train loss 0.6632 \t Train acc: 0.5975\n",
      "Val loss: 0.6397 \t Val acc: 0.7000\n",
      "Best val acc: 0.7000 at epoch 3.\n"
     ]
    },
    {
     "name": "stderr",
     "output_type": "stream",
     "text": [
      "50it [10:21, 12.44s/it]\n"
     ]
    },
    {
     "name": "stdout",
     "output_type": "stream",
     "text": [
      ">> train \t Epoch 5/55 \t Batch 49/50 \t Loss 0.6336 \t Running Acc 0.690 \t Total Acc 0.690 \t Avg Batch Time 12.4375\n",
      "Time: train: 621.88 \t Train loss 0.6336 \t Train acc: 0.6900\n"
     ]
    },
    {
     "name": "stderr",
     "output_type": "stream",
     "text": [
      "7it [00:49,  7.14s/it]\n"
     ]
    },
    {
     "name": "stdout",
     "output_type": "stream",
     "text": [
      ">> val \t Loss 0.6081 \t Running Acc 2.750 \t Total Acc 0.770 \t Avg Batch Time 2.0000\n",
      "New best validation model, saving...\n",
      "Epoch 4/55 finished.\n",
      "Train time: 621.88 \t Val time 50.00\n",
      "Train loss 0.6336 \t Train acc: 0.6900\n",
      "Val loss: 0.6187 \t Val acc: 0.7700\n",
      "Best val acc: 0.7700 at epoch 4.\n"
     ]
    },
    {
     "name": "stderr",
     "output_type": "stream",
     "text": [
      "50it [10:25, 12.52s/it]\n"
     ]
    },
    {
     "name": "stdout",
     "output_type": "stream",
     "text": [
      ">> train \t Epoch 6/55 \t Batch 49/50 \t Loss 0.6166 \t Running Acc 0.694 \t Total Acc 0.694 \t Avg Batch Time 12.5190\n",
      "Time: train: 625.95 \t Train loss 0.6166 \t Train acc: 0.6937\n"
     ]
    },
    {
     "name": "stderr",
     "output_type": "stream",
     "text": [
      "7it [00:48,  6.92s/it]\n"
     ]
    },
    {
     "name": "stdout",
     "output_type": "stream",
     "text": [
      ">> val \t Loss 0.6096 \t Running Acc 2.571 \t Total Acc 0.720 \t Avg Batch Time 1.9374\n",
      "Epoch 5/55 finished.\n",
      "Train time: 625.95 \t Val time 48.43\n",
      "Train loss 0.6166 \t Train acc: 0.6937\n",
      "Val loss: 0.6199 \t Val acc: 0.7200\n",
      "Best val acc: 0.7700 at epoch 4.\n"
     ]
    },
    {
     "name": "stderr",
     "output_type": "stream",
     "text": [
      "50it [10:16, 12.33s/it]\n"
     ]
    },
    {
     "name": "stdout",
     "output_type": "stream",
     "text": [
      ">> train \t Epoch 7/55 \t Batch 49/50 \t Loss 0.6161 \t Running Acc 0.701 \t Total Acc 0.701 \t Avg Batch Time 12.3281\n",
      "Time: train: 616.41 \t Train loss 0.6161 \t Train acc: 0.7013\n"
     ]
    },
    {
     "name": "stderr",
     "output_type": "stream",
     "text": [
      "7it [00:47,  6.85s/it]\n"
     ]
    },
    {
     "name": "stdout",
     "output_type": "stream",
     "text": [
      ">> val \t Loss 0.5869 \t Running Acc 2.786 \t Total Acc 0.780 \t Avg Batch Time 1.9185\n",
      "New best validation model, saving...\n",
      "Epoch 6/55 finished.\n",
      "Train time: 616.41 \t Val time 47.96\n",
      "Train loss 0.6161 \t Train acc: 0.7013\n",
      "Val loss: 0.6004 \t Val acc: 0.7800\n",
      "Best val acc: 0.7800 at epoch 6.\n"
     ]
    },
    {
     "name": "stderr",
     "output_type": "stream",
     "text": [
      "50it [10:12, 12.24s/it]\n"
     ]
    },
    {
     "name": "stdout",
     "output_type": "stream",
     "text": [
      ">> train \t Epoch 8/55 \t Batch 49/50 \t Loss 0.6147 \t Running Acc 0.698 \t Total Acc 0.698 \t Avg Batch Time 12.2433\n",
      "Time: train: 612.16 \t Train loss 0.6147 \t Train acc: 0.6975\n"
     ]
    },
    {
     "name": "stderr",
     "output_type": "stream",
     "text": [
      "7it [00:49,  7.01s/it]\n"
     ]
    },
    {
     "name": "stdout",
     "output_type": "stream",
     "text": [
      ">> val \t Loss 0.5876 \t Running Acc 2.750 \t Total Acc 0.770 \t Avg Batch Time 1.9615\n",
      "Epoch 7/55 finished.\n",
      "Train time: 612.16 \t Val time 49.04\n",
      "Train loss 0.6147 \t Train acc: 0.6975\n",
      "Val loss: 0.6010 \t Val acc: 0.7700\n",
      "Best val acc: 0.7800 at epoch 6.\n"
     ]
    },
    {
     "name": "stderr",
     "output_type": "stream",
     "text": [
      "50it [10:10, 12.21s/it]\n"
     ]
    },
    {
     "name": "stdout",
     "output_type": "stream",
     "text": [
      ">> train \t Epoch 9/55 \t Batch 49/50 \t Loss 0.6195 \t Running Acc 0.691 \t Total Acc 0.691 \t Avg Batch Time 12.2061\n",
      "Time: train: 610.30 \t Train loss 0.6195 \t Train acc: 0.6913\n"
     ]
    },
    {
     "name": "stderr",
     "output_type": "stream",
     "text": [
      "7it [00:48,  6.92s/it]\n"
     ]
    },
    {
     "name": "stdout",
     "output_type": "stream",
     "text": [
      ">> val \t Loss 0.5906 \t Running Acc 2.679 \t Total Acc 0.750 \t Avg Batch Time 1.9383\n",
      "Epoch 8/55 finished.\n",
      "Train time: 610.30 \t Val time 48.46\n",
      "Train loss 0.6195 \t Train acc: 0.6913\n",
      "Val loss: 0.6034 \t Val acc: 0.7500\n",
      "Best val acc: 0.7800 at epoch 6.\n"
     ]
    },
    {
     "name": "stderr",
     "output_type": "stream",
     "text": [
      "50it [10:06, 12.14s/it]\n"
     ]
    },
    {
     "name": "stdout",
     "output_type": "stream",
     "text": [
      ">> train \t Epoch 10/55 \t Batch 49/50 \t Loss 0.6058 \t Running Acc 0.723 \t Total Acc 0.723 \t Avg Batch Time 12.1374\n",
      "Time: train: 606.87 \t Train loss 0.6058 \t Train acc: 0.7225\n"
     ]
    },
    {
     "name": "stderr",
     "output_type": "stream",
     "text": [
      "7it [00:47,  6.84s/it]\n"
     ]
    },
    {
     "name": "stdout",
     "output_type": "stream",
     "text": [
      ">> val \t Loss 0.5768 \t Running Acc 2.786 \t Total Acc 0.780 \t Avg Batch Time 1.9143\n",
      "Epoch 9/55 finished.\n",
      "Train time: 606.87 \t Val time 47.86\n",
      "Train loss 0.6058 \t Train acc: 0.7225\n",
      "Val loss: 0.5914 \t Val acc: 0.7800\n",
      "Best val acc: 0.7800 at epoch 6.\n"
     ]
    },
    {
     "name": "stderr",
     "output_type": "stream",
     "text": [
      "50it [10:04, 12.09s/it]\n"
     ]
    },
    {
     "name": "stdout",
     "output_type": "stream",
     "text": [
      ">> train \t Epoch 11/55 \t Batch 49/50 \t Loss 0.6020 \t Running Acc 0.705 \t Total Acc 0.705 \t Avg Batch Time 12.0889\n",
      "Time: train: 604.45 \t Train loss 0.6020 \t Train acc: 0.7050\n"
     ]
    },
    {
     "name": "stderr",
     "output_type": "stream",
     "text": [
      "7it [00:47,  6.82s/it]\n"
     ]
    },
    {
     "name": "stdout",
     "output_type": "stream",
     "text": [
      ">> val \t Loss 0.5705 \t Running Acc 2.821 \t Total Acc 0.790 \t Avg Batch Time 1.9099\n",
      "New best validation model, saving...\n",
      "Epoch 10/55 finished.\n",
      "Train time: 604.45 \t Val time 47.75\n",
      "Train loss 0.6020 \t Train acc: 0.7050\n",
      "Val loss: 0.5859 \t Val acc: 0.7900\n",
      "Best val acc: 0.7900 at epoch 10.\n"
     ]
    },
    {
     "name": "stderr",
     "output_type": "stream",
     "text": [
      "50it [10:02, 12.05s/it]\n"
     ]
    },
    {
     "name": "stdout",
     "output_type": "stream",
     "text": [
      ">> train \t Epoch 12/55 \t Batch 49/50 \t Loss 0.6064 \t Running Acc 0.696 \t Total Acc 0.696 \t Avg Batch Time 12.0517\n",
      "Time: train: 602.58 \t Train loss 0.6064 \t Train acc: 0.6963\n"
     ]
    },
    {
     "name": "stderr",
     "output_type": "stream",
     "text": [
      "7it [00:45,  6.51s/it]\n"
     ]
    },
    {
     "name": "stdout",
     "output_type": "stream",
     "text": [
      ">> val \t Loss 0.5663 \t Running Acc 2.786 \t Total Acc 0.780 \t Avg Batch Time 1.8234\n",
      "Epoch 11/55 finished.\n",
      "Train time: 602.58 \t Val time 45.58\n",
      "Train loss 0.6064 \t Train acc: 0.6963\n",
      "Val loss: 0.5822 \t Val acc: 0.7800\n",
      "Best val acc: 0.7900 at epoch 10.\n"
     ]
    },
    {
     "name": "stderr",
     "output_type": "stream",
     "text": [
      "50it [09:55, 11.91s/it]\n"
     ]
    },
    {
     "name": "stdout",
     "output_type": "stream",
     "text": [
      ">> train \t Epoch 13/55 \t Batch 49/50 \t Loss 0.5996 \t Running Acc 0.714 \t Total Acc 0.714 \t Avg Batch Time 11.9111\n",
      "Time: train: 595.56 \t Train loss 0.5996 \t Train acc: 0.7137\n"
     ]
    },
    {
     "name": "stderr",
     "output_type": "stream",
     "text": [
      "7it [00:48,  6.98s/it]\n"
     ]
    },
    {
     "name": "stdout",
     "output_type": "stream",
     "text": [
      ">> val \t Loss 0.5741 \t Running Acc 2.607 \t Total Acc 0.730 \t Avg Batch Time 1.9550\n",
      "Epoch 12/55 finished.\n",
      "Train time: 595.56 \t Val time 48.88\n",
      "Train loss 0.5996 \t Train acc: 0.7137\n",
      "Val loss: 0.5890 \t Val acc: 0.7300\n",
      "Best val acc: 0.7900 at epoch 10.\n"
     ]
    },
    {
     "name": "stderr",
     "output_type": "stream",
     "text": [
      "50it [09:46, 11.74s/it]\n"
     ]
    },
    {
     "name": "stdout",
     "output_type": "stream",
     "text": [
      ">> train \t Epoch 14/55 \t Batch 49/50 \t Loss 0.5998 \t Running Acc 0.718 \t Total Acc 0.718 \t Avg Batch Time 11.7376\n",
      "Time: train: 586.88 \t Train loss 0.5998 \t Train acc: 0.7175\n"
     ]
    },
    {
     "name": "stderr",
     "output_type": "stream",
     "text": [
      "7it [00:48,  6.89s/it]\n"
     ]
    },
    {
     "name": "stdout",
     "output_type": "stream",
     "text": [
      ">> val \t Loss 0.5694 \t Running Acc 2.679 \t Total Acc 0.750 \t Avg Batch Time 1.9302\n",
      "Epoch 13/55 finished.\n",
      "Train time: 586.88 \t Val time 48.26\n",
      "Train loss 0.5998 \t Train acc: 0.7175\n",
      "Val loss: 0.5849 \t Val acc: 0.7500\n",
      "Best val acc: 0.7900 at epoch 10.\n"
     ]
    },
    {
     "name": "stderr",
     "output_type": "stream",
     "text": [
      "50it [10:18, 12.36s/it]\n"
     ]
    },
    {
     "name": "stdout",
     "output_type": "stream",
     "text": [
      ">> train \t Epoch 15/55 \t Batch 49/50 \t Loss 0.5982 \t Running Acc 0.716 \t Total Acc 0.716 \t Avg Batch Time 12.3616\n",
      "Time: train: 618.08 \t Train loss 0.5982 \t Train acc: 0.7163\n"
     ]
    },
    {
     "name": "stderr",
     "output_type": "stream",
     "text": [
      "7it [00:49,  7.03s/it]\n"
     ]
    },
    {
     "name": "stdout",
     "output_type": "stream",
     "text": [
      ">> val \t Loss 0.5694 \t Running Acc 2.643 \t Total Acc 0.740 \t Avg Batch Time 1.9677\n",
      "Epoch 14/55 finished.\n",
      "Train time: 618.08 \t Val time 49.19\n",
      "Train loss 0.5982 \t Train acc: 0.7163\n",
      "Val loss: 0.5849 \t Val acc: 0.7400\n",
      "Best val acc: 0.7900 at epoch 10.\n"
     ]
    },
    {
     "name": "stderr",
     "output_type": "stream",
     "text": [
      "50it [10:09, 12.20s/it]\n"
     ]
    },
    {
     "name": "stdout",
     "output_type": "stream",
     "text": [
      ">> train \t Epoch 16/55 \t Batch 49/50 \t Loss 0.5971 \t Running Acc 0.713 \t Total Acc 0.713 \t Avg Batch Time 12.1963\n",
      "Time: train: 609.81 \t Train loss 0.5971 \t Train acc: 0.7125\n"
     ]
    },
    {
     "name": "stderr",
     "output_type": "stream",
     "text": [
      "7it [00:48,  6.89s/it]\n"
     ]
    },
    {
     "name": "stdout",
     "output_type": "stream",
     "text": [
      ">> val \t Loss 0.5684 \t Running Acc 2.679 \t Total Acc 0.750 \t Avg Batch Time 1.9305\n",
      "Epoch 15/55 finished.\n",
      "Train time: 609.81 \t Val time 48.26\n",
      "Train loss 0.5971 \t Train acc: 0.7125\n",
      "Val loss: 0.5840 \t Val acc: 0.7500\n",
      "Best val acc: 0.7900 at epoch 10.\n"
     ]
    },
    {
     "name": "stderr",
     "output_type": "stream",
     "text": [
      "50it [10:27, 12.56s/it]\n"
     ]
    },
    {
     "name": "stdout",
     "output_type": "stream",
     "text": [
      ">> train \t Epoch 17/55 \t Batch 49/50 \t Loss 0.5942 \t Running Acc 0.715 \t Total Acc 0.715 \t Avg Batch Time 12.5581\n",
      "Time: train: 627.91 \t Train loss 0.5942 \t Train acc: 0.7150\n"
     ]
    },
    {
     "name": "stderr",
     "output_type": "stream",
     "text": [
      "7it [00:50,  7.18s/it]\n"
     ]
    },
    {
     "name": "stdout",
     "output_type": "stream",
     "text": [
      ">> val \t Loss 0.5597 \t Running Acc 2.714 \t Total Acc 0.760 \t Avg Batch Time 2.0093\n",
      "Epoch 16/55 finished.\n",
      "Train time: 627.91 \t Val time 50.23\n",
      "Train loss 0.5942 \t Train acc: 0.7150\n",
      "Val loss: 0.5765 \t Val acc: 0.7600\n",
      "Best val acc: 0.7900 at epoch 10.\n"
     ]
    },
    {
     "name": "stderr",
     "output_type": "stream",
     "text": [
      "50it [09:51, 11.82s/it]\n"
     ]
    },
    {
     "name": "stdout",
     "output_type": "stream",
     "text": [
      ">> train \t Epoch 18/55 \t Batch 49/50 \t Loss 0.5923 \t Running Acc 0.709 \t Total Acc 0.709 \t Avg Batch Time 11.8207\n",
      "Time: train: 591.04 \t Train loss 0.5923 \t Train acc: 0.7087\n"
     ]
    },
    {
     "name": "stderr",
     "output_type": "stream",
     "text": [
      "7it [00:48,  6.97s/it]\n"
     ]
    },
    {
     "name": "stdout",
     "output_type": "stream",
     "text": [
      ">> val \t Loss 0.5603 \t Running Acc 2.607 \t Total Acc 0.730 \t Avg Batch Time 1.9522\n",
      "Epoch 17/55 finished.\n",
      "Train time: 591.04 \t Val time 48.81\n",
      "Train loss 0.5923 \t Train acc: 0.7087\n",
      "Val loss: 0.5770 \t Val acc: 0.7300\n",
      "Best val acc: 0.7900 at epoch 10.\n"
     ]
    },
    {
     "name": "stderr",
     "output_type": "stream",
     "text": [
      "50it [10:06, 12.14s/it]\n"
     ]
    },
    {
     "name": "stdout",
     "output_type": "stream",
     "text": [
      ">> train \t Epoch 19/55 \t Batch 49/50 \t Loss 0.5866 \t Running Acc 0.726 \t Total Acc 0.726 \t Avg Batch Time 12.1386\n",
      "Time: train: 606.93 \t Train loss 0.5866 \t Train acc: 0.7262\n"
     ]
    },
    {
     "name": "stderr",
     "output_type": "stream",
     "text": [
      "7it [00:47,  6.76s/it]\n"
     ]
    },
    {
     "name": "stdout",
     "output_type": "stream",
     "text": [
      ">> val \t Loss 0.5496 \t Running Acc 2.679 \t Total Acc 0.750 \t Avg Batch Time 1.8936\n",
      "Epoch 18/55 finished.\n",
      "Train time: 606.93 \t Val time 47.34\n",
      "Train loss 0.5866 \t Train acc: 0.7262\n",
      "Val loss: 0.5676 \t Val acc: 0.7500\n",
      "Best val acc: 0.7900 at epoch 10.\n"
     ]
    },
    {
     "name": "stderr",
     "output_type": "stream",
     "text": [
      "50it [09:43, 11.68s/it]\n"
     ]
    },
    {
     "name": "stdout",
     "output_type": "stream",
     "text": [
      ">> train \t Epoch 20/55 \t Batch 49/50 \t Loss 0.5802 \t Running Acc 0.720 \t Total Acc 0.720 \t Avg Batch Time 11.6770\n",
      "Time: train: 583.85 \t Train loss 0.5802 \t Train acc: 0.7200\n"
     ]
    },
    {
     "name": "stderr",
     "output_type": "stream",
     "text": [
      "7it [00:43,  6.24s/it]\n"
     ]
    },
    {
     "name": "stdout",
     "output_type": "stream",
     "text": [
      ">> val \t Loss 0.5426 \t Running Acc 2.750 \t Total Acc 0.770 \t Avg Batch Time 1.7472\n",
      "Epoch 19/55 finished.\n",
      "Train time: 583.85 \t Val time 43.68\n",
      "Train loss 0.5802 \t Train acc: 0.7200\n",
      "Val loss: 0.5615 \t Val acc: 0.7700\n",
      "Best val acc: 0.7900 at epoch 10.\n"
     ]
    },
    {
     "name": "stderr",
     "output_type": "stream",
     "text": [
      "50it [08:37, 10.35s/it]\n"
     ]
    },
    {
     "name": "stdout",
     "output_type": "stream",
     "text": [
      ">> train \t Epoch 21/55 \t Batch 49/50 \t Loss 0.5747 \t Running Acc 0.723 \t Total Acc 0.723 \t Avg Batch Time 10.3543\n",
      "Time: train: 517.72 \t Train loss 0.5747 \t Train acc: 0.7225\n"
     ]
    },
    {
     "name": "stderr",
     "output_type": "stream",
     "text": [
      "7it [00:43,  6.17s/it]\n"
     ]
    },
    {
     "name": "stdout",
     "output_type": "stream",
     "text": [
      ">> val \t Loss 0.5448 \t Running Acc 2.643 \t Total Acc 0.740 \t Avg Batch Time 1.7279\n",
      "Epoch 20/55 finished.\n",
      "Train time: 517.72 \t Val time 43.20\n",
      "Train loss 0.5747 \t Train acc: 0.7225\n",
      "Val loss: 0.5636 \t Val acc: 0.7400\n",
      "Best val acc: 0.7900 at epoch 10.\n"
     ]
    },
    {
     "name": "stderr",
     "output_type": "stream",
     "text": [
      "50it [08:37, 10.35s/it]\n"
     ]
    },
    {
     "name": "stdout",
     "output_type": "stream",
     "text": [
      ">> train \t Epoch 22/55 \t Batch 49/50 \t Loss 0.5879 \t Running Acc 0.694 \t Total Acc 0.694 \t Avg Batch Time 10.3455\n",
      "Time: train: 517.27 \t Train loss 0.5879 \t Train acc: 0.6937\n"
     ]
    },
    {
     "name": "stderr",
     "output_type": "stream",
     "text": [
      "7it [00:43,  6.15s/it]\n"
     ]
    },
    {
     "name": "stdout",
     "output_type": "stream",
     "text": [
      ">> val \t Loss 0.5417 \t Running Acc 2.643 \t Total Acc 0.740 \t Avg Batch Time 1.7227\n",
      "Epoch 21/55 finished.\n",
      "Train time: 517.27 \t Val time 43.07\n",
      "Train loss 0.5879 \t Train acc: 0.6937\n",
      "Val loss: 0.5608 \t Val acc: 0.7400\n",
      "Best val acc: 0.7900 at epoch 10.\n"
     ]
    },
    {
     "name": "stderr",
     "output_type": "stream",
     "text": [
      "50it [08:33, 10.27s/it]\n"
     ]
    },
    {
     "name": "stdout",
     "output_type": "stream",
     "text": [
      ">> train \t Epoch 23/55 \t Batch 49/50 \t Loss 0.5815 \t Running Acc 0.708 \t Total Acc 0.708 \t Avg Batch Time 10.2714\n",
      "Time: train: 513.57 \t Train loss 0.5815 \t Train acc: 0.7075\n"
     ]
    },
    {
     "name": "stderr",
     "output_type": "stream",
     "text": [
      "7it [00:42,  6.11s/it]\n"
     ]
    },
    {
     "name": "stdout",
     "output_type": "stream",
     "text": [
      ">> val \t Loss 0.5425 \t Running Acc 2.607 \t Total Acc 0.730 \t Avg Batch Time 1.7108\n",
      "Epoch 22/55 finished.\n",
      "Train time: 513.57 \t Val time 42.77\n",
      "Train loss 0.5815 \t Train acc: 0.7075\n",
      "Val loss: 0.5616 \t Val acc: 0.7300\n",
      "Best val acc: 0.7900 at epoch 10.\n"
     ]
    },
    {
     "name": "stderr",
     "output_type": "stream",
     "text": [
      "50it [09:03, 10.87s/it]\n"
     ]
    },
    {
     "name": "stdout",
     "output_type": "stream",
     "text": [
      ">> train \t Epoch 24/55 \t Batch 49/50 \t Loss 0.5739 \t Running Acc 0.734 \t Total Acc 0.734 \t Avg Batch Time 10.8715\n",
      "Time: train: 543.57 \t Train loss 0.5739 \t Train acc: 0.7338\n"
     ]
    },
    {
     "name": "stderr",
     "output_type": "stream",
     "text": [
      "7it [00:48,  6.98s/it]\n"
     ]
    },
    {
     "name": "stdout",
     "output_type": "stream",
     "text": [
      ">> val \t Loss 0.5303 \t Running Acc 2.750 \t Total Acc 0.770 \t Avg Batch Time 1.9550\n",
      "Epoch 23/55 finished.\n",
      "Train time: 543.57 \t Val time 48.87\n",
      "Train loss 0.5739 \t Train acc: 0.7338\n",
      "Val loss: 0.5507 \t Val acc: 0.7700\n",
      "Best val acc: 0.7900 at epoch 10.\n"
     ]
    },
    {
     "name": "stderr",
     "output_type": "stream",
     "text": [
      "50it [10:07, 12.14s/it]\n"
     ]
    },
    {
     "name": "stdout",
     "output_type": "stream",
     "text": [
      ">> train \t Epoch 25/55 \t Batch 49/50 \t Loss 0.5789 \t Running Acc 0.704 \t Total Acc 0.704 \t Avg Batch Time 12.1413\n",
      "Time: train: 607.07 \t Train loss 0.5789 \t Train acc: 0.7037\n"
     ]
    },
    {
     "name": "stderr",
     "output_type": "stream",
     "text": [
      "7it [00:48,  6.96s/it]\n"
     ]
    },
    {
     "name": "stdout",
     "output_type": "stream",
     "text": [
      ">> val \t Loss 0.5327 \t Running Acc 2.679 \t Total Acc 0.750 \t Avg Batch Time 1.9494\n",
      "Epoch 24/55 finished.\n",
      "Train time: 607.07 \t Val time 48.73\n",
      "Train loss 0.5789 \t Train acc: 0.7037\n",
      "Val loss: 0.5529 \t Val acc: 0.7500\n",
      "Best val acc: 0.7900 at epoch 10.\n"
     ]
    },
    {
     "name": "stderr",
     "output_type": "stream",
     "text": [
      "50it [09:05, 10.91s/it]\n"
     ]
    },
    {
     "name": "stdout",
     "output_type": "stream",
     "text": [
      ">> train \t Epoch 26/55 \t Batch 49/50 \t Loss 0.5914 \t Running Acc 0.682 \t Total Acc 0.682 \t Avg Batch Time 10.9116\n",
      "Time: train: 545.58 \t Train loss 0.5914 \t Train acc: 0.6825\n"
     ]
    },
    {
     "name": "stderr",
     "output_type": "stream",
     "text": [
      "7it [00:42,  6.10s/it]\n"
     ]
    },
    {
     "name": "stdout",
     "output_type": "stream",
     "text": [
      ">> val \t Loss 0.5464 \t Running Acc 2.679 \t Total Acc 0.750 \t Avg Batch Time 1.7081\n",
      "Epoch 25/55 finished.\n",
      "Train time: 545.58 \t Val time 42.70\n",
      "Train loss 0.5914 \t Train acc: 0.6825\n",
      "Val loss: 0.5654 \t Val acc: 0.7500\n",
      "Best val acc: 0.7900 at epoch 10.\n"
     ]
    },
    {
     "name": "stderr",
     "output_type": "stream",
     "text": [
      "50it [09:08, 10.97s/it]\n"
     ]
    },
    {
     "name": "stdout",
     "output_type": "stream",
     "text": [
      ">> train \t Epoch 27/55 \t Batch 49/50 \t Loss 0.5759 \t Running Acc 0.721 \t Total Acc 0.721 \t Avg Batch Time 10.9654\n",
      "Time: train: 548.27 \t Train loss 0.5759 \t Train acc: 0.7212\n"
     ]
    },
    {
     "name": "stderr",
     "output_type": "stream",
     "text": [
      "7it [00:47,  6.74s/it]\n"
     ]
    },
    {
     "name": "stdout",
     "output_type": "stream",
     "text": [
      ">> val \t Loss 0.5389 \t Running Acc 2.571 \t Total Acc 0.720 \t Avg Batch Time 1.8863\n",
      "Epoch 26/55 finished.\n",
      "Train time: 548.27 \t Val time 47.16\n",
      "Train loss 0.5759 \t Train acc: 0.7212\n",
      "Val loss: 0.5587 \t Val acc: 0.7200\n",
      "Best val acc: 0.7900 at epoch 10.\n"
     ]
    },
    {
     "name": "stderr",
     "output_type": "stream",
     "text": [
      "50it [10:04, 12.10s/it]\n"
     ]
    },
    {
     "name": "stdout",
     "output_type": "stream",
     "text": [
      ">> train \t Epoch 28/55 \t Batch 49/50 \t Loss 0.5788 \t Running Acc 0.706 \t Total Acc 0.706 \t Avg Batch Time 12.0989\n",
      "Time: train: 604.94 \t Train loss 0.5788 \t Train acc: 0.7063\n"
     ]
    },
    {
     "name": "stderr",
     "output_type": "stream",
     "text": [
      "7it [00:44,  6.34s/it]\n"
     ]
    },
    {
     "name": "stdout",
     "output_type": "stream",
     "text": [
      ">> val \t Loss 0.5392 \t Running Acc 2.571 \t Total Acc 0.720 \t Avg Batch Time 1.7746\n",
      "Epoch 27/55 finished.\n",
      "Train time: 604.94 \t Val time 44.36\n",
      "Train loss 0.5788 \t Train acc: 0.7063\n",
      "Val loss: 0.5590 \t Val acc: 0.7200\n",
      "Best val acc: 0.7900 at epoch 10.\n"
     ]
    },
    {
     "name": "stderr",
     "output_type": "stream",
     "text": [
      "50it [08:34, 10.28s/it]\n"
     ]
    },
    {
     "name": "stdout",
     "output_type": "stream",
     "text": [
      ">> train \t Epoch 29/55 \t Batch 49/50 \t Loss 0.5835 \t Running Acc 0.695 \t Total Acc 0.695 \t Avg Batch Time 10.2809\n",
      "Time: train: 514.05 \t Train loss 0.5835 \t Train acc: 0.6950\n"
     ]
    },
    {
     "name": "stderr",
     "output_type": "stream",
     "text": [
      "7it [00:42,  6.10s/it]\n"
     ]
    },
    {
     "name": "stdout",
     "output_type": "stream",
     "text": [
      ">> val \t Loss 0.5398 \t Running Acc 2.571 \t Total Acc 0.720 \t Avg Batch Time 1.7074\n",
      "Epoch 28/55 finished.\n",
      "Train time: 514.05 \t Val time 42.69\n",
      "Train loss 0.5835 \t Train acc: 0.6950\n",
      "Val loss: 0.5595 \t Val acc: 0.7200\n",
      "Best val acc: 0.7900 at epoch 10.\n"
     ]
    },
    {
     "name": "stderr",
     "output_type": "stream",
     "text": [
      "50it [08:33, 10.27s/it]\n"
     ]
    },
    {
     "name": "stdout",
     "output_type": "stream",
     "text": [
      ">> train \t Epoch 30/55 \t Batch 49/50 \t Loss 0.5747 \t Running Acc 0.714 \t Total Acc 0.714 \t Avg Batch Time 10.2671\n",
      "Time: train: 513.36 \t Train loss 0.5747 \t Train acc: 0.7137\n"
     ]
    },
    {
     "name": "stderr",
     "output_type": "stream",
     "text": [
      "7it [00:43,  6.15s/it]\n"
     ]
    },
    {
     "name": "stdout",
     "output_type": "stream",
     "text": [
      ">> val \t Loss 0.5382 \t Running Acc 2.571 \t Total Acc 0.720 \t Avg Batch Time 1.7232\n",
      "Epoch 29/55 finished.\n",
      "Train time: 513.36 \t Val time 43.08\n",
      "Train loss 0.5747 \t Train acc: 0.7137\n",
      "Val loss: 0.5581 \t Val acc: 0.7200\n",
      "Best val acc: 0.7900 at epoch 10.\n"
     ]
    },
    {
     "name": "stderr",
     "output_type": "stream",
     "text": [
      "50it [08:38, 10.38s/it]\n"
     ]
    },
    {
     "name": "stdout",
     "output_type": "stream",
     "text": [
      ">> train \t Epoch 31/55 \t Batch 49/50 \t Loss 0.5768 \t Running Acc 0.718 \t Total Acc 0.718 \t Avg Batch Time 10.3757\n",
      "Time: train: 518.79 \t Train loss 0.5768 \t Train acc: 0.7175\n"
     ]
    },
    {
     "name": "stderr",
     "output_type": "stream",
     "text": [
      "7it [00:43,  6.28s/it]\n"
     ]
    },
    {
     "name": "stdout",
     "output_type": "stream",
     "text": [
      ">> val \t Loss 0.5381 \t Running Acc 2.571 \t Total Acc 0.720 \t Avg Batch Time 1.7588\n",
      "Epoch 30/55 finished.\n",
      "Train time: 518.79 \t Val time 43.97\n",
      "Train loss 0.5768 \t Train acc: 0.7175\n",
      "Val loss: 0.5581 \t Val acc: 0.7200\n",
      "Best val acc: 0.7900 at epoch 10.\n"
     ]
    },
    {
     "name": "stderr",
     "output_type": "stream",
     "text": [
      "50it [08:40, 10.42s/it]\n"
     ]
    },
    {
     "name": "stdout",
     "output_type": "stream",
     "text": [
      ">> train \t Epoch 32/55 \t Batch 49/50 \t Loss 0.5691 \t Running Acc 0.721 \t Total Acc 0.721 \t Avg Batch Time 10.4200\n",
      "Time: train: 521.00 \t Train loss 0.5691 \t Train acc: 0.7212\n"
     ]
    },
    {
     "name": "stderr",
     "output_type": "stream",
     "text": [
      "7it [00:43,  6.23s/it]\n"
     ]
    },
    {
     "name": "stdout",
     "output_type": "stream",
     "text": [
      ">> val \t Loss 0.5378 \t Running Acc 2.571 \t Total Acc 0.720 \t Avg Batch Time 1.7452\n",
      "Epoch 31/55 finished.\n",
      "Train time: 521.00 \t Val time 43.63\n",
      "Train loss 0.5691 \t Train acc: 0.7212\n",
      "Val loss: 0.5578 \t Val acc: 0.7200\n",
      "Best val acc: 0.7900 at epoch 10.\n"
     ]
    },
    {
     "name": "stderr",
     "output_type": "stream",
     "text": [
      "50it [08:39, 10.40s/it]\n"
     ]
    },
    {
     "name": "stdout",
     "output_type": "stream",
     "text": [
      ">> train \t Epoch 33/55 \t Batch 49/50 \t Loss 0.5706 \t Running Acc 0.725 \t Total Acc 0.725 \t Avg Batch Time 10.3982\n",
      "Time: train: 519.91 \t Train loss 0.5706 \t Train acc: 0.7250\n"
     ]
    },
    {
     "name": "stderr",
     "output_type": "stream",
     "text": [
      "7it [00:43,  6.25s/it]\n"
     ]
    },
    {
     "name": "stdout",
     "output_type": "stream",
     "text": [
      ">> val \t Loss 0.5379 \t Running Acc 2.571 \t Total Acc 0.720 \t Avg Batch Time 1.7504\n",
      "Epoch 32/55 finished.\n",
      "Train time: 519.91 \t Val time 43.76\n",
      "Train loss 0.5706 \t Train acc: 0.7250\n",
      "Val loss: 0.5579 \t Val acc: 0.7200\n",
      "Best val acc: 0.7900 at epoch 10.\n"
     ]
    },
    {
     "name": "stderr",
     "output_type": "stream",
     "text": [
      "50it [08:39, 10.40s/it]\n"
     ]
    },
    {
     "name": "stdout",
     "output_type": "stream",
     "text": [
      ">> train \t Epoch 34/55 \t Batch 49/50 \t Loss 0.5750 \t Running Acc 0.716 \t Total Acc 0.716 \t Avg Batch Time 10.3952\n",
      "Time: train: 519.76 \t Train loss 0.5750 \t Train acc: 0.7163\n"
     ]
    },
    {
     "name": "stderr",
     "output_type": "stream",
     "text": [
      "7it [00:43,  6.22s/it]\n"
     ]
    },
    {
     "name": "stdout",
     "output_type": "stream",
     "text": [
      ">> val \t Loss 0.5379 \t Running Acc 2.571 \t Total Acc 0.720 \t Avg Batch Time 1.7418\n",
      "Epoch 33/55 finished.\n",
      "Train time: 519.76 \t Val time 43.55\n",
      "Train loss 0.5750 \t Train acc: 0.7163\n",
      "Val loss: 0.5579 \t Val acc: 0.7200\n",
      "Best val acc: 0.7900 at epoch 10.\n"
     ]
    },
    {
     "name": "stderr",
     "output_type": "stream",
     "text": [
      "50it [08:38, 10.37s/it]\n"
     ]
    },
    {
     "name": "stdout",
     "output_type": "stream",
     "text": [
      ">> train \t Epoch 35/55 \t Batch 49/50 \t Loss 0.5818 \t Running Acc 0.705 \t Total Acc 0.705 \t Avg Batch Time 10.3743\n",
      "Time: train: 518.71 \t Train loss 0.5818 \t Train acc: 0.7050\n"
     ]
    },
    {
     "name": "stderr",
     "output_type": "stream",
     "text": [
      "7it [00:43,  6.19s/it]\n"
     ]
    },
    {
     "name": "stdout",
     "output_type": "stream",
     "text": [
      ">> val \t Loss 0.5379 \t Running Acc 2.571 \t Total Acc 0.720 \t Avg Batch Time 1.7319\n",
      "Epoch 34/55 finished.\n",
      "Train time: 518.71 \t Val time 43.30\n",
      "Train loss 0.5818 \t Train acc: 0.7050\n",
      "Val loss: 0.5578 \t Val acc: 0.7200\n",
      "Best val acc: 0.7900 at epoch 10.\n"
     ]
    },
    {
     "name": "stderr",
     "output_type": "stream",
     "text": [
      "50it [08:38, 10.38s/it]\n"
     ]
    },
    {
     "name": "stdout",
     "output_type": "stream",
     "text": [
      ">> train \t Epoch 36/55 \t Batch 49/50 \t Loss 0.5607 \t Running Acc 0.726 \t Total Acc 0.726 \t Avg Batch Time 10.3800\n",
      "Time: train: 519.00 \t Train loss 0.5607 \t Train acc: 0.7262\n"
     ]
    },
    {
     "name": "stderr",
     "output_type": "stream",
     "text": [
      "7it [00:43,  6.19s/it]\n"
     ]
    },
    {
     "name": "stdout",
     "output_type": "stream",
     "text": [
      ">> val \t Loss 0.5378 \t Running Acc 2.571 \t Total Acc 0.720 \t Avg Batch Time 1.7344\n",
      "Epoch 35/55 finished.\n",
      "Train time: 519.00 \t Val time 43.36\n",
      "Train loss 0.5607 \t Train acc: 0.7262\n",
      "Val loss: 0.5578 \t Val acc: 0.7200\n",
      "Best val acc: 0.7900 at epoch 10.\n"
     ]
    },
    {
     "name": "stderr",
     "output_type": "stream",
     "text": [
      "50it [08:43, 10.47s/it]\n"
     ]
    },
    {
     "name": "stdout",
     "output_type": "stream",
     "text": [
      ">> train \t Epoch 37/55 \t Batch 49/50 \t Loss 0.5624 \t Running Acc 0.736 \t Total Acc 0.736 \t Avg Batch Time 10.4748\n",
      "Time: train: 523.74 \t Train loss 0.5624 \t Train acc: 0.7362\n"
     ]
    },
    {
     "name": "stderr",
     "output_type": "stream",
     "text": [
      "7it [00:43,  6.18s/it]\n"
     ]
    },
    {
     "name": "stdout",
     "output_type": "stream",
     "text": [
      ">> val \t Loss 0.5378 \t Running Acc 2.571 \t Total Acc 0.720 \t Avg Batch Time 1.7303\n",
      "Epoch 36/55 finished.\n",
      "Train time: 523.74 \t Val time 43.26\n",
      "Train loss 0.5624 \t Train acc: 0.7362\n",
      "Val loss: 0.5578 \t Val acc: 0.7200\n",
      "Best val acc: 0.7900 at epoch 10.\n"
     ]
    },
    {
     "name": "stderr",
     "output_type": "stream",
     "text": [
      "50it [08:39, 10.39s/it]\n"
     ]
    },
    {
     "name": "stdout",
     "output_type": "stream",
     "text": [
      ">> train \t Epoch 38/55 \t Batch 49/50 \t Loss 0.5711 \t Running Acc 0.711 \t Total Acc 0.711 \t Avg Batch Time 10.3920\n",
      "Time: train: 519.60 \t Train loss 0.5711 \t Train acc: 0.7113\n"
     ]
    },
    {
     "name": "stderr",
     "output_type": "stream",
     "text": [
      "7it [00:43,  6.25s/it]\n"
     ]
    },
    {
     "name": "stdout",
     "output_type": "stream",
     "text": [
      ">> val \t Loss 0.5378 \t Running Acc 2.571 \t Total Acc 0.720 \t Avg Batch Time 1.7495\n",
      "Epoch 37/55 finished.\n",
      "Train time: 519.60 \t Val time 43.74\n",
      "Train loss 0.5711 \t Train acc: 0.7113\n",
      "Val loss: 0.5578 \t Val acc: 0.7200\n",
      "Best val acc: 0.7900 at epoch 10.\n"
     ]
    },
    {
     "name": "stderr",
     "output_type": "stream",
     "text": [
      "50it [08:40, 10.41s/it]\n"
     ]
    },
    {
     "name": "stdout",
     "output_type": "stream",
     "text": [
      ">> train \t Epoch 39/55 \t Batch 49/50 \t Loss 0.5651 \t Running Acc 0.729 \t Total Acc 0.729 \t Avg Batch Time 10.4111\n",
      "Time: train: 520.56 \t Train loss 0.5651 \t Train acc: 0.7288\n"
     ]
    },
    {
     "name": "stderr",
     "output_type": "stream",
     "text": [
      "7it [00:43,  6.23s/it]\n"
     ]
    },
    {
     "name": "stdout",
     "output_type": "stream",
     "text": [
      ">> val \t Loss 0.5378 \t Running Acc 2.571 \t Total Acc 0.720 \t Avg Batch Time 1.7439\n",
      "Epoch 38/55 finished.\n",
      "Train time: 520.56 \t Val time 43.60\n",
      "Train loss 0.5651 \t Train acc: 0.7288\n",
      "Val loss: 0.5578 \t Val acc: 0.7200\n",
      "Best val acc: 0.7900 at epoch 10.\n"
     ]
    },
    {
     "name": "stderr",
     "output_type": "stream",
     "text": [
      "50it [08:41, 10.43s/it]\n"
     ]
    },
    {
     "name": "stdout",
     "output_type": "stream",
     "text": [
      ">> train \t Epoch 40/55 \t Batch 49/50 \t Loss 0.5671 \t Running Acc 0.720 \t Total Acc 0.720 \t Avg Batch Time 10.4288\n",
      "Time: train: 521.44 \t Train loss 0.5671 \t Train acc: 0.7200\n"
     ]
    },
    {
     "name": "stderr",
     "output_type": "stream",
     "text": [
      "7it [00:43,  6.28s/it]\n"
     ]
    },
    {
     "name": "stdout",
     "output_type": "stream",
     "text": [
      ">> val \t Loss 0.5378 \t Running Acc 2.571 \t Total Acc 0.720 \t Avg Batch Time 1.7596\n",
      "Epoch 39/55 finished.\n",
      "Train time: 521.44 \t Val time 43.99\n",
      "Train loss 0.5671 \t Train acc: 0.7200\n",
      "Val loss: 0.5578 \t Val acc: 0.7200\n",
      "Best val acc: 0.7900 at epoch 10.\n"
     ]
    },
    {
     "name": "stderr",
     "output_type": "stream",
     "text": [
      "50it [08:34, 10.28s/it]\n"
     ]
    },
    {
     "name": "stdout",
     "output_type": "stream",
     "text": [
      ">> train \t Epoch 41/55 \t Batch 49/50 \t Loss 0.5820 \t Running Acc 0.703 \t Total Acc 0.703 \t Avg Batch Time 10.2813\n",
      "Time: train: 514.06 \t Train loss 0.5820 \t Train acc: 0.7025\n"
     ]
    },
    {
     "name": "stderr",
     "output_type": "stream",
     "text": [
      "7it [00:42,  6.06s/it]\n"
     ]
    },
    {
     "name": "stdout",
     "output_type": "stream",
     "text": [
      ">> val \t Loss 0.5378 \t Running Acc 2.571 \t Total Acc 0.720 \t Avg Batch Time 1.6961\n",
      "Epoch 40/55 finished.\n",
      "Train time: 514.06 \t Val time 42.40\n",
      "Train loss 0.5820 \t Train acc: 0.7025\n",
      "Val loss: 0.5578 \t Val acc: 0.7200\n",
      "Best val acc: 0.7900 at epoch 10.\n"
     ]
    },
    {
     "name": "stderr",
     "output_type": "stream",
     "text": [
      "50it [08:26, 10.14s/it]\n"
     ]
    },
    {
     "name": "stdout",
     "output_type": "stream",
     "text": [
      ">> train \t Epoch 42/55 \t Batch 49/50 \t Loss 0.5742 \t Running Acc 0.710 \t Total Acc 0.710 \t Avg Batch Time 10.1383\n",
      "Time: train: 506.92 \t Train loss 0.5742 \t Train acc: 0.7100\n"
     ]
    },
    {
     "name": "stderr",
     "output_type": "stream",
     "text": [
      "7it [00:42,  6.04s/it]\n"
     ]
    },
    {
     "name": "stdout",
     "output_type": "stream",
     "text": [
      ">> val \t Loss 0.5378 \t Running Acc 2.571 \t Total Acc 0.720 \t Avg Batch Time 1.6919\n",
      "Epoch 41/55 finished.\n",
      "Train time: 506.92 \t Val time 42.30\n",
      "Train loss 0.5742 \t Train acc: 0.7100\n",
      "Val loss: 0.5578 \t Val acc: 0.7200\n",
      "Best val acc: 0.7900 at epoch 10.\n"
     ]
    },
    {
     "name": "stderr",
     "output_type": "stream",
     "text": [
      "50it [08:27, 10.14s/it]\n"
     ]
    },
    {
     "name": "stdout",
     "output_type": "stream",
     "text": [
      ">> train \t Epoch 43/55 \t Batch 49/50 \t Loss 0.5782 \t Running Acc 0.693 \t Total Acc 0.693 \t Avg Batch Time 10.1429\n",
      "Time: train: 507.15 \t Train loss 0.5782 \t Train acc: 0.6925\n"
     ]
    },
    {
     "name": "stderr",
     "output_type": "stream",
     "text": [
      "7it [00:42,  6.03s/it]\n"
     ]
    },
    {
     "name": "stdout",
     "output_type": "stream",
     "text": [
      ">> val \t Loss 0.5378 \t Running Acc 2.571 \t Total Acc 0.720 \t Avg Batch Time 1.6877\n",
      "Epoch 42/55 finished.\n",
      "Train time: 507.15 \t Val time 42.19\n",
      "Train loss 0.5782 \t Train acc: 0.6925\n",
      "Val loss: 0.5578 \t Val acc: 0.7200\n",
      "Best val acc: 0.7900 at epoch 10.\n"
     ]
    },
    {
     "name": "stderr",
     "output_type": "stream",
     "text": [
      "50it [08:26, 10.13s/it]\n"
     ]
    },
    {
     "name": "stdout",
     "output_type": "stream",
     "text": [
      ">> train \t Epoch 44/55 \t Batch 49/50 \t Loss 0.5871 \t Running Acc 0.694 \t Total Acc 0.694 \t Avg Batch Time 10.1255\n",
      "Time: train: 506.27 \t Train loss 0.5871 \t Train acc: 0.6937\n"
     ]
    },
    {
     "name": "stderr",
     "output_type": "stream",
     "text": [
      "7it [00:42,  6.09s/it]\n"
     ]
    },
    {
     "name": "stdout",
     "output_type": "stream",
     "text": [
      ">> val \t Loss 0.5378 \t Running Acc 2.571 \t Total Acc 0.720 \t Avg Batch Time 1.7047\n",
      "Epoch 43/55 finished.\n",
      "Train time: 506.27 \t Val time 42.62\n",
      "Train loss 0.5871 \t Train acc: 0.6937\n",
      "Val loss: 0.5578 \t Val acc: 0.7200\n",
      "Best val acc: 0.7900 at epoch 10.\n"
     ]
    },
    {
     "name": "stderr",
     "output_type": "stream",
     "text": [
      "50it [08:26, 10.13s/it]\n"
     ]
    },
    {
     "name": "stdout",
     "output_type": "stream",
     "text": [
      ">> train \t Epoch 45/55 \t Batch 49/50 \t Loss 0.5673 \t Running Acc 0.731 \t Total Acc 0.731 \t Avg Batch Time 10.1329\n",
      "Time: train: 506.64 \t Train loss 0.5673 \t Train acc: 0.7312\n"
     ]
    },
    {
     "name": "stderr",
     "output_type": "stream",
     "text": [
      "7it [00:42,  6.06s/it]\n"
     ]
    },
    {
     "name": "stdout",
     "output_type": "stream",
     "text": [
      ">> val \t Loss 0.5378 \t Running Acc 2.571 \t Total Acc 0.720 \t Avg Batch Time 1.6973\n",
      "Epoch 44/55 finished.\n",
      "Train time: 506.64 \t Val time 42.43\n",
      "Train loss 0.5673 \t Train acc: 0.7312\n",
      "Val loss: 0.5578 \t Val acc: 0.7200\n",
      "Best val acc: 0.7900 at epoch 10.\n"
     ]
    },
    {
     "name": "stderr",
     "output_type": "stream",
     "text": [
      "50it [08:26, 10.13s/it]\n"
     ]
    },
    {
     "name": "stdout",
     "output_type": "stream",
     "text": [
      ">> train \t Epoch 46/55 \t Batch 49/50 \t Loss 0.5683 \t Running Acc 0.729 \t Total Acc 0.729 \t Avg Batch Time 10.1322\n",
      "Time: train: 506.61 \t Train loss 0.5683 \t Train acc: 0.7288\n"
     ]
    },
    {
     "name": "stderr",
     "output_type": "stream",
     "text": [
      "7it [00:42,  6.05s/it]\n"
     ]
    },
    {
     "name": "stdout",
     "output_type": "stream",
     "text": [
      ">> val \t Loss 0.5378 \t Running Acc 2.571 \t Total Acc 0.720 \t Avg Batch Time 1.6942\n",
      "Epoch 45/55 finished.\n",
      "Train time: 506.61 \t Val time 42.36\n",
      "Train loss 0.5683 \t Train acc: 0.7288\n",
      "Val loss: 0.5578 \t Val acc: 0.7200\n",
      "Best val acc: 0.7900 at epoch 10.\n"
     ]
    },
    {
     "name": "stderr",
     "output_type": "stream",
     "text": [
      "50it [08:27, 10.15s/it]\n"
     ]
    },
    {
     "name": "stdout",
     "output_type": "stream",
     "text": [
      ">> train \t Epoch 47/55 \t Batch 49/50 \t Loss 0.5760 \t Running Acc 0.714 \t Total Acc 0.714 \t Avg Batch Time 10.1453\n",
      "Time: train: 507.26 \t Train loss 0.5760 \t Train acc: 0.7137\n"
     ]
    },
    {
     "name": "stderr",
     "output_type": "stream",
     "text": [
      "7it [00:42,  6.05s/it]\n"
     ]
    },
    {
     "name": "stdout",
     "output_type": "stream",
     "text": [
      ">> val \t Loss 0.5378 \t Running Acc 2.571 \t Total Acc 0.720 \t Avg Batch Time 1.6933\n",
      "Epoch 46/55 finished.\n",
      "Train time: 507.26 \t Val time 42.33\n",
      "Train loss 0.5760 \t Train acc: 0.7137\n",
      "Val loss: 0.5578 \t Val acc: 0.7200\n",
      "Best val acc: 0.7900 at epoch 10.\n"
     ]
    },
    {
     "name": "stderr",
     "output_type": "stream",
     "text": [
      "50it [08:26, 10.12s/it]\n"
     ]
    },
    {
     "name": "stdout",
     "output_type": "stream",
     "text": [
      ">> train \t Epoch 48/55 \t Batch 49/50 \t Loss 0.5732 \t Running Acc 0.710 \t Total Acc 0.710 \t Avg Batch Time 10.1214\n",
      "Time: train: 506.07 \t Train loss 0.5732 \t Train acc: 0.7100\n"
     ]
    },
    {
     "name": "stderr",
     "output_type": "stream",
     "text": [
      "7it [00:42,  6.06s/it]\n"
     ]
    },
    {
     "name": "stdout",
     "output_type": "stream",
     "text": [
      ">> val \t Loss 0.5378 \t Running Acc 2.571 \t Total Acc 0.720 \t Avg Batch Time 1.6975\n",
      "Epoch 47/55 finished.\n",
      "Train time: 506.07 \t Val time 42.44\n",
      "Train loss 0.5732 \t Train acc: 0.7100\n",
      "Val loss: 0.5578 \t Val acc: 0.7200\n",
      "Best val acc: 0.7900 at epoch 10.\n"
     ]
    },
    {
     "name": "stderr",
     "output_type": "stream",
     "text": [
      "50it [08:26, 10.13s/it]\n"
     ]
    },
    {
     "name": "stdout",
     "output_type": "stream",
     "text": [
      ">> train \t Epoch 49/55 \t Batch 49/50 \t Loss 0.5777 \t Running Acc 0.718 \t Total Acc 0.718 \t Avg Batch Time 10.1250\n",
      "Time: train: 506.25 \t Train loss 0.5777 \t Train acc: 0.7175\n"
     ]
    },
    {
     "name": "stderr",
     "output_type": "stream",
     "text": [
      "7it [00:42,  6.04s/it]\n"
     ]
    },
    {
     "name": "stdout",
     "output_type": "stream",
     "text": [
      ">> val \t Loss 0.5378 \t Running Acc 2.571 \t Total Acc 0.720 \t Avg Batch Time 1.6905\n",
      "Epoch 48/55 finished.\n",
      "Train time: 506.25 \t Val time 42.26\n",
      "Train loss 0.5777 \t Train acc: 0.7175\n",
      "Val loss: 0.5578 \t Val acc: 0.7200\n",
      "Best val acc: 0.7900 at epoch 10.\n"
     ]
    },
    {
     "name": "stderr",
     "output_type": "stream",
     "text": [
      "50it [08:26, 10.13s/it]\n"
     ]
    },
    {
     "name": "stdout",
     "output_type": "stream",
     "text": [
      ">> train \t Epoch 50/55 \t Batch 49/50 \t Loss 0.5750 \t Running Acc 0.716 \t Total Acc 0.716 \t Avg Batch Time 10.1323\n",
      "Time: train: 506.61 \t Train loss 0.5750 \t Train acc: 0.7163\n"
     ]
    },
    {
     "name": "stderr",
     "output_type": "stream",
     "text": [
      "7it [00:42,  6.07s/it]\n"
     ]
    },
    {
     "name": "stdout",
     "output_type": "stream",
     "text": [
      ">> val \t Loss 0.5378 \t Running Acc 2.571 \t Total Acc 0.720 \t Avg Batch Time 1.6986\n",
      "Epoch 49/55 finished.\n",
      "Train time: 506.61 \t Val time 42.47\n",
      "Train loss 0.5750 \t Train acc: 0.7163\n",
      "Val loss: 0.5578 \t Val acc: 0.7200\n",
      "Best val acc: 0.7900 at epoch 10.\n"
     ]
    },
    {
     "name": "stderr",
     "output_type": "stream",
     "text": [
      "50it [08:26, 10.13s/it]\n"
     ]
    },
    {
     "name": "stdout",
     "output_type": "stream",
     "text": [
      ">> train \t Epoch 51/55 \t Batch 49/50 \t Loss 0.5660 \t Running Acc 0.721 \t Total Acc 0.721 \t Avg Batch Time 10.1340\n",
      "Time: train: 506.70 \t Train loss 0.5660 \t Train acc: 0.7212\n"
     ]
    },
    {
     "name": "stderr",
     "output_type": "stream",
     "text": [
      "7it [00:42,  6.03s/it]\n"
     ]
    },
    {
     "name": "stdout",
     "output_type": "stream",
     "text": [
      ">> val \t Loss 0.5378 \t Running Acc 2.571 \t Total Acc 0.720 \t Avg Batch Time 1.6882\n",
      "Epoch 50/55 finished.\n",
      "Train time: 506.70 \t Val time 42.21\n",
      "Train loss 0.5660 \t Train acc: 0.7212\n",
      "Val loss: 0.5578 \t Val acc: 0.7200\n",
      "Best val acc: 0.7900 at epoch 10.\n"
     ]
    },
    {
     "name": "stderr",
     "output_type": "stream",
     "text": [
      "50it [08:25, 10.11s/it]\n"
     ]
    },
    {
     "name": "stdout",
     "output_type": "stream",
     "text": [
      ">> train \t Epoch 52/55 \t Batch 49/50 \t Loss 0.5801 \t Running Acc 0.704 \t Total Acc 0.704 \t Avg Batch Time 10.1081\n",
      "Time: train: 505.40 \t Train loss 0.5801 \t Train acc: 0.7037\n"
     ]
    },
    {
     "name": "stderr",
     "output_type": "stream",
     "text": [
      "7it [00:42,  6.02s/it]\n"
     ]
    },
    {
     "name": "stdout",
     "output_type": "stream",
     "text": [
      ">> val \t Loss 0.5378 \t Running Acc 2.571 \t Total Acc 0.720 \t Avg Batch Time 1.6852\n",
      "Epoch 51/55 finished.\n",
      "Train time: 505.40 \t Val time 42.13\n",
      "Train loss 0.5801 \t Train acc: 0.7037\n",
      "Val loss: 0.5578 \t Val acc: 0.7200\n",
      "Best val acc: 0.7900 at epoch 10.\n"
     ]
    },
    {
     "name": "stderr",
     "output_type": "stream",
     "text": [
      "50it [08:24, 10.09s/it]\n"
     ]
    },
    {
     "name": "stdout",
     "output_type": "stream",
     "text": [
      ">> train \t Epoch 53/55 \t Batch 49/50 \t Loss 0.5751 \t Running Acc 0.714 \t Total Acc 0.714 \t Avg Batch Time 10.0925\n",
      "Time: train: 504.62 \t Train loss 0.5751 \t Train acc: 0.7137\n"
     ]
    },
    {
     "name": "stderr",
     "output_type": "stream",
     "text": [
      "7it [00:42,  6.13s/it]\n"
     ]
    },
    {
     "name": "stdout",
     "output_type": "stream",
     "text": [
      ">> val \t Loss 0.5378 \t Running Acc 2.571 \t Total Acc 0.720 \t Avg Batch Time 1.7171\n",
      "Epoch 52/55 finished.\n",
      "Train time: 504.62 \t Val time 42.93\n",
      "Train loss 0.5751 \t Train acc: 0.7137\n",
      "Val loss: 0.5578 \t Val acc: 0.7200\n",
      "Best val acc: 0.7900 at epoch 10.\n"
     ]
    },
    {
     "name": "stderr",
     "output_type": "stream",
     "text": [
      "50it [08:25, 10.11s/it]\n"
     ]
    },
    {
     "name": "stdout",
     "output_type": "stream",
     "text": [
      ">> train \t Epoch 54/55 \t Batch 49/50 \t Loss 0.5597 \t Running Acc 0.741 \t Total Acc 0.741 \t Avg Batch Time 10.1119\n",
      "Time: train: 505.59 \t Train loss 0.5597 \t Train acc: 0.7412\n"
     ]
    },
    {
     "name": "stderr",
     "output_type": "stream",
     "text": [
      "7it [00:42,  6.04s/it]\n"
     ]
    },
    {
     "name": "stdout",
     "output_type": "stream",
     "text": [
      ">> val \t Loss 0.5378 \t Running Acc 2.571 \t Total Acc 0.720 \t Avg Batch Time 1.6912\n",
      "Epoch 53/55 finished.\n",
      "Train time: 505.59 \t Val time 42.28\n",
      "Train loss 0.5597 \t Train acc: 0.7412\n",
      "Val loss: 0.5578 \t Val acc: 0.7200\n",
      "Best val acc: 0.7900 at epoch 10.\n"
     ]
    },
    {
     "name": "stderr",
     "output_type": "stream",
     "text": [
      "50it [08:26, 10.13s/it]\n"
     ]
    },
    {
     "name": "stdout",
     "output_type": "stream",
     "text": [
      ">> train \t Epoch 55/55 \t Batch 49/50 \t Loss 0.5660 \t Running Acc 0.729 \t Total Acc 0.729 \t Avg Batch Time 10.1288\n",
      "Time: train: 506.44 \t Train loss 0.5660 \t Train acc: 0.7288\n"
     ]
    },
    {
     "name": "stderr",
     "output_type": "stream",
     "text": [
      "7it [00:42,  6.09s/it]\n",
      "/tmp/ipykernel_18/813438993.py:142: FutureWarning: You are using `torch.load` with `weights_only=False` (the current default value), which uses the default pickle module implicitly. It is possible to construct malicious pickle data which will execute arbitrary code during unpickling (See https://github.com/pytorch/pytorch/blob/main/SECURITY.md#untrusted-models for more details). In a future release, the default value for `weights_only` will be flipped to `True`. This limits the functions that could be executed during unpickling. Arbitrary objects will no longer be allowed to be loaded via this mode unless they are explicitly allowlisted by the user via `torch.serialization.add_safe_globals`. We recommend you start setting `weights_only=True` for any use case where you don't have full control of the loaded file. Please open an issue on GitHub for any issues related to this experimental feature.\n",
      "  best_model = torch.load(os.path.join(model_path, \"best-val-model.pt\"), map_location=device)\n"
     ]
    },
    {
     "name": "stdout",
     "output_type": "stream",
     "text": [
      ">> val \t Loss 0.5378 \t Running Acc 2.571 \t Total Acc 0.720 \t Avg Batch Time 1.7065\n",
      "Epoch 54/55 finished.\n",
      "Train time: 506.44 \t Val time 42.66\n",
      "Train loss 0.5660 \t Train acc: 0.7288\n",
      "Val loss: 0.5578 \t Val acc: 0.7200\n",
      "Best val acc: 0.7900 at epoch 10.\n"
     ]
    },
    {
     "name": "stderr",
     "output_type": "stream",
     "text": [
      "7it [00:42,  6.05s/it]"
     ]
    },
    {
     "name": "stdout",
     "output_type": "stream",
     "text": [
      ">> test \t Loss 0.5770 \t Running Acc 2.607 \t Total Acc 0.730 \t Avg Batch Time 1.6938\n",
      "Final  tensor([[0.0000, 0.5383, 0.4617],\n",
      "        [1.0000, 0.5307, 0.4693],\n",
      "        [1.0000, 0.5859, 0.4141],\n",
      "        [0.0000, 0.7572, 0.2428],\n",
      "        [1.0000, 0.4580, 0.5420],\n",
      "        [0.0000, 0.5410, 0.4590],\n",
      "        [0.0000, 0.5778, 0.4222],\n",
      "        [0.0000, 0.7046, 0.2954],\n",
      "        [0.0000, 0.4766, 0.5234],\n",
      "        [1.0000, 0.5262, 0.4738],\n",
      "        [1.0000, 0.5812, 0.4188],\n",
      "        [1.0000, 0.3700, 0.6300],\n",
      "        [1.0000, 0.3863, 0.6137],\n",
      "        [0.0000, 0.6911, 0.3089],\n",
      "        [0.0000, 0.6569, 0.3431],\n",
      "        [1.0000, 0.4941, 0.5059],\n",
      "        [0.0000, 0.5516, 0.4484],\n",
      "        [0.0000, 0.5811, 0.4189],\n",
      "        [0.0000, 0.4988, 0.5012],\n",
      "        [1.0000, 0.4001, 0.5999],\n",
      "        [0.0000, 0.5318, 0.4682],\n",
      "        [1.0000, 0.5155, 0.4845],\n",
      "        [1.0000, 0.3942, 0.6058],\n",
      "        [1.0000, 0.3905, 0.6095],\n",
      "        [0.0000, 0.4744, 0.5256],\n",
      "        [0.0000, 0.5815, 0.4185],\n",
      "        [0.0000, 0.6436, 0.3564],\n",
      "        [0.0000, 0.4772, 0.5228],\n",
      "        [0.0000, 0.6608, 0.3392],\n",
      "        [1.0000, 0.5626, 0.4374],\n",
      "        [0.0000, 0.5869, 0.4131],\n",
      "        [1.0000, 0.4892, 0.5108],\n",
      "        [0.0000, 0.4378, 0.5622],\n",
      "        [0.0000, 0.6156, 0.3844],\n",
      "        [1.0000, 0.5124, 0.4876],\n",
      "        [0.0000, 0.6436, 0.3564],\n",
      "        [1.0000, 0.4913, 0.5087],\n",
      "        [0.0000, 0.4257, 0.5743],\n",
      "        [0.0000, 0.6691, 0.3309],\n",
      "        [0.0000, 0.5616, 0.4384],\n",
      "        [0.0000, 0.4456, 0.5544],\n",
      "        [0.0000, 0.5729, 0.4271],\n",
      "        [0.0000, 0.5979, 0.4021],\n",
      "        [1.0000, 0.4627, 0.5373],\n",
      "        [1.0000, 0.4316, 0.5684],\n",
      "        [0.0000, 0.6346, 0.3654],\n",
      "        [0.0000, 0.7656, 0.2344],\n",
      "        [1.0000, 0.5543, 0.4457],\n",
      "        [1.0000, 0.8126, 0.1874],\n",
      "        [0.0000, 0.4285, 0.5715],\n",
      "        [0.0000, 0.5420, 0.4580],\n",
      "        [1.0000, 0.3668, 0.6332],\n",
      "        [1.0000, 0.4264, 0.5736],\n",
      "        [1.0000, 0.6266, 0.3734],\n",
      "        [0.0000, 0.5920, 0.4080],\n",
      "        [1.0000, 0.4202, 0.5798],\n",
      "        [0.0000, 0.6739, 0.3261],\n",
      "        [1.0000, 0.4502, 0.5498],\n",
      "        [1.0000, 0.4314, 0.5686],\n",
      "        [0.0000, 0.4698, 0.5302],\n",
      "        [0.0000, 0.6747, 0.3253],\n",
      "        [1.0000, 0.4582, 0.5418],\n",
      "        [1.0000, 0.4075, 0.5925],\n",
      "        [1.0000, 0.5073, 0.4927],\n",
      "        [1.0000, 0.4317, 0.5683],\n",
      "        [1.0000, 0.3908, 0.6092],\n",
      "        [0.0000, 0.7257, 0.2743],\n",
      "        [1.0000, 0.6045, 0.3955],\n",
      "        [1.0000, 0.3674, 0.6326],\n",
      "        [1.0000, 0.5230, 0.4770],\n",
      "        [1.0000, 0.4944, 0.5056],\n",
      "        [0.0000, 0.4631, 0.5369],\n",
      "        [0.0000, 0.6571, 0.3429],\n",
      "        [1.0000, 0.3652, 0.6348],\n",
      "        [1.0000, 0.4045, 0.5955],\n",
      "        [1.0000, 0.4071, 0.5929],\n",
      "        [0.0000, 0.7082, 0.2918],\n",
      "        [1.0000, 0.4624, 0.5376],\n",
      "        [0.0000, 0.8032, 0.1968],\n",
      "        [0.0000, 0.5983, 0.4017],\n",
      "        [0.0000, 0.4413, 0.5587],\n",
      "        [1.0000, 0.4342, 0.5658],\n",
      "        [0.0000, 0.6433, 0.3567],\n",
      "        [0.0000, 0.7280, 0.2720],\n",
      "        [1.0000, 0.3971, 0.6029],\n",
      "        [0.0000, 0.4852, 0.5148],\n",
      "        [0.0000, 0.6073, 0.3927],\n",
      "        [0.0000, 0.7287, 0.2713],\n",
      "        [1.0000, 0.3657, 0.6343],\n",
      "        [1.0000, 0.4347, 0.5653],\n",
      "        [1.0000, 0.4337, 0.5663],\n",
      "        [0.0000, 0.6523, 0.3477],\n",
      "        [0.0000, 0.6951, 0.3049],\n",
      "        [1.0000, 0.5297, 0.4703],\n",
      "        [1.0000, 0.4970, 0.5030],\n",
      "        [1.0000, 0.4306, 0.5694],\n",
      "        [0.0000, 0.5754, 0.4246],\n",
      "        [0.0000, 0.5883, 0.4117],\n",
      "        [0.0000, 0.8258, 0.1742],\n",
      "        [1.0000, 0.5262, 0.4738]])\n",
      "Test: Loss 0.5855 \t Acc 0.7300 \t AUC: 0.8478 \t 1/eB 0.3: inf \t 1/eB 0.5: 26.0000\n"
     ]
    },
    {
     "name": "stderr",
     "output_type": "stream",
     "text": [
      "\n",
      "/tmp/ipykernel_18/813438993.py:155: RuntimeWarning: divide by zero encountered in scalar divide\n",
      "  'test_auc': auc, 'test_1/eB_0.3':1./eB[0],'test_1/eB_0.5':1./eB[1]}\n",
      "/tmp/ipykernel_18/813438993.py:158: RuntimeWarning: divide by zero encountered in scalar divide\n",
      "  % (test_res['loss'], test_res['acc'], auc, 1./eB[0], 1./eB[1]))\n"
     ]
    }
   ],
   "source": [
    "import os\n",
    "import torch\n",
    "from torch import nn, optim\n",
    "import json, time\n",
    "# import utils_lorentz\n",
    "import numpy as np\n",
    "import torch.distributed as dist\n",
    "from torch.nn.parallel import DistributedDataParallel\n",
    "from torch.optim.lr_scheduler import CosineAnnealingWarmRestarts\n",
    "\n",
    "if __name__ == \"__main__\":\n",
    "\n",
    "    N_EPOCHS = 55 # 60\n",
    "\n",
    "    model_path = \"models/LieEQGNN/\"\n",
    "    log_path = \"logs/LieEQGNN/\"\n",
    "    # utils_lorentz.args_init(args)\n",
    "\n",
    "    ### set random seed\n",
    "    torch.manual_seed(42)\n",
    "    np.random.seed(42)\n",
    "\n",
    "    ### initialize cpu\n",
    "    # dist.init_process_group(backend='nccl')\n",
    "    device = 'cpu' #torch.device(\"cuda\")\n",
    "    dtype = torch.float32\n",
    "\n",
    "    ### load data\n",
    "    # dataloaders = retrieve_dataloaders( batch_size,\n",
    "    #                                     num_data=100000, # use all data\n",
    "    #                                     cache_dir=\"datasets/QMLHEP/quark_gluons/\",\n",
    "    #                                     num_workers=0,\n",
    "    #                                     use_one_hot=True)\n",
    "\n",
    "    model = LieEQGNN(n_scalar = 1, n_hidden = 4, n_class = 2,\\\n",
    "                       dropout = 0.2, n_layers = 1,\\\n",
    "                       c_weight = 1e-3)\n",
    "\n",
    "    model = model.to(device)\n",
    "\n",
    "    ### print model and dataset information\n",
    "    # if (args.local_rank == 0):\n",
    "    pytorch_total_params = sum(p.numel() for p in model.parameters())\n",
    "    print(\"Model Size:\", pytorch_total_params)\n",
    "    for (split, dataloader) in dataloaders.items():\n",
    "        print(f\" {split} samples: {len(dataloader.dataset)}\")\n",
    "\n",
    "    ### optimizer\n",
    "    optimizer = optim.AdamW(model.parameters(), lr=1e-3, weight_decay=1e-2)\n",
    "\n",
    "    ### lr scheduler\n",
    "    base_scheduler = CosineAnnealingWarmRestarts(optimizer, 4, 2, verbose = False)\n",
    "    lr_scheduler = GradualWarmupScheduler(optimizer, multiplier=1,\\\n",
    "                                                warmup_epoch=5,\\\n",
    "                                                after_scheduler=base_scheduler) ## warmup\n",
    "\n",
    "    ### loss function\n",
    "    loss_fn = nn.CrossEntropyLoss()\n",
    "\n",
    "    ### initialize logs\n",
    "    res = {'epochs': [], 'lr' : [],\\\n",
    "           'train_time': [], 'val_time': [],  'train_loss': [], 'val_loss': [],\\\n",
    "           'train_acc': [], 'val_acc': [], 'best_val': 0, 'best_epoch': 0}\n",
    "\n",
    "    ### training and testing\n",
    "    print(\"Training...\")\n",
    "    train(model, res, N_EPOCHS, model_path, log_path)\n",
    "    test(model, res, model_path, log_path)"
   ]
  },
  {
   "cell_type": "code",
   "execution_count": null,
   "id": "f00f5369",
   "metadata": {
    "papermill": {
     "duration": 0.411819,
     "end_time": "2024-10-25T05:26:39.133155",
     "exception": false,
     "start_time": "2024-10-25T05:26:38.721336",
     "status": "completed"
    },
    "tags": []
   },
   "outputs": [],
   "source": []
  }
 ],
 "metadata": {
  "accelerator": "GPU",
  "colab": {
   "gpuType": "T4",
   "provenance": []
  },
  "kaggle": {
   "accelerator": "none",
   "dataSources": [],
   "dockerImageVersionId": 30786,
   "isGpuEnabled": false,
   "isInternetEnabled": true,
   "language": "python",
   "sourceType": "notebook"
  },
  "kernelspec": {
   "display_name": "Python 3",
   "language": "python",
   "name": "python3"
  },
  "language_info": {
   "codemirror_mode": {
    "name": "ipython",
    "version": 3
   },
   "file_extension": ".py",
   "mimetype": "text/x-python",
   "name": "python",
   "nbconvert_exporter": "python",
   "pygments_lexer": "ipython3",
   "version": "3.10.14"
  },
  "papermill": {
   "default_parameters": {},
   "duration": 32733.136661,
   "end_time": "2024-10-25T05:26:42.212556",
   "environment_variables": {},
   "exception": null,
   "input_path": "__notebook__.ipynb",
   "output_path": "__notebook__.ipynb",
   "parameters": {},
   "start_time": "2024-10-24T20:21:09.075895",
   "version": "2.6.0"
  }
 },
 "nbformat": 4,
 "nbformat_minor": 5
}
